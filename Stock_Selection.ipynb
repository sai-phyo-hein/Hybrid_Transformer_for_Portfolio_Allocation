{
  "nbformat": 4,
  "nbformat_minor": 0,
  "metadata": {
    "colab": {
      "provenance": [],
      "mount_file_id": "1K1cuAx6ZYN_-sX7L8q7woNexzZFxO5Zs",
      "authorship_tag": "ABX9TyOEEWjkIE9sbyQERLppLEBk",
      "include_colab_link": true
    },
    "kernelspec": {
      "name": "python3",
      "display_name": "Python 3"
    },
    "language_info": {
      "name": "python"
    }
  },
  "cells": [
    {
      "cell_type": "markdown",
      "metadata": {
        "id": "view-in-github",
        "colab_type": "text"
      },
      "source": [
        "<a href=\"https://colab.research.google.com/github/sai-phyo-hein/Hybrid_Transformer_for_Portfolio_Allocation/blob/main/Stock_Selection.ipynb\" target=\"_parent\"><img src=\"https://colab.research.google.com/assets/colab-badge.svg\" alt=\"Open In Colab\"/></a>"
      ]
    },
    {
      "cell_type": "code",
      "execution_count": null,
      "metadata": {
        "id": "q5-mIiLvlbr6"
      },
      "outputs": [],
      "source": [
        "import duckdb as ddb\n",
        "import pandas as pd"
      ]
    },
    {
      "cell_type": "code",
      "source": [
        "con = ddb.connect('/content/drive/MyDrive/MScFE Capstone Project /MScFE_Capstone_Project_Group_Work/DataSource/nifty_commodity_dataset.db')\n",
        "print(con.sql('select * from duckdb_tables').df()['table_name'])\n",
        "con.close()"
      ],
      "metadata": {
        "id": "FIHCadBimAuh",
        "colab": {
          "base_uri": "https://localhost:8080/"
        },
        "outputId": "3e7501b9-40df-4d92-c5df-1051e5f65a4b"
      },
      "execution_count": null,
      "outputs": [
        {
          "output_type": "stream",
          "name": "stdout",
          "text": [
            "0            ACC\n",
            "1     ADANIENSOL\n",
            "2     ADANIGREEN\n",
            "3     ADANIPOWER\n",
            "4      AMBUJACEM\n",
            "5      APLAPOLLO\n",
            "6           BPCL\n",
            "7      COALINDIA\n",
            "8      DALBHARAT\n",
            "9      DEEPAKNTR\n",
            "10        GRASIM\n",
            "11      HINDALCO\n",
            "12     HINDPETRO\n",
            "13           IOC\n",
            "14    JINDALSTEL\n",
            "15      JSWSTEEL\n",
            "16          NTPC\n",
            "17          ONGC\n",
            "18    PIDILITIND\n",
            "19         PIIND\n",
            "20      RELIANCE\n",
            "21          SAIL\n",
            "22      SHREECEM\n",
            "23           SRF\n",
            "24      TATACHEM\n",
            "25     TATAPOWER\n",
            "26     TATASTEEL\n",
            "27    ULTRACEMCO\n",
            "28           UPL\n",
            "29          VEDL\n",
            "Name: table_name, dtype: object\n"
          ]
        }
      ]
    },
    {
      "cell_type": "code",
      "source": [
        "con = ddb.connect('/content/drive/MyDrive/MScFE Capstone Project /MScFE_Capstone_Project_Group_Work/DataSource/nifty_50_dataset.db')\n",
        "print(con.sql('select * from duckdb_tables').df()['table_name'])\n",
        "con.close()"
      ],
      "metadata": {
        "id": "82yeqfHdpRqO",
        "colab": {
          "base_uri": "https://localhost:8080/"
        },
        "outputId": "e9303835-1f12-4081-8cbf-d762e40f2566"
      },
      "execution_count": null,
      "outputs": [
        {
          "output_type": "stream",
          "name": "stdout",
          "text": [
            "0       ADANIENT\n",
            "1     ADANIPORTS\n",
            "2     APOLLOHOSP\n",
            "3     ASIANPAINT\n",
            "4       AXISBANK\n",
            "5     BAJAJFINSV\n",
            "6     BAJAJ_AUTO\n",
            "7     BAJFINANCE\n",
            "8     BHARTIARTL\n",
            "9           BPCL\n",
            "10     BRITANNIA\n",
            "11         CIPLA\n",
            "12     COALINDIA\n",
            "13      DIVISLAB\n",
            "14       DRREDDY\n",
            "15     EICHERMOT\n",
            "16        GRASIM\n",
            "17       HCLTECH\n",
            "18      HDFCBANK\n",
            "19      HDFCLIFE\n",
            "20    HEROMOTOCO\n",
            "21      HINDALCO\n",
            "22    HINDUNILVR\n",
            "23     ICICIBANK\n",
            "24    INDUSINDBK\n",
            "25          INFY\n",
            "26           ITC\n",
            "27      JSWSTEEL\n",
            "28     KOTAKBANK\n",
            "29            LT\n",
            "30          LTIM\n",
            "31        MARUTI\n",
            "32     NESTLEIND\n",
            "33          NTPC\n",
            "34          ONGC\n",
            "35     POWERGRID\n",
            "36      RELIANCE\n",
            "37       SBILIFE\n",
            "38          SBIN\n",
            "39    SHRIRAMFIN\n",
            "40     SUNPHARMA\n",
            "41    TATACONSUM\n",
            "42    TATAMOTORS\n",
            "43     TATASTEEL\n",
            "44           TCS\n",
            "45         TECHM\n",
            "46         TITAN\n",
            "47    ULTRACEMCO\n",
            "48         WIPRO\n",
            "Name: table_name, dtype: object\n"
          ]
        }
      ]
    },
    {
      "cell_type": "code",
      "source": [
        "con = ddb.connect('/content/drive/MyDrive/MScFE Capstone Project /MScFE_Capstone_Project_Group_Work/DataSource/nifty_50_dataset.db')\n",
        "print(con.sql('select * from TITAN limit 1').df().columns)\n",
        "con.close()"
      ],
      "metadata": {
        "colab": {
          "base_uri": "https://localhost:8080/"
        },
        "id": "xYtWL9vQHqkb",
        "outputId": "10477fb3-ce87-4f35-d61f-031d0cb009be"
      },
      "execution_count": null,
      "outputs": [
        {
          "output_type": "stream",
          "name": "stdout",
          "text": [
            "Index(['_id', 'CH_SYMBOL', 'CH_SERIES', 'CH_MARKET_TYPE',\n",
            "       'CH_TRADE_HIGH_PRICE', 'CH_TRADE_LOW_PRICE', 'CH_OPENING_PRICE',\n",
            "       'CH_CLOSING_PRICE', 'CH_LAST_TRADED_PRICE', 'CH_PREVIOUS_CLS_PRICE',\n",
            "       'CH_TOT_TRADED_QTY', 'CH_TOT_TRADED_VAL', 'CH_52WEEK_HIGH_PRICE',\n",
            "       'CH_52WEEK_LOW_PRICE', 'CH_TOTAL_TRADES', 'CH_ISIN', 'CH_TIMESTAMP',\n",
            "       'TIMESTAMP', 'createdAt', 'updatedAt', '__v', 'SLBMH_TOT_VAL', 'VWAP',\n",
            "       'mTIMESTAMP', 'CA'],\n",
            "      dtype='object')\n"
          ]
        }
      ]
    },
    {
      "cell_type": "markdown",
      "source": [
        "### Equity Selection"
      ],
      "metadata": {
        "id": "PWf9nrHzJ-gU"
      }
    },
    {
      "cell_type": "code",
      "source": [
        "tickers = []\n",
        "date_min = []\n",
        "date_max = []\n",
        "mean_volume = []\n",
        "data_points = []\n",
        "eq_selection_df = pd.DataFrame()\n",
        "\n",
        "con = ddb.connect('/content/drive/MyDrive/MScFE Capstone Project /MScFE_Capstone_Project_Group_Work/DataSource/nifty_50_dataset.db')\n",
        "for ticker in con.sql('select * from duckdb_tables').df()['table_name']:\n",
        "    tickers.append(ticker)\n",
        "    temp_df = con.sql(\n",
        "        f\"\"\"\n",
        "        select min(TIMESTAMP) as min_, max(TIMESTAMP) as max_, count(_id) as shape_, mean(cast(CH_TOTAL_TRADES as float)) as mean_volume from {ticker}\n",
        "        \"\"\"\n",
        "    ).df()\n",
        "    date_min.append(temp_df.min_.values[0])\n",
        "    date_max.append(temp_df.max_.values[0])\n",
        "    data_points.append(temp_df.shape_.values[0])\n",
        "    mean_volume.append(temp_df.mean_volume.values[0])\n",
        "\n",
        "con.close()\n",
        "eq_selection_df['tickers'] = tickers\n",
        "eq_selection_df['date_min'] = date_min\n",
        "eq_selection_df['date_max'] = date_max\n",
        "eq_selection_df['data_points'] = data_points\n",
        "eq_selection_df['mean_volume'] = mean_volume"
      ],
      "metadata": {
        "id": "CnTMBwCXGoyi"
      },
      "execution_count": null,
      "outputs": []
    },
    {
      "cell_type": "code",
      "source": [
        "sorted(eq_selection_df.date_min.unique().tolist())"
      ],
      "metadata": {
        "colab": {
          "base_uri": "https://localhost:8080/"
        },
        "id": "5PjVmvkrITH2",
        "outputId": "226c87fc-57a3-4897-e53f-84de24dd2257"
      },
      "execution_count": null,
      "outputs": [
        {
          "output_type": "execute_result",
          "data": {
            "text/plain": [
              "['2013-12-31T18:30:00.000Z',\n",
              " '2016-07-20T18:30:00.000Z',\n",
              " '2017-10-02T18:30:00.000Z',\n",
              " '2017-11-16T18:30:00.000Z']"
            ]
          },
          "metadata": {},
          "execution_count": 27
        }
      ]
    },
    {
      "cell_type": "code",
      "source": [
        "sorted(eq_selection_df.date_max.unique().tolist())"
      ],
      "metadata": {
        "colab": {
          "base_uri": "https://localhost:8080/"
        },
        "id": "I58YTk_fIyBs",
        "outputId": "acb85677-acdb-45e2-bbe9-d99152bcb135"
      },
      "execution_count": null,
      "outputs": [
        {
          "output_type": "execute_result",
          "data": {
            "text/plain": [
              "['2024-03-27T18:30:00.000Z']"
            ]
          },
          "metadata": {},
          "execution_count": 28
        }
      ]
    },
    {
      "cell_type": "code",
      "source": [
        "eq_selection_df = eq_selection_df[eq_selection_df.date_min == '2013-12-31T18:30:00.000Z']\n",
        "eq_selection_df.tickers.nunique()"
      ],
      "metadata": {
        "colab": {
          "base_uri": "https://localhost:8080/"
        },
        "id": "k_ZUUr2cI4Dp",
        "outputId": "2e0b5439-c481-4af7-c1d1-daab52e7dd8d"
      },
      "execution_count": null,
      "outputs": [
        {
          "output_type": "execute_result",
          "data": {
            "text/plain": [
              "46"
            ]
          },
          "metadata": {},
          "execution_count": 29
        }
      ]
    },
    {
      "cell_type": "code",
      "source": [
        "eq_selection_df.data_points.describe()"
      ],
      "metadata": {
        "colab": {
          "base_uri": "https://localhost:8080/"
        },
        "id": "divc_hZJJK1i",
        "outputId": "083e3594-2cea-4fa5-ee08-e1891b7409ef"
      },
      "execution_count": null,
      "outputs": [
        {
          "output_type": "execute_result",
          "data": {
            "text/plain": [
              "count      46.000000\n",
              "mean     2614.826087\n",
              "std         2.293027\n",
              "min      2610.000000\n",
              "25%      2613.000000\n",
              "50%      2615.000000\n",
              "75%      2616.000000\n",
              "max      2620.000000\n",
              "Name: data_points, dtype: float64"
            ]
          },
          "metadata": {},
          "execution_count": 30
        }
      ]
    },
    {
      "cell_type": "code",
      "source": [
        "eq_selection_df.mean_volume.describe()"
      ],
      "metadata": {
        "colab": {
          "base_uri": "https://localhost:8080/"
        },
        "id": "kBQExjrcMU_R",
        "outputId": "83ad5246-6220-44e8-c796-38f63c7378e4"
      },
      "execution_count": null,
      "outputs": [
        {
          "output_type": "execute_result",
          "data": {
            "text/plain": [
              "count        46.000000\n",
              "mean      79879.761979\n",
              "std       44713.290164\n",
              "min       16736.534635\n",
              "25%       44662.167126\n",
              "50%       70584.422737\n",
              "75%       95279.596521\n",
              "max      187491.141491\n",
              "Name: mean_volume, dtype: float64"
            ]
          },
          "metadata": {},
          "execution_count": 32
        }
      ]
    },
    {
      "cell_type": "code",
      "source": [
        "eq_selection_df[eq_selection_df.mean_volume > 90e3].shape"
      ],
      "metadata": {
        "colab": {
          "base_uri": "https://localhost:8080/"
        },
        "id": "9ZA8xRe2MaHk",
        "outputId": "499d9ad7-9907-410f-c222-21f895303af4"
      },
      "execution_count": null,
      "outputs": [
        {
          "output_type": "execute_result",
          "data": {
            "text/plain": [
              "(14, 5)"
            ]
          },
          "metadata": {},
          "execution_count": 35
        }
      ]
    },
    {
      "cell_type": "code",
      "source": [],
      "metadata": {
        "id": "vOgLZsNyVNCY"
      },
      "execution_count": null,
      "outputs": []
    },
    {
      "cell_type": "markdown",
      "source": [
        "### Commodity Selection"
      ],
      "metadata": {
        "id": "-oYsVnPiKA7c"
      }
    },
    {
      "cell_type": "code",
      "source": [],
      "metadata": {
        "id": "JoaYoKlrJOXk"
      },
      "execution_count": null,
      "outputs": []
    },
    {
      "cell_type": "code",
      "source": [
        "tickers = []\n",
        "date_min = []\n",
        "date_max = []\n",
        "mean_volume = []\n",
        "data_points = []\n",
        "commo_selection_df = pd.DataFrame()\n",
        "\n",
        "con = ddb.connect('/content/drive/MyDrive/MScFE Capstone Project /MScFE_Capstone_Project_Group_Work/DataSource/nifty_commodity_dataset.db')\n",
        "for ticker in con.sql('select * from duckdb_tables').df()['table_name']:\n",
        "    tickers.append(ticker)\n",
        "    temp_df = con.sql(\n",
        "        f\"\"\"\n",
        "        select min(TIMESTAMP) as min_, max(TIMESTAMP) as max_, count(_id) as shape_, mean(cast(CH_TOTAL_TRADES as float)) as mean_volume from {ticker}\n",
        "        \"\"\"\n",
        "    ).df()\n",
        "    date_min.append(temp_df.min_.values[0])\n",
        "    date_max.append(temp_df.max_.values[0])\n",
        "    data_points.append(temp_df.shape_.values[0])\n",
        "    mean_volume.append(temp_df.mean_volume.values[0])\n",
        "\n",
        "con.close()\n",
        "commo_selection_df['tickers'] = tickers\n",
        "commo_selection_df['date_min'] = date_min\n",
        "commo_selection_df['date_max'] = date_max\n",
        "commo_selection_df['data_points'] = data_points\n",
        "commo_selection_df['mean_volume'] = mean_volume"
      ],
      "metadata": {
        "id": "O5DBj4hSKF4N"
      },
      "execution_count": null,
      "outputs": []
    },
    {
      "cell_type": "code",
      "source": [
        "commo_selection_df.head()"
      ],
      "metadata": {
        "colab": {
          "base_uri": "https://localhost:8080/",
          "height": 206
        },
        "outputId": "2ebaa171-d9a4-4110-de6f-371770d435f9",
        "id": "4djW162CKF4O"
      },
      "execution_count": null,
      "outputs": [
        {
          "output_type": "execute_result",
          "data": {
            "text/plain": [
              "      tickers                  date_min                  date_max  \\\n",
              "0         ACC  2013-12-31T18:30:00.000Z  2024-03-27T18:30:00.000Z   \n",
              "1  ADANIENSOL  2015-08-13T18:30:00.000Z  2024-03-27T18:30:00.000Z   \n",
              "2  ADANIGREEN  2018-07-01T18:30:00.000Z  2024-03-27T18:30:00.000Z   \n",
              "3  ADANIPOWER  2013-12-31T18:30:00.000Z  2024-03-27T18:30:00.000Z   \n",
              "4   AMBUJACEM  2013-12-31T18:30:00.000Z  2024-03-27T18:30:00.000Z   \n",
              "\n",
              "   data_points   mean_volume  \n",
              "0         2611  26036.130601  \n",
              "1         2016  20422.510417  \n",
              "2         1410  40915.642553  \n",
              "3         2401  41078.954186  \n",
              "4         2617  45033.693924  "
            ],
            "text/html": [
              "\n",
              "  <div id=\"df-578ee157-ae4e-4f71-b437-fbaf578ac175\" class=\"colab-df-container\">\n",
              "    <div>\n",
              "<style scoped>\n",
              "    .dataframe tbody tr th:only-of-type {\n",
              "        vertical-align: middle;\n",
              "    }\n",
              "\n",
              "    .dataframe tbody tr th {\n",
              "        vertical-align: top;\n",
              "    }\n",
              "\n",
              "    .dataframe thead th {\n",
              "        text-align: right;\n",
              "    }\n",
              "</style>\n",
              "<table border=\"1\" class=\"dataframe\">\n",
              "  <thead>\n",
              "    <tr style=\"text-align: right;\">\n",
              "      <th></th>\n",
              "      <th>tickers</th>\n",
              "      <th>date_min</th>\n",
              "      <th>date_max</th>\n",
              "      <th>data_points</th>\n",
              "      <th>mean_volume</th>\n",
              "    </tr>\n",
              "  </thead>\n",
              "  <tbody>\n",
              "    <tr>\n",
              "      <th>0</th>\n",
              "      <td>ACC</td>\n",
              "      <td>2013-12-31T18:30:00.000Z</td>\n",
              "      <td>2024-03-27T18:30:00.000Z</td>\n",
              "      <td>2611</td>\n",
              "      <td>26036.130601</td>\n",
              "    </tr>\n",
              "    <tr>\n",
              "      <th>1</th>\n",
              "      <td>ADANIENSOL</td>\n",
              "      <td>2015-08-13T18:30:00.000Z</td>\n",
              "      <td>2024-03-27T18:30:00.000Z</td>\n",
              "      <td>2016</td>\n",
              "      <td>20422.510417</td>\n",
              "    </tr>\n",
              "    <tr>\n",
              "      <th>2</th>\n",
              "      <td>ADANIGREEN</td>\n",
              "      <td>2018-07-01T18:30:00.000Z</td>\n",
              "      <td>2024-03-27T18:30:00.000Z</td>\n",
              "      <td>1410</td>\n",
              "      <td>40915.642553</td>\n",
              "    </tr>\n",
              "    <tr>\n",
              "      <th>3</th>\n",
              "      <td>ADANIPOWER</td>\n",
              "      <td>2013-12-31T18:30:00.000Z</td>\n",
              "      <td>2024-03-27T18:30:00.000Z</td>\n",
              "      <td>2401</td>\n",
              "      <td>41078.954186</td>\n",
              "    </tr>\n",
              "    <tr>\n",
              "      <th>4</th>\n",
              "      <td>AMBUJACEM</td>\n",
              "      <td>2013-12-31T18:30:00.000Z</td>\n",
              "      <td>2024-03-27T18:30:00.000Z</td>\n",
              "      <td>2617</td>\n",
              "      <td>45033.693924</td>\n",
              "    </tr>\n",
              "  </tbody>\n",
              "</table>\n",
              "</div>\n",
              "    <div class=\"colab-df-buttons\">\n",
              "\n",
              "  <div class=\"colab-df-container\">\n",
              "    <button class=\"colab-df-convert\" onclick=\"convertToInteractive('df-578ee157-ae4e-4f71-b437-fbaf578ac175')\"\n",
              "            title=\"Convert this dataframe to an interactive table.\"\n",
              "            style=\"display:none;\">\n",
              "\n",
              "  <svg xmlns=\"http://www.w3.org/2000/svg\" height=\"24px\" viewBox=\"0 -960 960 960\">\n",
              "    <path d=\"M120-120v-720h720v720H120Zm60-500h600v-160H180v160Zm220 220h160v-160H400v160Zm0 220h160v-160H400v160ZM180-400h160v-160H180v160Zm440 0h160v-160H620v160ZM180-180h160v-160H180v160Zm440 0h160v-160H620v160Z\"/>\n",
              "  </svg>\n",
              "    </button>\n",
              "\n",
              "  <style>\n",
              "    .colab-df-container {\n",
              "      display:flex;\n",
              "      gap: 12px;\n",
              "    }\n",
              "\n",
              "    .colab-df-convert {\n",
              "      background-color: #E8F0FE;\n",
              "      border: none;\n",
              "      border-radius: 50%;\n",
              "      cursor: pointer;\n",
              "      display: none;\n",
              "      fill: #1967D2;\n",
              "      height: 32px;\n",
              "      padding: 0 0 0 0;\n",
              "      width: 32px;\n",
              "    }\n",
              "\n",
              "    .colab-df-convert:hover {\n",
              "      background-color: #E2EBFA;\n",
              "      box-shadow: 0px 1px 2px rgba(60, 64, 67, 0.3), 0px 1px 3px 1px rgba(60, 64, 67, 0.15);\n",
              "      fill: #174EA6;\n",
              "    }\n",
              "\n",
              "    .colab-df-buttons div {\n",
              "      margin-bottom: 4px;\n",
              "    }\n",
              "\n",
              "    [theme=dark] .colab-df-convert {\n",
              "      background-color: #3B4455;\n",
              "      fill: #D2E3FC;\n",
              "    }\n",
              "\n",
              "    [theme=dark] .colab-df-convert:hover {\n",
              "      background-color: #434B5C;\n",
              "      box-shadow: 0px 1px 3px 1px rgba(0, 0, 0, 0.15);\n",
              "      filter: drop-shadow(0px 1px 2px rgba(0, 0, 0, 0.3));\n",
              "      fill: #FFFFFF;\n",
              "    }\n",
              "  </style>\n",
              "\n",
              "    <script>\n",
              "      const buttonEl =\n",
              "        document.querySelector('#df-578ee157-ae4e-4f71-b437-fbaf578ac175 button.colab-df-convert');\n",
              "      buttonEl.style.display =\n",
              "        google.colab.kernel.accessAllowed ? 'block' : 'none';\n",
              "\n",
              "      async function convertToInteractive(key) {\n",
              "        const element = document.querySelector('#df-578ee157-ae4e-4f71-b437-fbaf578ac175');\n",
              "        const dataTable =\n",
              "          await google.colab.kernel.invokeFunction('convertToInteractive',\n",
              "                                                    [key], {});\n",
              "        if (!dataTable) return;\n",
              "\n",
              "        const docLinkHtml = 'Like what you see? Visit the ' +\n",
              "          '<a target=\"_blank\" href=https://colab.research.google.com/notebooks/data_table.ipynb>data table notebook</a>'\n",
              "          + ' to learn more about interactive tables.';\n",
              "        element.innerHTML = '';\n",
              "        dataTable['output_type'] = 'display_data';\n",
              "        await google.colab.output.renderOutput(dataTable, element);\n",
              "        const docLink = document.createElement('div');\n",
              "        docLink.innerHTML = docLinkHtml;\n",
              "        element.appendChild(docLink);\n",
              "      }\n",
              "    </script>\n",
              "  </div>\n",
              "\n",
              "\n",
              "<div id=\"df-d23ee876-c9c7-46b4-8c90-662eb4443d57\">\n",
              "  <button class=\"colab-df-quickchart\" onclick=\"quickchart('df-d23ee876-c9c7-46b4-8c90-662eb4443d57')\"\n",
              "            title=\"Suggest charts\"\n",
              "            style=\"display:none;\">\n",
              "\n",
              "<svg xmlns=\"http://www.w3.org/2000/svg\" height=\"24px\"viewBox=\"0 0 24 24\"\n",
              "     width=\"24px\">\n",
              "    <g>\n",
              "        <path d=\"M19 3H5c-1.1 0-2 .9-2 2v14c0 1.1.9 2 2 2h14c1.1 0 2-.9 2-2V5c0-1.1-.9-2-2-2zM9 17H7v-7h2v7zm4 0h-2V7h2v10zm4 0h-2v-4h2v4z\"/>\n",
              "    </g>\n",
              "</svg>\n",
              "  </button>\n",
              "\n",
              "<style>\n",
              "  .colab-df-quickchart {\n",
              "      --bg-color: #E8F0FE;\n",
              "      --fill-color: #1967D2;\n",
              "      --hover-bg-color: #E2EBFA;\n",
              "      --hover-fill-color: #174EA6;\n",
              "      --disabled-fill-color: #AAA;\n",
              "      --disabled-bg-color: #DDD;\n",
              "  }\n",
              "\n",
              "  [theme=dark] .colab-df-quickchart {\n",
              "      --bg-color: #3B4455;\n",
              "      --fill-color: #D2E3FC;\n",
              "      --hover-bg-color: #434B5C;\n",
              "      --hover-fill-color: #FFFFFF;\n",
              "      --disabled-bg-color: #3B4455;\n",
              "      --disabled-fill-color: #666;\n",
              "  }\n",
              "\n",
              "  .colab-df-quickchart {\n",
              "    background-color: var(--bg-color);\n",
              "    border: none;\n",
              "    border-radius: 50%;\n",
              "    cursor: pointer;\n",
              "    display: none;\n",
              "    fill: var(--fill-color);\n",
              "    height: 32px;\n",
              "    padding: 0;\n",
              "    width: 32px;\n",
              "  }\n",
              "\n",
              "  .colab-df-quickchart:hover {\n",
              "    background-color: var(--hover-bg-color);\n",
              "    box-shadow: 0 1px 2px rgba(60, 64, 67, 0.3), 0 1px 3px 1px rgba(60, 64, 67, 0.15);\n",
              "    fill: var(--button-hover-fill-color);\n",
              "  }\n",
              "\n",
              "  .colab-df-quickchart-complete:disabled,\n",
              "  .colab-df-quickchart-complete:disabled:hover {\n",
              "    background-color: var(--disabled-bg-color);\n",
              "    fill: var(--disabled-fill-color);\n",
              "    box-shadow: none;\n",
              "  }\n",
              "\n",
              "  .colab-df-spinner {\n",
              "    border: 2px solid var(--fill-color);\n",
              "    border-color: transparent;\n",
              "    border-bottom-color: var(--fill-color);\n",
              "    animation:\n",
              "      spin 1s steps(1) infinite;\n",
              "  }\n",
              "\n",
              "  @keyframes spin {\n",
              "    0% {\n",
              "      border-color: transparent;\n",
              "      border-bottom-color: var(--fill-color);\n",
              "      border-left-color: var(--fill-color);\n",
              "    }\n",
              "    20% {\n",
              "      border-color: transparent;\n",
              "      border-left-color: var(--fill-color);\n",
              "      border-top-color: var(--fill-color);\n",
              "    }\n",
              "    30% {\n",
              "      border-color: transparent;\n",
              "      border-left-color: var(--fill-color);\n",
              "      border-top-color: var(--fill-color);\n",
              "      border-right-color: var(--fill-color);\n",
              "    }\n",
              "    40% {\n",
              "      border-color: transparent;\n",
              "      border-right-color: var(--fill-color);\n",
              "      border-top-color: var(--fill-color);\n",
              "    }\n",
              "    60% {\n",
              "      border-color: transparent;\n",
              "      border-right-color: var(--fill-color);\n",
              "    }\n",
              "    80% {\n",
              "      border-color: transparent;\n",
              "      border-right-color: var(--fill-color);\n",
              "      border-bottom-color: var(--fill-color);\n",
              "    }\n",
              "    90% {\n",
              "      border-color: transparent;\n",
              "      border-bottom-color: var(--fill-color);\n",
              "    }\n",
              "  }\n",
              "</style>\n",
              "\n",
              "  <script>\n",
              "    async function quickchart(key) {\n",
              "      const quickchartButtonEl =\n",
              "        document.querySelector('#' + key + ' button');\n",
              "      quickchartButtonEl.disabled = true;  // To prevent multiple clicks.\n",
              "      quickchartButtonEl.classList.add('colab-df-spinner');\n",
              "      try {\n",
              "        const charts = await google.colab.kernel.invokeFunction(\n",
              "            'suggestCharts', [key], {});\n",
              "      } catch (error) {\n",
              "        console.error('Error during call to suggestCharts:', error);\n",
              "      }\n",
              "      quickchartButtonEl.classList.remove('colab-df-spinner');\n",
              "      quickchartButtonEl.classList.add('colab-df-quickchart-complete');\n",
              "    }\n",
              "    (() => {\n",
              "      let quickchartButtonEl =\n",
              "        document.querySelector('#df-d23ee876-c9c7-46b4-8c90-662eb4443d57 button');\n",
              "      quickchartButtonEl.style.display =\n",
              "        google.colab.kernel.accessAllowed ? 'block' : 'none';\n",
              "    })();\n",
              "  </script>\n",
              "</div>\n",
              "    </div>\n",
              "  </div>\n"
            ],
            "application/vnd.google.colaboratory.intrinsic+json": {
              "type": "dataframe",
              "variable_name": "commo_selection_df",
              "summary": "{\n  \"name\": \"commo_selection_df\",\n  \"rows\": 30,\n  \"fields\": [\n    {\n      \"column\": \"tickers\",\n      \"properties\": {\n        \"dtype\": \"string\",\n        \"num_unique_values\": 30,\n        \"samples\": [\n          \"ULTRACEMCO\",\n          \"JSWSTEEL\",\n          \"SRF\"\n        ],\n        \"semantic_type\": \"\",\n        \"description\": \"\"\n      }\n    },\n    {\n      \"column\": \"date_min\",\n      \"properties\": {\n        \"dtype\": \"object\",\n        \"num_unique_values\": 5,\n        \"samples\": [\n          \"2015-08-13T18:30:00.000Z\",\n          \"2014-01-01T18:30:00.000Z\",\n          \"2018-07-01T18:30:00.000Z\"\n        ],\n        \"semantic_type\": \"\",\n        \"description\": \"\"\n      }\n    },\n    {\n      \"column\": \"date_max\",\n      \"properties\": {\n        \"dtype\": \"object\",\n        \"num_unique_values\": 1,\n        \"samples\": [\n          \"2024-03-27T18:30:00.000Z\"\n        ],\n        \"semantic_type\": \"\",\n        \"description\": \"\"\n      }\n    },\n    {\n      \"column\": \"data_points\",\n      \"properties\": {\n        \"dtype\": \"number\",\n        \"std\": 330,\n        \"min\": 1323,\n        \"max\": 2622,\n        \"num_unique_values\": 15,\n        \"samples\": [\n          2613\n        ],\n        \"semantic_type\": \"\",\n        \"description\": \"\"\n      }\n    },\n    {\n      \"column\": \"mean_volume\",\n      \"properties\": {\n        \"dtype\": \"number\",\n        \"std\": 36654.49002274574,\n        \"min\": 9631.944593045471,\n        \"max\": 184568.36954858454,\n        \"num_unique_values\": 30,\n        \"samples\": [\n          35921.62418675851\n        ],\n        \"semantic_type\": \"\",\n        \"description\": \"\"\n      }\n    }\n  ]\n}"
            }
          },
          "metadata": {},
          "execution_count": 44
        }
      ]
    },
    {
      "cell_type": "code",
      "source": [
        "sorted(commo_selection_df.date_min.unique().tolist())"
      ],
      "metadata": {
        "colab": {
          "base_uri": "https://localhost:8080/"
        },
        "outputId": "79017ebb-af25-49fb-a25b-7732d8cb5e9e",
        "id": "XCulQmMFKF4O"
      },
      "execution_count": null,
      "outputs": [
        {
          "output_type": "execute_result",
          "data": {
            "text/plain": [
              "['2013-12-31T18:30:00.000Z',\n",
              " '2014-01-01T18:30:00.000Z',\n",
              " '2015-08-13T18:30:00.000Z',\n",
              " '2018-07-01T18:30:00.000Z',\n",
              " '2019-02-04T18:30:00.000Z']"
            ]
          },
          "metadata": {},
          "execution_count": 45
        }
      ]
    },
    {
      "cell_type": "code",
      "source": [
        "sorted(commo_selection_df.date_max.unique().tolist())"
      ],
      "metadata": {
        "colab": {
          "base_uri": "https://localhost:8080/"
        },
        "outputId": "faef1424-a16e-48eb-fc7e-1b25ae75fa45",
        "id": "JdMFva7KKF4P"
      },
      "execution_count": null,
      "outputs": [
        {
          "output_type": "execute_result",
          "data": {
            "text/plain": [
              "['2024-03-27T18:30:00.000Z']"
            ]
          },
          "metadata": {},
          "execution_count": 46
        }
      ]
    },
    {
      "cell_type": "code",
      "source": [
        "commo_selection_df = commo_selection_df[commo_selection_df.date_min == '2013-12-31T18:30:00.000Z']\n",
        "commo_selection_df.tickers.nunique()"
      ],
      "metadata": {
        "colab": {
          "base_uri": "https://localhost:8080/"
        },
        "outputId": "5448b954-9974-4116-971d-ad3cf66420e9",
        "id": "1ANgdr3iKF4P"
      },
      "execution_count": null,
      "outputs": [
        {
          "output_type": "execute_result",
          "data": {
            "text/plain": [
              "26"
            ]
          },
          "metadata": {},
          "execution_count": 47
        }
      ]
    },
    {
      "cell_type": "code",
      "source": [
        "commo_selection_df.data_points.describe()"
      ],
      "metadata": {
        "colab": {
          "base_uri": "https://localhost:8080/"
        },
        "outputId": "9e31a0bd-8e9e-4208-e0df-d847cac15a24",
        "id": "OT60s80KKF4Q"
      },
      "execution_count": null,
      "outputs": [
        {
          "output_type": "execute_result",
          "data": {
            "text/plain": [
              "count      26.000000\n",
              "mean     2607.000000\n",
              "std        42.119829\n",
              "min      2401.000000\n",
              "25%      2613.000000\n",
              "50%      2615.500000\n",
              "75%      2617.000000\n",
              "max      2622.000000\n",
              "Name: data_points, dtype: float64"
            ]
          },
          "metadata": {},
          "execution_count": 48
        }
      ]
    },
    {
      "cell_type": "code",
      "source": [
        "commo_selection_df.mean_volume.describe()"
      ],
      "metadata": {
        "colab": {
          "base_uri": "https://localhost:8080/"
        },
        "id": "1hWwFjAIKdKM",
        "outputId": "65a18a78-8e7d-4207-f38b-5d525a652ce8"
      },
      "execution_count": null,
      "outputs": [
        {
          "output_type": "execute_result",
          "data": {
            "text/plain": [
              "count        26.000000\n",
              "mean      54543.566637\n",
              "std       37542.069383\n",
              "min        9631.944593\n",
              "25%       28718.813463\n",
              "50%       51305.962108\n",
              "75%       65800.996802\n",
              "max      184568.369549\n",
              "Name: mean_volume, dtype: float64"
            ]
          },
          "metadata": {},
          "execution_count": 49
        }
      ]
    },
    {
      "cell_type": "code",
      "source": [
        "commo_selection_df[commo_selection_df.mean_volume > 65e3].shape"
      ],
      "metadata": {
        "colab": {
          "base_uri": "https://localhost:8080/"
        },
        "id": "AD5AHyrPM0Eo",
        "outputId": "e50e4944-db9a-4668-9760-2eb8f7d05b14"
      },
      "execution_count": null,
      "outputs": [
        {
          "output_type": "execute_result",
          "data": {
            "text/plain": [
              "(7, 5)"
            ]
          },
          "metadata": {},
          "execution_count": 51
        }
      ]
    },
    {
      "cell_type": "code",
      "source": [],
      "metadata": {
        "id": "3OF0HM3qNC21"
      },
      "execution_count": null,
      "outputs": []
    }
  ]
}