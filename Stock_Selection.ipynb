{
  "nbformat": 4,
  "nbformat_minor": 0,
  "metadata": {
    "colab": {
      "provenance": [],
      "mount_file_id": "https://github.com/sai-phyo-hein/Hybrid_Transformer_for_Portfolio_Allocation/blob/main/Stock_Selection.ipynb",
      "authorship_tag": "ABX9TyMzEpg0ZVz/4hZbm0HkEw2z",
      "include_colab_link": true
    },
    "kernelspec": {
      "name": "python3",
      "display_name": "Python 3"
    },
    "language_info": {
      "name": "python"
    }
  },
  "cells": [
    {
      "cell_type": "markdown",
      "metadata": {
        "id": "view-in-github",
        "colab_type": "text"
      },
      "source": [
        "<a href=\"https://colab.research.google.com/github/sai-phyo-hein/Hybrid_Transformer_for_Portfolio_Allocation/blob/main/Stock_Selection.ipynb\" target=\"_parent\"><img src=\"https://colab.research.google.com/assets/colab-badge.svg\" alt=\"Open In Colab\"/></a>"
      ]
    },
    {
      "cell_type": "code",
      "execution_count": 1,
      "metadata": {
        "id": "q5-mIiLvlbr6"
      },
      "outputs": [],
      "source": [
        "import duckdb as ddb\n",
        "import pandas as pd"
      ]
    },
    {
      "cell_type": "code",
      "source": [
        "###Listing all Tickers in Nifty 50 (listed during Apr 2024)\n",
        "con = ddb.connect('/content/drive/MyDrive/MScFE Capstone Project /MScFE_Capstone_Project_Group_Work/DataSource/nifty_commodity_dataset.db')\n",
        "print(con.sql('select * from duckdb_tables').df()['table_name'])\n",
        "con.close()"
      ],
      "metadata": {
        "id": "FIHCadBimAuh",
        "colab": {
          "base_uri": "https://localhost:8080/"
        },
        "outputId": "7aa6380b-dac0-4bf8-c67c-1aea1416404b"
      },
      "execution_count": 2,
      "outputs": [
        {
          "output_type": "stream",
          "name": "stdout",
          "text": [
            "0            ACC\n",
            "1     ADANIENSOL\n",
            "2     ADANIGREEN\n",
            "3     ADANIPOWER\n",
            "4      AMBUJACEM\n",
            "5      APLAPOLLO\n",
            "6           BPCL\n",
            "7      COALINDIA\n",
            "8      DALBHARAT\n",
            "9      DEEPAKNTR\n",
            "10        GRASIM\n",
            "11      HINDALCO\n",
            "12     HINDPETRO\n",
            "13           IOC\n",
            "14    JINDALSTEL\n",
            "15      JSWSTEEL\n",
            "16          NTPC\n",
            "17          ONGC\n",
            "18    PIDILITIND\n",
            "19         PIIND\n",
            "20      RELIANCE\n",
            "21          SAIL\n",
            "22      SHREECEM\n",
            "23           SRF\n",
            "24      TATACHEM\n",
            "25     TATAPOWER\n",
            "26     TATASTEEL\n",
            "27    ULTRACEMCO\n",
            "28           UPL\n",
            "29          VEDL\n",
            "Name: table_name, dtype: object\n"
          ]
        }
      ]
    },
    {
      "cell_type": "code",
      "source": [
        "### Listing all tickers in Nifty Commodity (listed during Apr 2024)\n",
        "con = ddb.connect('/content/drive/MyDrive/MScFE Capstone Project /MScFE_Capstone_Project_Group_Work/DataSource/nifty_50_dataset.db')\n",
        "print(con.sql('select * from duckdb_tables').df()['table_name'])\n",
        "con.close()"
      ],
      "metadata": {
        "id": "82yeqfHdpRqO",
        "colab": {
          "base_uri": "https://localhost:8080/"
        },
        "outputId": "488b2b2f-d4ad-43e4-f318-fb2be19febe0"
      },
      "execution_count": 4,
      "outputs": [
        {
          "output_type": "stream",
          "name": "stdout",
          "text": [
            "0       ADANIENT\n",
            "1     ADANIPORTS\n",
            "2     APOLLOHOSP\n",
            "3     ASIANPAINT\n",
            "4       AXISBANK\n",
            "5     BAJAJFINSV\n",
            "6     BAJAJ_AUTO\n",
            "7     BAJFINANCE\n",
            "8     BHARTIARTL\n",
            "9           BPCL\n",
            "10     BRITANNIA\n",
            "11         CIPLA\n",
            "12     COALINDIA\n",
            "13      DIVISLAB\n",
            "14       DRREDDY\n",
            "15     EICHERMOT\n",
            "16        GRASIM\n",
            "17       HCLTECH\n",
            "18      HDFCBANK\n",
            "19      HDFCLIFE\n",
            "20    HEROMOTOCO\n",
            "21      HINDALCO\n",
            "22    HINDUNILVR\n",
            "23     ICICIBANK\n",
            "24    INDUSINDBK\n",
            "25          INFY\n",
            "26           ITC\n",
            "27      JSWSTEEL\n",
            "28     KOTAKBANK\n",
            "29            LT\n",
            "30          LTIM\n",
            "31        MARUTI\n",
            "32     NESTLEIND\n",
            "33          NTPC\n",
            "34          ONGC\n",
            "35     POWERGRID\n",
            "36      RELIANCE\n",
            "37       SBILIFE\n",
            "38          SBIN\n",
            "39    SHRIRAMFIN\n",
            "40     SUNPHARMA\n",
            "41    TATACONSUM\n",
            "42    TATAMOTORS\n",
            "43     TATASTEEL\n",
            "44           TCS\n",
            "45         TECHM\n",
            "46         TITAN\n",
            "47    ULTRACEMCO\n",
            "48         WIPRO\n",
            "Name: table_name, dtype: object\n"
          ]
        }
      ]
    },
    {
      "cell_type": "code",
      "source": [
        "### Columns available for each ticker historical data\n",
        "con = ddb.connect('/content/drive/MyDrive/MScFE Capstone Project /MScFE_Capstone_Project_Group_Work/DataSource/nifty_50_dataset.db')\n",
        "print(con.sql('select * from TITAN limit 1').df().columns)\n",
        "con.close()"
      ],
      "metadata": {
        "colab": {
          "base_uri": "https://localhost:8080/"
        },
        "id": "xYtWL9vQHqkb",
        "outputId": "1a7f3b77-0296-47bd-879f-9cf719fd5883"
      },
      "execution_count": 5,
      "outputs": [
        {
          "output_type": "stream",
          "name": "stdout",
          "text": [
            "Index(['_id', 'CH_SYMBOL', 'CH_SERIES', 'CH_MARKET_TYPE',\n",
            "       'CH_TRADE_HIGH_PRICE', 'CH_TRADE_LOW_PRICE', 'CH_OPENING_PRICE',\n",
            "       'CH_CLOSING_PRICE', 'CH_LAST_TRADED_PRICE', 'CH_PREVIOUS_CLS_PRICE',\n",
            "       'CH_TOT_TRADED_QTY', 'CH_TOT_TRADED_VAL', 'CH_52WEEK_HIGH_PRICE',\n",
            "       'CH_52WEEK_LOW_PRICE', 'CH_TOTAL_TRADES', 'CH_ISIN', 'CH_TIMESTAMP',\n",
            "       'TIMESTAMP', 'createdAt', 'updatedAt', '__v', 'SLBMH_TOT_VAL', 'VWAP',\n",
            "       'mTIMESTAMP', 'CA'],\n",
            "      dtype='object')\n"
          ]
        }
      ]
    },
    {
      "cell_type": "markdown",
      "source": [
        "### Equity Selection"
      ],
      "metadata": {
        "id": "PWf9nrHzJ-gU"
      }
    },
    {
      "cell_type": "code",
      "source": [
        "### Checking whether there are tickers of later IPO whose historical data start\n",
        "### very later than 2014-01-01\n",
        "\n",
        "tickers = []\n",
        "date_min = []\n",
        "date_max = []\n",
        "mean_volume = []\n",
        "data_points = []\n",
        "eq_selection_df = pd.DataFrame()\n",
        "\n",
        "con = ddb.connect('/content/drive/MyDrive/MScFE Capstone Project /MScFE_Capstone_Project_Group_Work/DataSource/nifty_50_dataset.db')\n",
        "for ticker in con.sql('select * from duckdb_tables').df()['table_name']:\n",
        "    tickers.append(ticker)\n",
        "    temp_df = con.sql(\n",
        "        f\"\"\"\n",
        "        select min(TIMESTAMP) as min_, max(TIMESTAMP) as max_, count(_id) as shape_, mean(cast(CH_TOTAL_TRADES as float)) as mean_volume from {ticker}\n",
        "        \"\"\"\n",
        "    ).df()\n",
        "    date_min.append(temp_df.min_.values[0])\n",
        "    date_max.append(temp_df.max_.values[0])\n",
        "    data_points.append(temp_df.shape_.values[0])\n",
        "    mean_volume.append(temp_df.mean_volume.values[0])\n",
        "\n",
        "con.close()\n",
        "eq_selection_df['tickers'] = tickers\n",
        "eq_selection_df['date_min'] = date_min\n",
        "eq_selection_df['date_max'] = date_max\n",
        "eq_selection_df['data_points'] = data_points\n",
        "eq_selection_df['mean_volume'] = mean_volume"
      ],
      "metadata": {
        "id": "CnTMBwCXGoyi"
      },
      "execution_count": 6,
      "outputs": []
    },
    {
      "cell_type": "code",
      "source": [
        "sorted(eq_selection_df.date_min.unique().tolist())"
      ],
      "metadata": {
        "colab": {
          "base_uri": "https://localhost:8080/"
        },
        "id": "5PjVmvkrITH2",
        "outputId": "b53eba0a-fa8a-44e7-807a-5e1c7a1fc549"
      },
      "execution_count": 8,
      "outputs": [
        {
          "output_type": "execute_result",
          "data": {
            "text/plain": [
              "['2013-12-31T18:30:00.000Z',\n",
              " '2016-07-20T18:30:00.000Z',\n",
              " '2017-10-02T18:30:00.000Z',\n",
              " '2017-11-16T18:30:00.000Z']"
            ]
          },
          "metadata": {},
          "execution_count": 8
        }
      ]
    },
    {
      "cell_type": "markdown",
      "source": [
        "There are 4 unique start date of data."
      ],
      "metadata": {
        "id": "WH3LDQl7J1Ft"
      }
    },
    {
      "cell_type": "code",
      "source": [
        "sorted(eq_selection_df.date_max.unique().tolist())"
      ],
      "metadata": {
        "colab": {
          "base_uri": "https://localhost:8080/"
        },
        "id": "I58YTk_fIyBs",
        "outputId": "3b43816d-47c0-460a-f788-34b753967884"
      },
      "execution_count": 9,
      "outputs": [
        {
          "output_type": "execute_result",
          "data": {
            "text/plain": [
              "['2024-03-27T18:30:00.000Z']"
            ]
          },
          "metadata": {},
          "execution_count": 9
        }
      ]
    },
    {
      "cell_type": "markdown",
      "source": [
        "All datasets end in 2024-03-27"
      ],
      "metadata": {
        "id": "AvBc9JJTJ40Y"
      }
    },
    {
      "cell_type": "code",
      "source": [
        "eq_selection_df = eq_selection_df[eq_selection_df.date_min == '2013-12-31T18:30:00.000Z']\n",
        "eq_selection_df.tickers.nunique()"
      ],
      "metadata": {
        "colab": {
          "base_uri": "https://localhost:8080/"
        },
        "id": "k_ZUUr2cI4Dp",
        "outputId": "8da0d63f-6efe-4d58-f9d2-49aba5eba35f"
      },
      "execution_count": 10,
      "outputs": [
        {
          "output_type": "execute_result",
          "data": {
            "text/plain": [
              "46"
            ]
          },
          "metadata": {},
          "execution_count": 10
        }
      ]
    },
    {
      "cell_type": "markdown",
      "source": [
        "Removing all datasets not starting at 2014-01-01 gives 46 tickers."
      ],
      "metadata": {
        "id": "crSfNGRTJ-UU"
      }
    },
    {
      "cell_type": "code",
      "source": [
        "eq_selection_df.data_points.describe()"
      ],
      "metadata": {
        "colab": {
          "base_uri": "https://localhost:8080/"
        },
        "id": "divc_hZJJK1i",
        "outputId": "97f758fe-6e44-4669-8d67-e5dee0dfb5e9"
      },
      "execution_count": 11,
      "outputs": [
        {
          "output_type": "execute_result",
          "data": {
            "text/plain": [
              "count      46.000000\n",
              "mean     2614.826087\n",
              "std         2.293027\n",
              "min      2610.000000\n",
              "25%      2613.000000\n",
              "50%      2615.000000\n",
              "75%      2616.000000\n",
              "max      2620.000000\n",
              "Name: data_points, dtype: float64"
            ]
          },
          "metadata": {},
          "execution_count": 11
        }
      ]
    },
    {
      "cell_type": "markdown",
      "source": [
        "There are enough datapoints with only 2 standard deviation for all dataset selected. To include all 46 tickers to the transformer model for the initial step will consume a lot of computitional power and we would like to reduce the count, thus, we selected the top 25% of high liquid assets from those 46 tickers."
      ],
      "metadata": {
        "id": "h3gIkXTCKKHT"
      }
    },
    {
      "cell_type": "code",
      "source": [
        "eq_selection_df.mean_volume.describe()"
      ],
      "metadata": {
        "colab": {
          "base_uri": "https://localhost:8080/"
        },
        "id": "kBQExjrcMU_R",
        "outputId": "6babd3a8-2d22-4f04-bb38-f4d32cb30bfc"
      },
      "execution_count": 13,
      "outputs": [
        {
          "output_type": "execute_result",
          "data": {
            "text/plain": [
              "count        46.000000\n",
              "mean      79879.761979\n",
              "std       44713.290164\n",
              "min       16736.534635\n",
              "25%       44662.167126\n",
              "50%       70584.422737\n",
              "75%       95279.596521\n",
              "max      187491.141491\n",
              "Name: mean_volume, dtype: float64"
            ]
          },
          "metadata": {},
          "execution_count": 13
        }
      ]
    },
    {
      "cell_type": "code",
      "source": [
        "eq_selection_df[eq_selection_df.mean_volume > eq_selection_df.mean_volume.quantile(0.75)].shape"
      ],
      "metadata": {
        "colab": {
          "base_uri": "https://localhost:8080/"
        },
        "id": "9ZA8xRe2MaHk",
        "outputId": "c65d5815-8709-4399-e7b8-c1920d551f9d"
      },
      "execution_count": 17,
      "outputs": [
        {
          "output_type": "execute_result",
          "data": {
            "text/plain": [
              "(12, 5)"
            ]
          },
          "metadata": {},
          "execution_count": 17
        }
      ]
    },
    {
      "cell_type": "markdown",
      "source": [
        "### Commodity Selection"
      ],
      "metadata": {
        "id": "-oYsVnPiKA7c"
      }
    },
    {
      "cell_type": "code",
      "source": [
        "### Checking whether there are tickers of later IPO whose historical data start\n",
        "### very later than 2014-01-01\n",
        "\n",
        "tickers = []\n",
        "date_min = []\n",
        "date_max = []\n",
        "mean_volume = []\n",
        "data_points = []\n",
        "commo_selection_df = pd.DataFrame()\n",
        "\n",
        "con = ddb.connect('/content/drive/MyDrive/MScFE Capstone Project /MScFE_Capstone_Project_Group_Work/DataSource/nifty_commodity_dataset.db')\n",
        "for ticker in con.sql('select * from duckdb_tables').df()['table_name']:\n",
        "    tickers.append(ticker)\n",
        "    temp_df = con.sql(\n",
        "        f\"\"\"\n",
        "        select min(TIMESTAMP) as min_, max(TIMESTAMP) as max_, count(_id) as shape_, mean(cast(CH_TOTAL_TRADES as float)) as mean_volume from {ticker}\n",
        "        \"\"\"\n",
        "    ).df()\n",
        "    date_min.append(temp_df.min_.values[0])\n",
        "    date_max.append(temp_df.max_.values[0])\n",
        "    data_points.append(temp_df.shape_.values[0])\n",
        "    mean_volume.append(temp_df.mean_volume.values[0])\n",
        "\n",
        "con.close()\n",
        "commo_selection_df['tickers'] = tickers\n",
        "commo_selection_df['date_min'] = date_min\n",
        "commo_selection_df['date_max'] = date_max\n",
        "commo_selection_df['data_points'] = data_points\n",
        "commo_selection_df['mean_volume'] = mean_volume"
      ],
      "metadata": {
        "id": "O5DBj4hSKF4N"
      },
      "execution_count": 18,
      "outputs": []
    },
    {
      "cell_type": "code",
      "source": [
        "commo_selection_df.head()"
      ],
      "metadata": {
        "colab": {
          "base_uri": "https://localhost:8080/",
          "height": 206
        },
        "outputId": "dc7f6794-951b-405d-c05d-0ba6e3e83668",
        "id": "4djW162CKF4O"
      },
      "execution_count": 19,
      "outputs": [
        {
          "output_type": "execute_result",
          "data": {
            "text/plain": [
              "      tickers                  date_min                  date_max  \\\n",
              "0         ACC  2013-12-31T18:30:00.000Z  2024-03-27T18:30:00.000Z   \n",
              "1  ADANIENSOL  2015-08-13T18:30:00.000Z  2024-03-27T18:30:00.000Z   \n",
              "2  ADANIGREEN  2018-07-01T18:30:00.000Z  2024-03-27T18:30:00.000Z   \n",
              "3  ADANIPOWER  2013-12-31T18:30:00.000Z  2024-03-27T18:30:00.000Z   \n",
              "4   AMBUJACEM  2013-12-31T18:30:00.000Z  2024-03-27T18:30:00.000Z   \n",
              "\n",
              "   data_points   mean_volume  \n",
              "0         2611  26036.130601  \n",
              "1         2016  20422.510417  \n",
              "2         1410  40915.642553  \n",
              "3         2401  41078.954186  \n",
              "4         2617  45033.693924  "
            ],
            "text/html": [
              "\n",
              "  <div id=\"df-b147a42c-1924-4a4d-ad65-87f6c43ab0f9\" class=\"colab-df-container\">\n",
              "    <div>\n",
              "<style scoped>\n",
              "    .dataframe tbody tr th:only-of-type {\n",
              "        vertical-align: middle;\n",
              "    }\n",
              "\n",
              "    .dataframe tbody tr th {\n",
              "        vertical-align: top;\n",
              "    }\n",
              "\n",
              "    .dataframe thead th {\n",
              "        text-align: right;\n",
              "    }\n",
              "</style>\n",
              "<table border=\"1\" class=\"dataframe\">\n",
              "  <thead>\n",
              "    <tr style=\"text-align: right;\">\n",
              "      <th></th>\n",
              "      <th>tickers</th>\n",
              "      <th>date_min</th>\n",
              "      <th>date_max</th>\n",
              "      <th>data_points</th>\n",
              "      <th>mean_volume</th>\n",
              "    </tr>\n",
              "  </thead>\n",
              "  <tbody>\n",
              "    <tr>\n",
              "      <th>0</th>\n",
              "      <td>ACC</td>\n",
              "      <td>2013-12-31T18:30:00.000Z</td>\n",
              "      <td>2024-03-27T18:30:00.000Z</td>\n",
              "      <td>2611</td>\n",
              "      <td>26036.130601</td>\n",
              "    </tr>\n",
              "    <tr>\n",
              "      <th>1</th>\n",
              "      <td>ADANIENSOL</td>\n",
              "      <td>2015-08-13T18:30:00.000Z</td>\n",
              "      <td>2024-03-27T18:30:00.000Z</td>\n",
              "      <td>2016</td>\n",
              "      <td>20422.510417</td>\n",
              "    </tr>\n",
              "    <tr>\n",
              "      <th>2</th>\n",
              "      <td>ADANIGREEN</td>\n",
              "      <td>2018-07-01T18:30:00.000Z</td>\n",
              "      <td>2024-03-27T18:30:00.000Z</td>\n",
              "      <td>1410</td>\n",
              "      <td>40915.642553</td>\n",
              "    </tr>\n",
              "    <tr>\n",
              "      <th>3</th>\n",
              "      <td>ADANIPOWER</td>\n",
              "      <td>2013-12-31T18:30:00.000Z</td>\n",
              "      <td>2024-03-27T18:30:00.000Z</td>\n",
              "      <td>2401</td>\n",
              "      <td>41078.954186</td>\n",
              "    </tr>\n",
              "    <tr>\n",
              "      <th>4</th>\n",
              "      <td>AMBUJACEM</td>\n",
              "      <td>2013-12-31T18:30:00.000Z</td>\n",
              "      <td>2024-03-27T18:30:00.000Z</td>\n",
              "      <td>2617</td>\n",
              "      <td>45033.693924</td>\n",
              "    </tr>\n",
              "  </tbody>\n",
              "</table>\n",
              "</div>\n",
              "    <div class=\"colab-df-buttons\">\n",
              "\n",
              "  <div class=\"colab-df-container\">\n",
              "    <button class=\"colab-df-convert\" onclick=\"convertToInteractive('df-b147a42c-1924-4a4d-ad65-87f6c43ab0f9')\"\n",
              "            title=\"Convert this dataframe to an interactive table.\"\n",
              "            style=\"display:none;\">\n",
              "\n",
              "  <svg xmlns=\"http://www.w3.org/2000/svg\" height=\"24px\" viewBox=\"0 -960 960 960\">\n",
              "    <path d=\"M120-120v-720h720v720H120Zm60-500h600v-160H180v160Zm220 220h160v-160H400v160Zm0 220h160v-160H400v160ZM180-400h160v-160H180v160Zm440 0h160v-160H620v160ZM180-180h160v-160H180v160Zm440 0h160v-160H620v160Z\"/>\n",
              "  </svg>\n",
              "    </button>\n",
              "\n",
              "  <style>\n",
              "    .colab-df-container {\n",
              "      display:flex;\n",
              "      gap: 12px;\n",
              "    }\n",
              "\n",
              "    .colab-df-convert {\n",
              "      background-color: #E8F0FE;\n",
              "      border: none;\n",
              "      border-radius: 50%;\n",
              "      cursor: pointer;\n",
              "      display: none;\n",
              "      fill: #1967D2;\n",
              "      height: 32px;\n",
              "      padding: 0 0 0 0;\n",
              "      width: 32px;\n",
              "    }\n",
              "\n",
              "    .colab-df-convert:hover {\n",
              "      background-color: #E2EBFA;\n",
              "      box-shadow: 0px 1px 2px rgba(60, 64, 67, 0.3), 0px 1px 3px 1px rgba(60, 64, 67, 0.15);\n",
              "      fill: #174EA6;\n",
              "    }\n",
              "\n",
              "    .colab-df-buttons div {\n",
              "      margin-bottom: 4px;\n",
              "    }\n",
              "\n",
              "    [theme=dark] .colab-df-convert {\n",
              "      background-color: #3B4455;\n",
              "      fill: #D2E3FC;\n",
              "    }\n",
              "\n",
              "    [theme=dark] .colab-df-convert:hover {\n",
              "      background-color: #434B5C;\n",
              "      box-shadow: 0px 1px 3px 1px rgba(0, 0, 0, 0.15);\n",
              "      filter: drop-shadow(0px 1px 2px rgba(0, 0, 0, 0.3));\n",
              "      fill: #FFFFFF;\n",
              "    }\n",
              "  </style>\n",
              "\n",
              "    <script>\n",
              "      const buttonEl =\n",
              "        document.querySelector('#df-b147a42c-1924-4a4d-ad65-87f6c43ab0f9 button.colab-df-convert');\n",
              "      buttonEl.style.display =\n",
              "        google.colab.kernel.accessAllowed ? 'block' : 'none';\n",
              "\n",
              "      async function convertToInteractive(key) {\n",
              "        const element = document.querySelector('#df-b147a42c-1924-4a4d-ad65-87f6c43ab0f9');\n",
              "        const dataTable =\n",
              "          await google.colab.kernel.invokeFunction('convertToInteractive',\n",
              "                                                    [key], {});\n",
              "        if (!dataTable) return;\n",
              "\n",
              "        const docLinkHtml = 'Like what you see? Visit the ' +\n",
              "          '<a target=\"_blank\" href=https://colab.research.google.com/notebooks/data_table.ipynb>data table notebook</a>'\n",
              "          + ' to learn more about interactive tables.';\n",
              "        element.innerHTML = '';\n",
              "        dataTable['output_type'] = 'display_data';\n",
              "        await google.colab.output.renderOutput(dataTable, element);\n",
              "        const docLink = document.createElement('div');\n",
              "        docLink.innerHTML = docLinkHtml;\n",
              "        element.appendChild(docLink);\n",
              "      }\n",
              "    </script>\n",
              "  </div>\n",
              "\n",
              "\n",
              "<div id=\"df-1333cc3b-9912-43c2-b6d4-99711b57f45c\">\n",
              "  <button class=\"colab-df-quickchart\" onclick=\"quickchart('df-1333cc3b-9912-43c2-b6d4-99711b57f45c')\"\n",
              "            title=\"Suggest charts\"\n",
              "            style=\"display:none;\">\n",
              "\n",
              "<svg xmlns=\"http://www.w3.org/2000/svg\" height=\"24px\"viewBox=\"0 0 24 24\"\n",
              "     width=\"24px\">\n",
              "    <g>\n",
              "        <path d=\"M19 3H5c-1.1 0-2 .9-2 2v14c0 1.1.9 2 2 2h14c1.1 0 2-.9 2-2V5c0-1.1-.9-2-2-2zM9 17H7v-7h2v7zm4 0h-2V7h2v10zm4 0h-2v-4h2v4z\"/>\n",
              "    </g>\n",
              "</svg>\n",
              "  </button>\n",
              "\n",
              "<style>\n",
              "  .colab-df-quickchart {\n",
              "      --bg-color: #E8F0FE;\n",
              "      --fill-color: #1967D2;\n",
              "      --hover-bg-color: #E2EBFA;\n",
              "      --hover-fill-color: #174EA6;\n",
              "      --disabled-fill-color: #AAA;\n",
              "      --disabled-bg-color: #DDD;\n",
              "  }\n",
              "\n",
              "  [theme=dark] .colab-df-quickchart {\n",
              "      --bg-color: #3B4455;\n",
              "      --fill-color: #D2E3FC;\n",
              "      --hover-bg-color: #434B5C;\n",
              "      --hover-fill-color: #FFFFFF;\n",
              "      --disabled-bg-color: #3B4455;\n",
              "      --disabled-fill-color: #666;\n",
              "  }\n",
              "\n",
              "  .colab-df-quickchart {\n",
              "    background-color: var(--bg-color);\n",
              "    border: none;\n",
              "    border-radius: 50%;\n",
              "    cursor: pointer;\n",
              "    display: none;\n",
              "    fill: var(--fill-color);\n",
              "    height: 32px;\n",
              "    padding: 0;\n",
              "    width: 32px;\n",
              "  }\n",
              "\n",
              "  .colab-df-quickchart:hover {\n",
              "    background-color: var(--hover-bg-color);\n",
              "    box-shadow: 0 1px 2px rgba(60, 64, 67, 0.3), 0 1px 3px 1px rgba(60, 64, 67, 0.15);\n",
              "    fill: var(--button-hover-fill-color);\n",
              "  }\n",
              "\n",
              "  .colab-df-quickchart-complete:disabled,\n",
              "  .colab-df-quickchart-complete:disabled:hover {\n",
              "    background-color: var(--disabled-bg-color);\n",
              "    fill: var(--disabled-fill-color);\n",
              "    box-shadow: none;\n",
              "  }\n",
              "\n",
              "  .colab-df-spinner {\n",
              "    border: 2px solid var(--fill-color);\n",
              "    border-color: transparent;\n",
              "    border-bottom-color: var(--fill-color);\n",
              "    animation:\n",
              "      spin 1s steps(1) infinite;\n",
              "  }\n",
              "\n",
              "  @keyframes spin {\n",
              "    0% {\n",
              "      border-color: transparent;\n",
              "      border-bottom-color: var(--fill-color);\n",
              "      border-left-color: var(--fill-color);\n",
              "    }\n",
              "    20% {\n",
              "      border-color: transparent;\n",
              "      border-left-color: var(--fill-color);\n",
              "      border-top-color: var(--fill-color);\n",
              "    }\n",
              "    30% {\n",
              "      border-color: transparent;\n",
              "      border-left-color: var(--fill-color);\n",
              "      border-top-color: var(--fill-color);\n",
              "      border-right-color: var(--fill-color);\n",
              "    }\n",
              "    40% {\n",
              "      border-color: transparent;\n",
              "      border-right-color: var(--fill-color);\n",
              "      border-top-color: var(--fill-color);\n",
              "    }\n",
              "    60% {\n",
              "      border-color: transparent;\n",
              "      border-right-color: var(--fill-color);\n",
              "    }\n",
              "    80% {\n",
              "      border-color: transparent;\n",
              "      border-right-color: var(--fill-color);\n",
              "      border-bottom-color: var(--fill-color);\n",
              "    }\n",
              "    90% {\n",
              "      border-color: transparent;\n",
              "      border-bottom-color: var(--fill-color);\n",
              "    }\n",
              "  }\n",
              "</style>\n",
              "\n",
              "  <script>\n",
              "    async function quickchart(key) {\n",
              "      const quickchartButtonEl =\n",
              "        document.querySelector('#' + key + ' button');\n",
              "      quickchartButtonEl.disabled = true;  // To prevent multiple clicks.\n",
              "      quickchartButtonEl.classList.add('colab-df-spinner');\n",
              "      try {\n",
              "        const charts = await google.colab.kernel.invokeFunction(\n",
              "            'suggestCharts', [key], {});\n",
              "      } catch (error) {\n",
              "        console.error('Error during call to suggestCharts:', error);\n",
              "      }\n",
              "      quickchartButtonEl.classList.remove('colab-df-spinner');\n",
              "      quickchartButtonEl.classList.add('colab-df-quickchart-complete');\n",
              "    }\n",
              "    (() => {\n",
              "      let quickchartButtonEl =\n",
              "        document.querySelector('#df-1333cc3b-9912-43c2-b6d4-99711b57f45c button');\n",
              "      quickchartButtonEl.style.display =\n",
              "        google.colab.kernel.accessAllowed ? 'block' : 'none';\n",
              "    })();\n",
              "  </script>\n",
              "</div>\n",
              "    </div>\n",
              "  </div>\n"
            ],
            "application/vnd.google.colaboratory.intrinsic+json": {
              "type": "dataframe",
              "variable_name": "commo_selection_df",
              "summary": "{\n  \"name\": \"commo_selection_df\",\n  \"rows\": 30,\n  \"fields\": [\n    {\n      \"column\": \"tickers\",\n      \"properties\": {\n        \"dtype\": \"string\",\n        \"num_unique_values\": 30,\n        \"samples\": [\n          \"ULTRACEMCO\",\n          \"JSWSTEEL\",\n          \"SRF\"\n        ],\n        \"semantic_type\": \"\",\n        \"description\": \"\"\n      }\n    },\n    {\n      \"column\": \"date_min\",\n      \"properties\": {\n        \"dtype\": \"object\",\n        \"num_unique_values\": 5,\n        \"samples\": [\n          \"2015-08-13T18:30:00.000Z\",\n          \"2014-01-01T18:30:00.000Z\",\n          \"2018-07-01T18:30:00.000Z\"\n        ],\n        \"semantic_type\": \"\",\n        \"description\": \"\"\n      }\n    },\n    {\n      \"column\": \"date_max\",\n      \"properties\": {\n        \"dtype\": \"object\",\n        \"num_unique_values\": 1,\n        \"samples\": [\n          \"2024-03-27T18:30:00.000Z\"\n        ],\n        \"semantic_type\": \"\",\n        \"description\": \"\"\n      }\n    },\n    {\n      \"column\": \"data_points\",\n      \"properties\": {\n        \"dtype\": \"number\",\n        \"std\": 330,\n        \"min\": 1323,\n        \"max\": 2622,\n        \"num_unique_values\": 15,\n        \"samples\": [\n          2613\n        ],\n        \"semantic_type\": \"\",\n        \"description\": \"\"\n      }\n    },\n    {\n      \"column\": \"mean_volume\",\n      \"properties\": {\n        \"dtype\": \"number\",\n        \"std\": 36654.49002274574,\n        \"min\": 9631.944593045471,\n        \"max\": 184568.36954858454,\n        \"num_unique_values\": 30,\n        \"samples\": [\n          35921.62418675851\n        ],\n        \"semantic_type\": \"\",\n        \"description\": \"\"\n      }\n    }\n  ]\n}"
            }
          },
          "metadata": {},
          "execution_count": 19
        }
      ]
    },
    {
      "cell_type": "code",
      "source": [
        "sorted(commo_selection_df.date_min.unique().tolist())"
      ],
      "metadata": {
        "colab": {
          "base_uri": "https://localhost:8080/"
        },
        "outputId": "9916e793-964e-499f-937e-858bd555b159",
        "id": "XCulQmMFKF4O"
      },
      "execution_count": 20,
      "outputs": [
        {
          "output_type": "execute_result",
          "data": {
            "text/plain": [
              "['2013-12-31T18:30:00.000Z',\n",
              " '2014-01-01T18:30:00.000Z',\n",
              " '2015-08-13T18:30:00.000Z',\n",
              " '2018-07-01T18:30:00.000Z',\n",
              " '2019-02-04T18:30:00.000Z']"
            ]
          },
          "metadata": {},
          "execution_count": 20
        }
      ]
    },
    {
      "cell_type": "code",
      "source": [
        "sorted(commo_selection_df.date_max.unique().tolist())"
      ],
      "metadata": {
        "colab": {
          "base_uri": "https://localhost:8080/"
        },
        "outputId": "4663a518-eb97-4e4d-e7de-a973fbe283ac",
        "id": "JdMFva7KKF4P"
      },
      "execution_count": 21,
      "outputs": [
        {
          "output_type": "execute_result",
          "data": {
            "text/plain": [
              "['2024-03-27T18:30:00.000Z']"
            ]
          },
          "metadata": {},
          "execution_count": 21
        }
      ]
    },
    {
      "cell_type": "markdown",
      "source": [
        "Removing all tickers not starting from 2014-01-01."
      ],
      "metadata": {
        "id": "_qLLQ6KbLXhC"
      }
    },
    {
      "cell_type": "code",
      "source": [
        "commo_selection_df = commo_selection_df[commo_selection_df.date_min == '2013-12-31T18:30:00.000Z']\n",
        "commo_selection_df.tickers.nunique()"
      ],
      "metadata": {
        "colab": {
          "base_uri": "https://localhost:8080/"
        },
        "outputId": "c13d6812-30bf-482b-84d7-53f980c950a3",
        "id": "1ANgdr3iKF4P"
      },
      "execution_count": 22,
      "outputs": [
        {
          "output_type": "execute_result",
          "data": {
            "text/plain": [
              "26"
            ]
          },
          "metadata": {},
          "execution_count": 22
        }
      ]
    },
    {
      "cell_type": "code",
      "source": [
        "commo_selection_df.data_points.describe()"
      ],
      "metadata": {
        "colab": {
          "base_uri": "https://localhost:8080/"
        },
        "outputId": "540d7d3a-de9a-459d-cf33-a700e2d0f049",
        "id": "OT60s80KKF4Q"
      },
      "execution_count": 23,
      "outputs": [
        {
          "output_type": "execute_result",
          "data": {
            "text/plain": [
              "count      26.000000\n",
              "mean     2607.000000\n",
              "std        42.119829\n",
              "min      2401.000000\n",
              "25%      2613.000000\n",
              "50%      2615.500000\n",
              "75%      2617.000000\n",
              "max      2622.000000\n",
              "Name: data_points, dtype: float64"
            ]
          },
          "metadata": {},
          "execution_count": 23
        }
      ]
    },
    {
      "cell_type": "markdown",
      "source": [
        "Due to higer deviation in datapoints, tickers having minimum datapoints are again removed."
      ],
      "metadata": {
        "id": "OELqHHPALedB"
      }
    },
    {
      "cell_type": "code",
      "source": [
        "commo_selection_df = commo_selection_df[commo_selection_df.data_points > 2613]"
      ],
      "metadata": {
        "id": "x9Q0lT_kL9Ij"
      },
      "execution_count": 29,
      "outputs": []
    },
    {
      "cell_type": "code",
      "source": [
        "commo_selection_df.data_points.describe()"
      ],
      "metadata": {
        "id": "r28GvjWjMJ98",
        "outputId": "0a6920b9-a822-409d-9d89-fd74d0409f00",
        "colab": {
          "base_uri": "https://localhost:8080/"
        }
      },
      "execution_count": 30,
      "outputs": [
        {
          "output_type": "execute_result",
          "data": {
            "text/plain": [
              "count      17.000000\n",
              "mean     2616.823529\n",
              "std         2.157409\n",
              "min      2614.000000\n",
              "25%      2616.000000\n",
              "50%      2617.000000\n",
              "75%      2618.000000\n",
              "max      2622.000000\n",
              "Name: data_points, dtype: float64"
            ]
          },
          "metadata": {},
          "execution_count": 30
        }
      ]
    },
    {
      "cell_type": "markdown",
      "source": [
        "Top 25% of highest liquidity are again selected similar to equity selection."
      ],
      "metadata": {
        "id": "ku74Hy2yMX5j"
      }
    },
    {
      "cell_type": "code",
      "source": [
        "commo_selection_df.mean_volume.describe()"
      ],
      "metadata": {
        "colab": {
          "base_uri": "https://localhost:8080/"
        },
        "id": "1hWwFjAIKdKM",
        "outputId": "3acdbb80-09f8-4c93-d016-f9781ede0aa8"
      },
      "execution_count": 31,
      "outputs": [
        {
          "output_type": "execute_result",
          "data": {
            "text/plain": [
              "count        17.000000\n",
              "mean      61816.458818\n",
              "std       42551.913243\n",
              "min        9631.944593\n",
              "25%       45033.693924\n",
              "50%       56449.836454\n",
              "75%       69997.925459\n",
              "max      184568.369549\n",
              "Name: mean_volume, dtype: float64"
            ]
          },
          "metadata": {},
          "execution_count": 31
        }
      ]
    },
    {
      "cell_type": "code",
      "source": [
        "commo_selection_df[commo_selection_df.mean_volume > commo_selection_df.mean_volume.quantile(0.75)].shape"
      ],
      "metadata": {
        "colab": {
          "base_uri": "https://localhost:8080/"
        },
        "id": "AD5AHyrPM0Eo",
        "outputId": "e23776af-09d6-46c7-8fdb-2de2e464377d"
      },
      "execution_count": 32,
      "outputs": [
        {
          "output_type": "execute_result",
          "data": {
            "text/plain": [
              "(4, 5)"
            ]
          },
          "metadata": {},
          "execution_count": 32
        }
      ]
    },
    {
      "cell_type": "code",
      "source": [
        "print(\"Selected Equities : \\n\\n\", eq_selection_df[eq_selection_df.mean_volume > eq_selection_df.mean_volume.quantile(0.75)].tickers.values)"
      ],
      "metadata": {
        "id": "3OF0HM3qNC21",
        "outputId": "20ac1133-fb13-4cdd-da2c-a364502b717e",
        "colab": {
          "base_uri": "https://localhost:8080/"
        }
      },
      "execution_count": 37,
      "outputs": [
        {
          "output_type": "stream",
          "name": "stdout",
          "text": [
            "Selected Equities : \n",
            "\n",
            " ['AXISBANK' 'BHARTIARTL' 'HDFCBANK' 'ICICIBANK' 'INFY' 'ITC' 'LT'\n",
            " 'RELIANCE' 'SBIN' 'TATAMOTORS' 'TATASTEEL' 'TCS']\n"
          ]
        }
      ]
    },
    {
      "cell_type": "code",
      "source": [
        "print('Selected Commodities : \\n\\n', commo_selection_df[commo_selection_df.mean_volume > commo_selection_df.mean_volume.quantile(0.75)].tickers.values)"
      ],
      "metadata": {
        "id": "Z6dZ096sMuUS",
        "outputId": "52c3d6d7-85f5-4882-935a-2684dca8877d",
        "colab": {
          "base_uri": "https://localhost:8080/"
        }
      },
      "execution_count": 38,
      "outputs": [
        {
          "output_type": "stream",
          "name": "stdout",
          "text": [
            "Selected Commodities : \n",
            "\n",
            " ['ONGC' 'RELIANCE' 'TATASTEEL' 'VEDL']\n"
          ]
        }
      ]
    },
    {
      "cell_type": "code",
      "source": [],
      "metadata": {
        "id": "j1zP-b0BNBt8"
      },
      "execution_count": null,
      "outputs": []
    }
  ]
}