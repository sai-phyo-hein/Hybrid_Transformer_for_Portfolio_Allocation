{
  "cells": [
    {
      "cell_type": "markdown",
      "metadata": {
        "id": "qNkBXHjv6_Jc"
      },
      "source": [
        "### Getting the models and configurations from Github"
      ]
    },
    {
      "cell_type": "code",
      "execution_count": null,
      "metadata": {
        "colab": {
          "base_uri": "https://localhost:8080/"
        },
        "id": "2hCwdTS3duOc",
        "outputId": "8fe970c7-b029-4e51-e27a-06dc8498455c"
      },
      "outputs": [
        {
          "name": "stdout",
          "output_type": "stream",
          "text": [
            "Cloning into 'Hybrid_Transformer_for_Portfolio_Allocation'...\n",
            "remote: Enumerating objects: 343, done.\u001b[K\n",
            "remote: Counting objects: 100% (223/223), done.\u001b[K\n",
            "remote: Compressing objects: 100% (89/89), done.\u001b[K\n",
            "remote: Total 343 (delta 150), reused 197 (delta 134), pack-reused 120\u001b[K\n",
            "Receiving objects: 100% (343/343), 30.15 MiB | 13.18 MiB/s, done.\n",
            "Resolving deltas: 100% (197/197), done.\n",
            "  Preparing metadata (setup.py) ... \u001b[?25l\u001b[?25hdone\n",
            "\u001b[2K     \u001b[90m━━━━━━━━━━━━━━━━━━━━━━━━━━━━━━━━━━━━━━━━\u001b[0m \u001b[32m983.4/983.4 kB\u001b[0m \u001b[31m6.7 MB/s\u001b[0m eta \u001b[36m0:00:00\u001b[0m\n",
            "\u001b[?25h  Building wheel for ta (setup.py) ... \u001b[?25l\u001b[?25hdone\n"
          ]
        }
      ],
      "source": [
        "!git clone https://github.com/sai-phyo-hein/Hybrid_Transformer_for_Portfolio_Allocation.git\n",
        "!pip install -q -r /content/Hybrid_Transformer_for_Portfolio_Allocation/requirements.txt"
      ]
    },
    {
      "cell_type": "code",
      "execution_count": null,
      "metadata": {
        "id": "dD3CKWgkelU1"
      },
      "outputs": [],
      "source": [
        "from Hybrid_Transformer_for_Portfolio_Allocation.data.eq_data_loader import get_eq_data\n",
        "from Hybrid_Transformer_for_Portfolio_Allocation.data.data_prep_hybrid import hybrid_transformer_database\n",
        "from Hybrid_Transformer_for_Portfolio_Allocation.data.data_prep_vanilla import vanilla_transformer_database\n",
        "\n",
        "from Hybrid_Transformer_for_Portfolio_Allocation.models.hybrid_transformer_model import HybridTransformer_Portfolio\n",
        "from Hybrid_Transformer_for_Portfolio_Allocation.models.benchmark_transformer_model import Transformer_Portfolio\n",
        "\n",
        "import pandas as pd\n",
        "import numpy as np\n",
        "import tensorflow as tf\n",
        "import json\n",
        "\n",
        "import keras\n",
        "keras.utils.set_random_seed(0)"
      ]
    },
    {
      "cell_type": "markdown",
      "metadata": {
        "id": "HDY968JP7FvJ"
      },
      "source": [
        "### Data Loading"
      ]
    },
    {
      "cell_type": "code",
      "execution_count": null,
      "metadata": {
        "id": "suPyJJGNe0Bx"
      },
      "outputs": [],
      "source": [
        "data_config = json.load(open('/content/Hybrid_Transformer_for_Portfolio_Allocation/configs/data_config.json', 'r'))"
      ]
    },
    {
      "cell_type": "code",
      "execution_count": null,
      "metadata": {
        "colab": {
          "base_uri": "https://localhost:8080/"
        },
        "id": "rfP2KKp2eus1",
        "outputId": "bf547375-f487-44f5-e1f1-8cb993a7c41e"
      },
      "outputs": [
        {
          "name": "stderr",
          "output_type": "stream",
          "text": [
            "[*********************100%%**********************]  50 of 50 completed\n"
          ]
        }
      ],
      "source": [
        "data = get_eq_data(\n",
        "    '/content/Hybrid_Transformer_for_Portfolio_Allocation/data/nifty_50_metadata.csv',\n",
        "    start = data_config['data_start_date'],\n",
        "    end = data_config['data_end_date'],\n",
        "    corr_thresh = data_config['correlation_thresh'],\n",
        "    market_cap_filter = data_config['market_cap_filter']\n",
        ")"
      ]
    },
    {
      "cell_type": "markdown",
      "metadata": {
        "id": "tuOBlBWN7Hmq"
      },
      "source": [
        "### Data Preparation"
      ]
    },
    {
      "cell_type": "markdown",
      "metadata": {
        "id": "dkFQtZsP8-DF"
      },
      "source": [
        "In this step, the data is splitted into train and test sets. Train dataset is again splitted into train and validataion in the next step. 30 data points at the start of test set is eliminated to prevent leakage from autocorrelation of the time series data."
      ]
    },
    {
      "cell_type": "code",
      "execution_count": null,
      "metadata": {
        "colab": {
          "base_uri": "https://localhost:8080/"
        },
        "id": "qnLUy60Cev_Q",
        "outputId": "41fb5a8d-76a3-4706-d756-cd617fb81cd8"
      },
      "outputs": [
        {
          "name": "stdout",
          "output_type": "stream",
          "text": [
            "(1979, 4, 34) (503, 4, 34) (1979, 17) (503, 17)\n"
          ]
        }
      ],
      "source": [
        "xtrain, xtest, ytrain, ytest, train_index, test_index = hybrid_transformer_database(\n",
        "    data = data, timestep = 4, lag = 1, lagSD = 10, test_size= 0.2, purge_size = 30\n",
        ")\n",
        "print(xtrain.shape, xtest.shape, ytrain.shape, ytest.shape)"
      ]
    },
    {
      "cell_type": "code",
      "execution_count": null,
      "metadata": {
        "id": "oyVHJvArrL-J"
      },
      "outputs": [],
      "source": [
        "tf.keras.backend.clear_session()"
      ]
    },
    {
      "cell_type": "code",
      "execution_count": null,
      "metadata": {
        "id": "uJ2tNZuqYHfN"
      },
      "outputs": [],
      "source": [
        "cv_sharpe_thresh = 0.19\n",
        "current_sharpe = 0"
      ]
    },
    {
      "cell_type": "markdown",
      "metadata": {
        "id": "U4DVEmTH7OUt"
      },
      "source": [
        "### Grid Search Validation for Best Hyperparameter"
      ]
    },
    {
      "cell_type": "code",
      "execution_count": null,
      "metadata": {
        "id": "GmKfa1QC1XNR"
      },
      "outputs": [],
      "source": [
        "from sklearn.model_selection import train_test_split\n",
        "\n",
        "attention_numbers = [32, 128, 256]\n",
        "learning_rates = [0.0001, 0.001, 0.01]\n",
        "batch_sizes = [64, 128, 256]\n",
        "dropouts = [0.1, 0.05]\n",
        "\n",
        "trainx_, valx, trainy_, valy = train_test_split(\n",
        "    xtrain.numpy(), ytrain.numpy(), test_size = 0.2, shuffle = False\n",
        ")"
      ]
    },
    {
      "cell_type": "code",
      "execution_count": null,
      "metadata": {
        "colab": {
          "base_uri": "https://localhost:8080/"
        },
        "collapsed": true,
        "id": "T0D1lzZTOhTn",
        "outputId": "df8277e3-0ec3-465a-f347-96aaa7d6a3f8"
      },
      "outputs": [
        {
          "name": "stdout",
          "output_type": "stream",
          "text": [
            "13/13 [==============================] - 1s 11ms/step\n",
            "13/13 [==============================] - 1s 17ms/step\n",
            "13/13 [==============================] - 1s 12ms/step\n",
            "13/13 [==============================] - 1s 12ms/step\n",
            "13/13 [==============================] - 1s 11ms/step\n",
            "13/13 [==============================] - 1s 12ms/step\n",
            "13/13 [==============================] - 1s 16ms/step\n",
            "13/13 [==============================] - 1s 11ms/step\n",
            "13/13 [==============================] - 1s 10ms/step\n",
            "13/13 [==============================] - 1s 12ms/step\n",
            "13/13 [==============================] - 1s 11ms/step\n",
            "13/13 [==============================] - 1s 19ms/step\n",
            "13/13 [==============================] - 1s 11ms/step\n",
            "13/13 [==============================] - 2s 11ms/step\n",
            "13/13 [==============================] - 1s 10ms/step\n",
            "13/13 [==============================] - 1s 12ms/step\n",
            "13/13 [==============================] - 1s 17ms/step\n",
            "13/13 [==============================] - 1s 11ms/step\n",
            "13/13 [==============================] - 1s 13ms/step\n",
            "13/13 [==============================] - 1s 14ms/step\n",
            "13/13 [==============================] - 1s 13ms/step\n",
            "13/13 [==============================] - 1s 13ms/step\n",
            "13/13 [==============================] - 1s 15ms/step\n",
            "13/13 [==============================] - 1s 13ms/step\n",
            "13/13 [==============================] - 1s 13ms/step\n",
            "13/13 [==============================] - 1s 16ms/step\n",
            "13/13 [==============================] - 1s 15ms/step\n",
            "13/13 [==============================] - 1s 22ms/step\n",
            "13/13 [==============================] - 1s 14ms/step\n",
            "13/13 [==============================] - 1s 14ms/step\n",
            "13/13 [==============================] - 1s 13ms/step\n",
            "13/13 [==============================] - 1s 12ms/step\n",
            "13/13 [==============================] - 1s 15ms/step\n",
            "13/13 [==============================] - 1s 21ms/step\n",
            "13/13 [==============================] - 1s 12ms/step\n",
            "13/13 [==============================] - 1s 23ms/step\n",
            "13/13 [==============================] - 1s 16ms/step\n",
            "13/13 [==============================] - 1s 17ms/step\n",
            "13/13 [==============================] - 1s 23ms/step\n",
            "13/13 [==============================] - 1s 15ms/step\n",
            "13/13 [==============================] - 1s 18ms/step\n",
            "13/13 [==============================] - 1s 16ms/step\n",
            "13/13 [==============================] - 1s 15ms/step\n",
            "13/13 [==============================] - 1s 15ms/step\n",
            "13/13 [==============================] - 1s 17ms/step\n",
            "13/13 [==============================] - 1s 15ms/step\n",
            "13/13 [==============================] - 1s 16ms/step\n",
            "13/13 [==============================] - 1s 15ms/step\n",
            "13/13 [==============================] - 1s 28ms/step\n",
            "13/13 [==============================] - 1s 15ms/step\n",
            "13/13 [==============================] - 1s 16ms/step\n",
            "13/13 [==============================] - 1s 15ms/step\n",
            "13/13 [==============================] - 1s 15ms/step\n",
            "13/13 [==============================] - 1s 14ms/step\n"
          ]
        }
      ],
      "source": [
        "model_performance = pd.DataFrame()\n",
        "\n",
        "for an in attention_numbers:\n",
        "    for lr in learning_rates:\n",
        "        for bs in batch_sizes:\n",
        "            for dp in dropouts:\n",
        "                trainx = tf.convert_to_tensor(trainx_[:int(trainx_.shape[0] / bs) * bs, :, :], np.float32)\n",
        "                trainy = tf.convert_to_tensor(trainy_[:trainx.shape[0], :], np.float32)\n",
        "\n",
        "                model = HybridTransformer_Portfolio(trainx.shape[1], trainx.shape[2], outputShape = trainy.shape[1],  headsAttention = an, dropout= dp, learningRate = lr)\n",
        "                model.allocation_hybrid_train(trainx, trainy, Epochs = 1, BatchSize = bs)\n",
        "\n",
        "                eval_price = data.iloc[:xtrain.shape[0], :].iloc[-valx.shape[0] + 10:, :]\n",
        "                eval_weights = model.allocation_hybrid_test(valx[10:, :])\n",
        "                eval_mean = (eval_price.pct_change().dropna() * eval_weights[1:, :]).sum(axis = 1).mean()\n",
        "                eval_std = (eval_price.pct_change().dropna() * eval_weights[1:, :]).sum(axis = 1).std()\n",
        "                eval_sharpe = eval_mean / eval_std\n",
        "\n",
        "                if eval_sharpe > cv_sharpe_thresh:\n",
        "                    model.hybrid_save_weights('best_weights.h5') # whenever the evaluation sharpe ratio > threshold\n",
        "                if eval_sharpe > current_sharpe:\n",
        "                    current_sharpe = eval_sharpe\n",
        "                    model.hybrid_save_weights('current_best.h5') # whenever the evaluation sharpe ratio > current best\n",
        "\n",
        "                tf.keras.backend.clear_session()\n",
        "\n",
        "                temp_performance = pd.DataFrame()\n",
        "                temp_performance['attention_num'] = [an]\n",
        "                temp_performance['learning_rate'] = [lr]\n",
        "                temp_performance['batch_size'] = [bs]\n",
        "                temp_performance['dropout'] = [dp]\n",
        "\n",
        "                temp_performance['eval_mean'] = [eval_mean]\n",
        "                temp_performance['eval_std'] = [eval_std]\n",
        "                temp_performance['eval_sharpe_ratio'] = [eval_sharpe]\n",
        "                model_performance = pd.concat([model_performance, temp_performance])"
      ]
    },
    {
      "cell_type": "code",
      "execution_count": null,
      "metadata": {
        "colab": {
          "base_uri": "https://localhost:8080/",
          "height": 80
        },
        "id": "nFgJA0glLfJy",
        "outputId": "ec0e4c56-841a-4ad6-ed7a-2673c986fca3"
      },
      "outputs": [
        {
          "data": {
            "application/vnd.google.colaboratory.intrinsic+json": {
              "summary": "{\n  \"name\": \"model_performance\",\n  \"rows\": 1,\n  \"fields\": [\n    {\n      \"column\": \"attention_num\",\n      \"properties\": {\n        \"dtype\": \"number\",\n        \"std\": null,\n        \"min\": 256,\n        \"max\": 256,\n        \"num_unique_values\": 1,\n        \"samples\": [\n          256\n        ],\n        \"semantic_type\": \"\",\n        \"description\": \"\"\n      }\n    },\n    {\n      \"column\": \"learning_rate\",\n      \"properties\": {\n        \"dtype\": \"number\",\n        \"std\": null,\n        \"min\": 0.0001,\n        \"max\": 0.0001,\n        \"num_unique_values\": 1,\n        \"samples\": [\n          0.0001\n        ],\n        \"semantic_type\": \"\",\n        \"description\": \"\"\n      }\n    },\n    {\n      \"column\": \"batch_size\",\n      \"properties\": {\n        \"dtype\": \"number\",\n        \"std\": null,\n        \"min\": 128,\n        \"max\": 128,\n        \"num_unique_values\": 1,\n        \"samples\": [\n          128\n        ],\n        \"semantic_type\": \"\",\n        \"description\": \"\"\n      }\n    },\n    {\n      \"column\": \"dropout\",\n      \"properties\": {\n        \"dtype\": \"number\",\n        \"std\": null,\n        \"min\": 0.05,\n        \"max\": 0.05,\n        \"num_unique_values\": 1,\n        \"samples\": [\n          0.05\n        ],\n        \"semantic_type\": \"\",\n        \"description\": \"\"\n      }\n    },\n    {\n      \"column\": \"eval_mean\",\n      \"properties\": {\n        \"dtype\": \"number\",\n        \"std\": null,\n        \"min\": 0.002164978679700227,\n        \"max\": 0.002164978679700227,\n        \"num_unique_values\": 1,\n        \"samples\": [\n          0.002164978679700227\n        ],\n        \"semantic_type\": \"\",\n        \"description\": \"\"\n      }\n    },\n    {\n      \"column\": \"eval_std\",\n      \"properties\": {\n        \"dtype\": \"number\",\n        \"std\": null,\n        \"min\": 0.012302370115861572,\n        \"max\": 0.012302370115861572,\n        \"num_unique_values\": 1,\n        \"samples\": [\n          0.012302370115861572\n        ],\n        \"semantic_type\": \"\",\n        \"description\": \"\"\n      }\n    },\n    {\n      \"column\": \"eval_sharpe_ratio\",\n      \"properties\": {\n        \"dtype\": \"number\",\n        \"std\": null,\n        \"min\": 0.17598061668693396,\n        \"max\": 0.17598061668693396,\n        \"num_unique_values\": 1,\n        \"samples\": [\n          0.17598061668693396\n        ],\n        \"semantic_type\": \"\",\n        \"description\": \"\"\n      }\n    }\n  ]\n}",
              "type": "dataframe"
            },
            "text/html": [
              "\n",
              "  <div id=\"df-430ed5c4-4e65-44b8-8984-5d391c785761\" class=\"colab-df-container\">\n",
              "    <div>\n",
              "<style scoped>\n",
              "    .dataframe tbody tr th:only-of-type {\n",
              "        vertical-align: middle;\n",
              "    }\n",
              "\n",
              "    .dataframe tbody tr th {\n",
              "        vertical-align: top;\n",
              "    }\n",
              "\n",
              "    .dataframe thead th {\n",
              "        text-align: right;\n",
              "    }\n",
              "</style>\n",
              "<table border=\"1\" class=\"dataframe\">\n",
              "  <thead>\n",
              "    <tr style=\"text-align: right;\">\n",
              "      <th></th>\n",
              "      <th>attention_num</th>\n",
              "      <th>learning_rate</th>\n",
              "      <th>batch_size</th>\n",
              "      <th>dropout</th>\n",
              "      <th>eval_mean</th>\n",
              "      <th>eval_std</th>\n",
              "      <th>eval_sharpe_ratio</th>\n",
              "    </tr>\n",
              "  </thead>\n",
              "  <tbody>\n",
              "    <tr>\n",
              "      <th>0</th>\n",
              "      <td>256</td>\n",
              "      <td>0.0001</td>\n",
              "      <td>128</td>\n",
              "      <td>0.05</td>\n",
              "      <td>0.002165</td>\n",
              "      <td>0.012302</td>\n",
              "      <td>0.175981</td>\n",
              "    </tr>\n",
              "  </tbody>\n",
              "</table>\n",
              "</div>\n",
              "    <div class=\"colab-df-buttons\">\n",
              "\n",
              "  <div class=\"colab-df-container\">\n",
              "    <button class=\"colab-df-convert\" onclick=\"convertToInteractive('df-430ed5c4-4e65-44b8-8984-5d391c785761')\"\n",
              "            title=\"Convert this dataframe to an interactive table.\"\n",
              "            style=\"display:none;\">\n",
              "\n",
              "  <svg xmlns=\"http://www.w3.org/2000/svg\" height=\"24px\" viewBox=\"0 -960 960 960\">\n",
              "    <path d=\"M120-120v-720h720v720H120Zm60-500h600v-160H180v160Zm220 220h160v-160H400v160Zm0 220h160v-160H400v160ZM180-400h160v-160H180v160Zm440 0h160v-160H620v160ZM180-180h160v-160H180v160Zm440 0h160v-160H620v160Z\"/>\n",
              "  </svg>\n",
              "    </button>\n",
              "\n",
              "  <style>\n",
              "    .colab-df-container {\n",
              "      display:flex;\n",
              "      gap: 12px;\n",
              "    }\n",
              "\n",
              "    .colab-df-convert {\n",
              "      background-color: #E8F0FE;\n",
              "      border: none;\n",
              "      border-radius: 50%;\n",
              "      cursor: pointer;\n",
              "      display: none;\n",
              "      fill: #1967D2;\n",
              "      height: 32px;\n",
              "      padding: 0 0 0 0;\n",
              "      width: 32px;\n",
              "    }\n",
              "\n",
              "    .colab-df-convert:hover {\n",
              "      background-color: #E2EBFA;\n",
              "      box-shadow: 0px 1px 2px rgba(60, 64, 67, 0.3), 0px 1px 3px 1px rgba(60, 64, 67, 0.15);\n",
              "      fill: #174EA6;\n",
              "    }\n",
              "\n",
              "    .colab-df-buttons div {\n",
              "      margin-bottom: 4px;\n",
              "    }\n",
              "\n",
              "    [theme=dark] .colab-df-convert {\n",
              "      background-color: #3B4455;\n",
              "      fill: #D2E3FC;\n",
              "    }\n",
              "\n",
              "    [theme=dark] .colab-df-convert:hover {\n",
              "      background-color: #434B5C;\n",
              "      box-shadow: 0px 1px 3px 1px rgba(0, 0, 0, 0.15);\n",
              "      filter: drop-shadow(0px 1px 2px rgba(0, 0, 0, 0.3));\n",
              "      fill: #FFFFFF;\n",
              "    }\n",
              "  </style>\n",
              "\n",
              "    <script>\n",
              "      const buttonEl =\n",
              "        document.querySelector('#df-430ed5c4-4e65-44b8-8984-5d391c785761 button.colab-df-convert');\n",
              "      buttonEl.style.display =\n",
              "        google.colab.kernel.accessAllowed ? 'block' : 'none';\n",
              "\n",
              "      async function convertToInteractive(key) {\n",
              "        const element = document.querySelector('#df-430ed5c4-4e65-44b8-8984-5d391c785761');\n",
              "        const dataTable =\n",
              "          await google.colab.kernel.invokeFunction('convertToInteractive',\n",
              "                                                    [key], {});\n",
              "        if (!dataTable) return;\n",
              "\n",
              "        const docLinkHtml = 'Like what you see? Visit the ' +\n",
              "          '<a target=\"_blank\" href=https://colab.research.google.com/notebooks/data_table.ipynb>data table notebook</a>'\n",
              "          + ' to learn more about interactive tables.';\n",
              "        element.innerHTML = '';\n",
              "        dataTable['output_type'] = 'display_data';\n",
              "        await google.colab.output.renderOutput(dataTable, element);\n",
              "        const docLink = document.createElement('div');\n",
              "        docLink.innerHTML = docLinkHtml;\n",
              "        element.appendChild(docLink);\n",
              "      }\n",
              "    </script>\n",
              "  </div>\n",
              "\n",
              "    </div>\n",
              "  </div>\n"
            ],
            "text/plain": [
              "   attention_num  learning_rate  batch_size  dropout  eval_mean  eval_std  \\\n",
              "0            256         0.0001         128     0.05   0.002165  0.012302   \n",
              "\n",
              "   eval_sharpe_ratio  \n",
              "0           0.175981  "
            ]
          },
          "execution_count": 11,
          "metadata": {},
          "output_type": "execute_result"
        }
      ],
      "source": [
        "model_performance.sort_values('eval_sharpe_ratio', ascending = False).head(1)"
      ]
    },
    {
      "cell_type": "markdown",
      "metadata": {
        "id": "YbOG8Vxd7WTy"
      },
      "source": [
        "###"
      ]
    },
    {
      "cell_type": "code",
      "execution_count": null,
      "metadata": {
        "id": "tIawX5rCg0QB"
      },
      "outputs": [],
      "source": [
        "tf.keras.backend.clear_session()"
      ]
    },
    {
      "cell_type": "code",
      "execution_count": null,
      "metadata": {
        "id": "sNvZgQPeRQyo"
      },
      "outputs": [],
      "source": [
        "Dropout = 0.05\n",
        "LearningRate = 0.01\n",
        "Epochs = 100\n",
        "BatchSize = 256\n",
        "num_heads = 256\n",
        "\n",
        "trainx = tf.convert_to_tensor(trainx_[:int(trainx_.shape[0] / BatchSize) * BatchSize, :, :], np.float32)\n",
        "trainy = tf.convert_to_tensor(trainy_[:trainx.shape[0], :], np.float32)\n",
        "\n",
        "best_model = HybridTransformer_Portfolio(\n",
        "    trainx.shape[1], trainx.shape[2], outputShape = trainy.shape[1],  headsAttention = num_heads, dropout= Dropout, learningRate = LearningRate\n",
        ")\n",
        "best_model.hybrid_load_weights('current_best.h5') # use the pretrained weights to for reproducbilities"
      ]
    },
    {
      "cell_type": "code",
      "execution_count": null,
      "metadata": {
        "id": "pyb01dsVa4Cg"
      },
      "outputs": [],
      "source": [
        "### retrain with higher epoch\n",
        "best_model.allocation_hybrid_train(trainx, trainy, Epochs = Epochs, BatchSize=BatchSize)"
      ]
    },
    {
      "cell_type": "code",
      "execution_count": null,
      "metadata": {
        "colab": {
          "base_uri": "https://localhost:8080/"
        },
        "id": "u0hd1z1KBJol",
        "outputId": "99ec9c11-5864-460d-946f-49ae491adf2c"
      },
      "outputs": [
        {
          "name": "stdout",
          "output_type": "stream",
          "text": [
            "13/13 [==============================] - 1s 16ms/step\n"
          ]
        },
        {
          "data": {
            "text/plain": [
              "(0.004636958711292922, 0.03046343805646312, 0.15221389991170564)"
            ]
          },
          "execution_count": 15,
          "metadata": {},
          "output_type": "execute_result"
        }
      ],
      "source": [
        "eval_price = data.iloc[:xtrain.shape[0], :].iloc[-valx.shape[0] + 10:, :]\n",
        "eval_weights = best_model.allocation_hybrid_test(valx[10:, :]) ## purge 10 datapoints\n",
        "eval_mean = (eval_price.pct_change().dropna() * eval_weights[1:, :]).sum(axis = 1).mean()\n",
        "eval_std = (eval_price.pct_change().dropna() * eval_weights[1:, :]).sum(axis = 1).std()\n",
        "eval_sharpe = eval_mean / eval_std\n",
        "eval_mean, eval_std, eval_sharpe"
      ]
    },
    {
      "cell_type": "markdown",
      "metadata": {},
      "source": [
        "### Test on Test Set"
      ]
    },
    {
      "cell_type": "code",
      "execution_count": null,
      "metadata": {
        "colab": {
          "base_uri": "https://localhost:8080/"
        },
        "id": "n03wM16FbBtQ",
        "outputId": "43c6277b-04c4-40a7-f3fe-b47a1aaa0c22"
      },
      "outputs": [
        {
          "name": "stdout",
          "output_type": "stream",
          "text": [
            "16/16 [==============================] - 0s 15ms/step\n"
          ]
        }
      ],
      "source": [
        "test_weights = best_model.allocation_hybrid_test(xtest)"
      ]
    },
    {
      "cell_type": "code",
      "execution_count": null,
      "metadata": {
        "colab": {
          "base_uri": "https://localhost:8080/"
        },
        "id": "w9ccBSLWbHlL",
        "outputId": "4f50e0a9-8619-40da-f578-9923a0f22f75"
      },
      "outputs": [
        {
          "data": {
            "text/plain": [
              "array([0.   , 0.   , 0.   , 0.   , 0.   , 0.   , 0.   , 0.013, 0.986,\n",
              "       0.   , 0.   , 0.   , 0.   , 0.   , 0.   , 0.   , 0.   ],\n",
              "      dtype=float32)"
            ]
          },
          "execution_count": 17,
          "metadata": {},
          "output_type": "execute_result"
        }
      ],
      "source": [
        "test_weights[0].round(3)"
      ]
    },
    {
      "cell_type": "code",
      "execution_count": null,
      "metadata": {
        "colab": {
          "base_uri": "https://localhost:8080/"
        },
        "id": "qXzHmt24kcm5",
        "outputId": "4d45707c-9a10-4c80-d2be-5eb033aa1da3"
      },
      "outputs": [
        {
          "data": {
            "text/plain": [
              "array([[1.7886871e-06, 3.8062201e-06, 5.7538813e-07, ..., 8.8953465e-07,\n",
              "        1.1248768e-05, 1.4301012e-06],\n",
              "       [1.7886306e-06, 3.8061178e-06, 5.7535789e-07, ..., 8.8950060e-07,\n",
              "        1.1248337e-05, 1.4300383e-06],\n",
              "       [1.7884773e-06, 3.8058060e-06, 5.7527177e-07, ..., 8.8940232e-07,\n",
              "        1.1247115e-05, 1.4298585e-06],\n",
              "       ...,\n",
              "       [1.7885333e-06, 3.8059834e-06, 5.7536164e-07, ..., 8.8944114e-07,\n",
              "        1.1248744e-05, 1.4300573e-06],\n",
              "       [1.7882794e-06, 3.8054757e-06, 5.7523056e-07, ..., 8.8927499e-07,\n",
              "        1.1246954e-05, 1.4297957e-06],\n",
              "       [1.7882251e-06, 3.8053636e-06, 5.7520379e-07, ..., 8.8923696e-07,\n",
              "        1.1246612e-05, 1.4297481e-06]], dtype=float32)"
            ]
          },
          "execution_count": 18,
          "metadata": {},
          "output_type": "execute_result"
        }
      ],
      "source": [
        "test_weights[1:-1, :]"
      ]
    },
    {
      "cell_type": "code",
      "execution_count": null,
      "metadata": {
        "colab": {
          "base_uri": "https://localhost:8080/"
        },
        "id": "3v7ikScxbI6G",
        "outputId": "6ec964c6-1c32-46c2-a92a-21efba7f9b7f"
      },
      "outputs": [
        {
          "data": {
            "text/plain": [
              "0.0018072190730073485"
            ]
          },
          "execution_count": 19,
          "metadata": {},
          "output_type": "execute_result"
        }
      ],
      "source": [
        "test_mean = ((data.loc[test_index, :].pct_change().dropna().iloc[1:, :] * test_weights[1:-1, :]).sum(axis = 1) - 0.01 * (test_weights[:-2, :] - test_weights[1:-1, :]).sum(axis = 1)).mean()\n",
        "test_mean"
      ]
    },
    {
      "cell_type": "code",
      "execution_count": null,
      "metadata": {
        "colab": {
          "base_uri": "https://localhost:8080/"
        },
        "id": "QPbZ7KtzbN4e",
        "outputId": "7cdf0d11-f939-4903-dba2-d0aada96184a"
      },
      "outputs": [
        {
          "data": {
            "text/plain": [
              "0.017385358874051408"
            ]
          },
          "execution_count": 20,
          "metadata": {},
          "output_type": "execute_result"
        }
      ],
      "source": [
        "test_std = ((data.loc[test_index, :].pct_change().dropna().iloc[1:, :] * test_weights[1:-1, :]).sum(axis = 1) - 0.01 * (test_weights[:-2, :] - test_weights[1:-1, :]).sum(axis = 1)).std()\n",
        "test_std"
      ]
    },
    {
      "cell_type": "code",
      "execution_count": null,
      "metadata": {
        "colab": {
          "base_uri": "https://localhost:8080/"
        },
        "id": "dY3XtgpXbRoK",
        "outputId": "ca2c71c1-5e7a-4434-edc8-4c6f54093647"
      },
      "outputs": [
        {
          "data": {
            "text/plain": [
              "0.10395063375451634"
            ]
          },
          "execution_count": 21,
          "metadata": {},
          "output_type": "execute_result"
        }
      ],
      "source": [
        "test_mean / test_std"
      ]
    },
    {
      "cell_type": "code",
      "execution_count": null,
      "metadata": {
        "colab": {
          "base_uri": "https://localhost:8080/",
          "height": 451
        },
        "id": "i2b8NrdpbTP8",
        "outputId": "c4739f4d-3f9a-4e50-870e-ebcd1e6be5b5"
      },
      "outputs": [
        {
          "data": {
            "text/plain": [
              "Text(0, 0.5, 'Cumulative Return')"
            ]
          },
          "execution_count": 22,
          "metadata": {},
          "output_type": "execute_result"
        },
        {
          "data": {
            "image/png": "[encoded data removed]",
            "text/plain": [
              "<Figure size 640x480 with 1 Axes>"
            ]
          },
          "metadata": {},
          "output_type": "display_data"
        }
      ],
      "source": [
        "import matplotlib.pyplot as plt\n",
        "((data.loc[test_index, :].pct_change().dropna() * test_weights[:-1, :]).sum(axis = 1) ).cumsum().plot(color = 'green')\n",
        "((data.loc[test_index, :].pct_change().dropna() * (np.ones(test_weights[1:, :].shape) / 17)).sum(axis = 1) ).cumsum().plot()\n",
        "plt.legend(['Hybrid', 'EQW'])\n",
        "plt.xlabel('Date of Test Set')\n",
        "plt.ylabel('Cumulative Return')"
      ]
    },
    {
      "cell_type": "code",
      "execution_count": null,
      "metadata": {
        "id": "YBS5jnkGjoGW"
      },
      "outputs": [],
      "source": [
        "best_model.hybrid_save_weights('hybrid_model_trained_weights.h5')"
      ]
    },
    {
      "cell_type": "code",
      "execution_count": null,
      "metadata": {
        "id": "W-z7lIso3Fz6"
      },
      "outputs": [],
      "source": []
    }
  ],
  "metadata": {
    "colab": {
      "provenance": []
    },
    "kernelspec": {
      "display_name": "Python 3",
      "name": "python3"
    },
    "language_info": {
      "name": "python"
    }
  },
  "nbformat": 4,
  "nbformat_minor": 0
}
