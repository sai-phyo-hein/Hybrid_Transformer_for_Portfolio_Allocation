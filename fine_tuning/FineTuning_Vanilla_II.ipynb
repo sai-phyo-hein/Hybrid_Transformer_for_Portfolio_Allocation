{
  "cells": [
    {
      "cell_type": "markdown",
      "metadata": {},
      "source": [
        "### Geting the models and packages"
      ]
    },
    {
      "cell_type": "code",
      "execution_count": null,
      "metadata": {
        "colab": {
          "base_uri": "https://localhost:8080/"
        },
        "id": "2hCwdTS3duOc",
        "outputId": "12b09aec-57c4-4644-892e-693bdfc8be2e"
      },
      "outputs": [
        {
          "name": "stdout",
          "output_type": "stream",
          "text": [
            "Cloning into 'Hybrid_Transformer_for_Portfolio_Allocation'...\n",
            "remote: Enumerating objects: 343, done.\u001b[K\n",
            "remote: Counting objects: 100% (223/223), done.\u001b[K\n",
            "remote: Compressing objects: 100% (89/89), done.\u001b[K\n",
            "remote: Total 343 (delta 150), reused 197 (delta 134), pack-reused 120\u001b[K\n",
            "Receiving objects: 100% (343/343), 30.15 MiB | 25.82 MiB/s, done.\n",
            "Resolving deltas: 100% (197/197), done.\n",
            "  Preparing metadata (setup.py) ... \u001b[?25l\u001b[?25hdone\n",
            "\u001b[2K     \u001b[90m━━━━━━━━━━━━━━━━━━━━━━━━━━━━━━━━━━━━━━━━\u001b[0m \u001b[32m983.4/983.4 kB\u001b[0m \u001b[31m10.3 MB/s\u001b[0m eta \u001b[36m0:00:00\u001b[0m\n",
            "\u001b[?25h  Building wheel for ta (setup.py) ... \u001b[?25l\u001b[?25hdone\n"
          ]
        }
      ],
      "source": [
        "!git clone https://github.com/sai-phyo-hein/Hybrid_Transformer_for_Portfolio_Allocation.git\n",
        "!pip install -q -r /content/Hybrid_Transformer_for_Portfolio_Allocation/requirements.txt"
      ]
    },
    {
      "cell_type": "code",
      "execution_count": null,
      "metadata": {
        "id": "dD3CKWgkelU1"
      },
      "outputs": [],
      "source": [
        "from Hybrid_Transformer_for_Portfolio_Allocation.data.eq_data_loader import get_eq_data\n",
        "from Hybrid_Transformer_for_Portfolio_Allocation.data.data_prep_hybrid import hybrid_transformer_database\n",
        "from Hybrid_Transformer_for_Portfolio_Allocation.data.data_prep_vanilla import vanilla_transformer_database\n",
        "from Hybrid_Transformer_for_Portfolio_Allocation.models.benchmark_transformer_model import Transformer_Portfolio\n",
        "\n",
        "import pandas as pd\n",
        "import numpy as np\n",
        "import tensorflow as tf\n",
        "import json"
      ]
    },
    {
      "cell_type": "code",
      "execution_count": null,
      "metadata": {
        "id": "suPyJJGNe0Bx"
      },
      "outputs": [],
      "source": [
        "data_config = json.load(open('/content/Hybrid_Transformer_for_Portfolio_Allocation/configs/data_config.json', 'r'))"
      ]
    },
    {
      "cell_type": "markdown",
      "metadata": {},
      "source": [
        "### Getting Data"
      ]
    },
    {
      "cell_type": "code",
      "execution_count": null,
      "metadata": {
        "colab": {
          "base_uri": "https://localhost:8080/"
        },
        "id": "rfP2KKp2eus1",
        "outputId": "f4b0e7ff-1716-4a75-875f-9a7038bfd517"
      },
      "outputs": [
        {
          "name": "stderr",
          "output_type": "stream",
          "text": [
            "[*********************100%%**********************]  50 of 50 completed\n"
          ]
        }
      ],
      "source": [
        "data = get_eq_data(\n",
        "    '/content/Hybrid_Transformer_for_Portfolio_Allocation/data/nifty_50_metadata.csv',\n",
        "    start = data_config['data_start_date'],\n",
        "    end = data_config['data_end_date'],\n",
        "    corr_thresh = data_config['correlation_thresh'],\n",
        "    market_cap_filter = data_config['market_cap_filter']\n",
        ")"
      ]
    },
    {
      "cell_type": "code",
      "execution_count": null,
      "metadata": {
        "colab": {
          "base_uri": "https://localhost:8080/"
        },
        "id": "qnLUy60Cev_Q",
        "outputId": "239bb10c-ff8e-434d-b298-e362c9431c84"
      },
      "outputs": [
        {
          "name": "stdout",
          "output_type": "stream",
          "text": [
            "(1970, 16, 34) (500, 16, 34) (1970, 17) (500, 17)\n"
          ]
        }
      ],
      "source": [
        "xtrain, xtest, ytrain, ytest, train_index, test_index = vanilla_transformer_database(data = data, timestep = 16, lag = 1, lagSD = 10, test_size= 0.2, purge_size = 30)\n",
        "print(xtrain.shape, xtest.shape, ytrain.shape, ytest.shape)"
      ]
    },
    {
      "cell_type": "code",
      "execution_count": null,
      "metadata": {
        "id": "klJz-Aa9W4VX"
      },
      "outputs": [],
      "source": [
        "tf.keras.backend.clear_session()"
      ]
    },
    {
      "cell_type": "markdown",
      "metadata": {
        "id": "5GvfbmJcyc9-"
      },
      "source": [
        "### Grid Search Validation"
      ]
    },
    {
      "cell_type": "code",
      "execution_count": null,
      "metadata": {
        "id": "XXZRKJxgrhu7"
      },
      "outputs": [],
      "source": [
        "cv_sharpe_thresh = 0.19\n",
        "current_sharpe = 0"
      ]
    },
    {
      "cell_type": "code",
      "execution_count": null,
      "metadata": {
        "id": "D_5yjpW6x4hG"
      },
      "outputs": [],
      "source": [
        "from sklearn.model_selection import train_test_split\n",
        "attention_numbers = [17, 34]\n",
        "learning_rates = [0.01, 0.001, 0.0001]\n",
        "batch_sizes = [8, 64, 128, 256]\n",
        "dropouts = [0.05, 0.1]\n",
        "\n",
        "trainx_, valx, trainy_, valy = train_test_split(xtrain.numpy(), ytrain.numpy(), test_size = 0.2, shuffle = False)\n",
        "\n",
        "model_performance = pd.DataFrame()"
      ]
    },
    {
      "cell_type": "code",
      "execution_count": null,
      "metadata": {
        "colab": {
          "base_uri": "https://localhost:8080/"
        },
        "collapsed": true,
        "id": "T0D1lzZTOhTn",
        "outputId": "3797ee40-23c5-41b9-b20e-a3b6cf61ea6d"
      },
      "outputs": [
        {
          "name": "stdout",
          "output_type": "stream",
          "text": [
            "12/12 [==============================] - 1s 11ms/step\n",
            "12/12 [==============================] - 0s 6ms/step\n",
            "12/12 [==============================] - 0s 6ms/step\n",
            "12/12 [==============================] - 0s 6ms/step\n",
            "12/12 [==============================] - 0s 6ms/step\n",
            "12/12 [==============================] - 0s 6ms/step\n",
            "12/12 [==============================] - 0s 9ms/step\n",
            "12/12 [==============================] - 0s 5ms/step\n",
            "12/12 [==============================] - 0s 6ms/step\n",
            "12/12 [==============================] - 0s 6ms/step\n",
            "12/12 [==============================] - 1s 6ms/step\n",
            "12/12 [==============================] - 0s 10ms/step\n",
            "12/12 [==============================] - 1s 5ms/step\n",
            "12/12 [==============================] - 0s 10ms/step\n",
            "12/12 [==============================] - 0s 7ms/step\n",
            "12/12 [==============================] - 0s 9ms/step\n",
            "12/12 [==============================] - 0s 7ms/step\n",
            "12/12 [==============================] - 0s 6ms/step\n",
            "12/12 [==============================] - 0s 9ms/step\n",
            "12/12 [==============================] - 0s 6ms/step\n",
            "12/12 [==============================] - 0s 10ms/step\n",
            "12/12 [==============================] - 0s 6ms/step\n",
            "12/12 [==============================] - 0s 10ms/step\n",
            "12/12 [==============================] - 0s 6ms/step\n",
            "12/12 [==============================] - 0s 10ms/step\n",
            "12/12 [==============================] - 0s 7ms/step\n",
            "12/12 [==============================] - 0s 7ms/step\n",
            "12/12 [==============================] - 0s 7ms/step\n",
            "12/12 [==============================] - 0s 6ms/step\n",
            "12/12 [==============================] - 0s 6ms/step\n",
            "12/12 [==============================] - 0s 7ms/step\n",
            "12/12 [==============================] - 0s 7ms/step\n",
            "12/12 [==============================] - 0s 6ms/step\n",
            "12/12 [==============================] - 0s 7ms/step\n",
            "12/12 [==============================] - 0s 6ms/step\n",
            "12/12 [==============================] - 0s 7ms/step\n",
            "12/12 [==============================] - 0s 7ms/step\n",
            "12/12 [==============================] - 0s 6ms/step\n",
            "12/12 [==============================] - 0s 7ms/step\n",
            "12/12 [==============================] - 0s 7ms/step\n",
            "12/12 [==============================] - 0s 7ms/step\n",
            "12/12 [==============================] - 0s 7ms/step\n",
            "12/12 [==============================] - 0s 6ms/step\n",
            "12/12 [==============================] - 0s 7ms/step\n",
            "12/12 [==============================] - 0s 7ms/step\n",
            "12/12 [==============================] - 0s 7ms/step\n",
            "12/12 [==============================] - 0s 7ms/step\n",
            "12/12 [==============================] - 0s 6ms/step\n"
          ]
        }
      ],
      "source": [
        "for an in attention_numbers:\n",
        "    for lr in learning_rates:\n",
        "        for bs in batch_sizes:\n",
        "            for dp in dropouts:\n",
        "\n",
        "                trainx = tf.convert_to_tensor(trainx_[:int(trainx_.shape[0] / bs) * bs, :, :], np.float32)\n",
        "                trainy = tf.convert_to_tensor(trainy_[:trainx.shape[0], :], np.float32)\n",
        "                val_price = tf.convert_to_tensor(data.loc[train_index, :].iloc[:trainx.shape[0], :].pct_change().dropna().values, np.float32)\n",
        "\n",
        "                model = Transformer_Portfolio(trainx.shape[1], trainx.shape[2], outputShape = trainy.shape[1],  headsAttention = an, dropout= dp, learningRate = lr)\n",
        "                model.allocation_vanilla_train(trainx, trainy, Epochs = 5, BatchSize = bs)\n",
        "\n",
        "                eval_price = data.iloc[:xtrain.shape[0], :].iloc[-valx.shape[0] + 10:, :]\n",
        "                eval_weights = model.allocation_vanilla_test(valx[10:, :])\n",
        "                eval_mean = (eval_price.pct_change().dropna() * eval_weights[:-1, :]).sum(axis = 1).mean()\n",
        "                eval_std = (eval_price.pct_change().dropna() * eval_weights[:-1, :]).sum(axis = 1).std()\n",
        "                eval_sharpe = eval_mean / eval_std\n",
        "\n",
        "                if eval_sharpe > cv_sharpe_thresh:\n",
        "                    model.vanilla_save_weights('best_weights.h5')\n",
        "                if eval_sharpe > current_sharpe:\n",
        "                    current_sharpe = eval_sharpe\n",
        "                    model.vanilla_save_weights('current_best.h5')\n",
        "\n",
        "                tf.keras.backend.clear_session()\n",
        "\n",
        "                temp_performance = pd.DataFrame()\n",
        "                temp_performance['attention_num'] = [an]\n",
        "                temp_performance['learning_rate'] = [lr]\n",
        "                temp_performance['batch_size'] = [bs]\n",
        "                temp_performance['dropout'] = [dp]\n",
        "                temp_performance['eval_sharpe_ratio'] = [eval_sharpe]\n",
        "\n",
        "                model_performance = pd.concat([model_performance, temp_performance])"
      ]
    },
    {
      "cell_type": "code",
      "execution_count": null,
      "metadata": {
        "colab": {
          "base_uri": "https://localhost:8080/",
          "height": 206
        },
        "id": "qxTSFCLQV8Oe",
        "outputId": "c27f87e5-6a85-41bc-84da-876aa59763cc"
      },
      "outputs": [
        {
          "data": {
            "application/vnd.google.colaboratory.intrinsic+json": {
              "summary": "{\n  \"name\": \"model_performance\",\n  \"rows\": 5,\n  \"fields\": [\n    {\n      \"column\": \"attention_num\",\n      \"properties\": {\n        \"dtype\": \"number\",\n        \"std\": 7,\n        \"min\": 17,\n        \"max\": 34,\n        \"num_unique_values\": 2,\n        \"samples\": [\n          17,\n          34\n        ],\n        \"semantic_type\": \"\",\n        \"description\": \"\"\n      }\n    },\n    {\n      \"column\": \"learning_rate\",\n      \"properties\": {\n        \"dtype\": \"number\",\n        \"std\": 0.0049295030175464955,\n        \"min\": 0.001,\n        \"max\": 0.01,\n        \"num_unique_values\": 2,\n        \"samples\": [\n          0.001,\n          0.01\n        ],\n        \"semantic_type\": \"\",\n        \"description\": \"\"\n      }\n    },\n    {\n      \"column\": \"batch_size\",\n      \"properties\": {\n        \"dtype\": \"number\",\n        \"std\": 104,\n        \"min\": 8,\n        \"max\": 256,\n        \"num_unique_values\": 3,\n        \"samples\": [\n          128,\n          8\n        ],\n        \"semantic_type\": \"\",\n        \"description\": \"\"\n      }\n    },\n    {\n      \"column\": \"dropout\",\n      \"properties\": {\n        \"dtype\": \"number\",\n        \"std\": 0.027386127875258306,\n        \"min\": 0.05,\n        \"max\": 0.1,\n        \"num_unique_values\": 2,\n        \"samples\": [\n          0.1,\n          0.05\n        ],\n        \"semantic_type\": \"\",\n        \"description\": \"\"\n      }\n    },\n    {\n      \"column\": \"eval_sharpe_ratio\",\n      \"properties\": {\n        \"dtype\": \"number\",\n        \"std\": 0.003741381625828177,\n        \"min\": 0.1640760295462769,\n        \"max\": 0.17180723669207512,\n        \"num_unique_values\": 5,\n        \"samples\": [\n          0.1711129893246169,\n          0.1640760295462769\n        ],\n        \"semantic_type\": \"\",\n        \"description\": \"\"\n      }\n    }\n  ]\n}",
              "type": "dataframe"
            },
            "text/html": [
              "\n",
              "  <div id=\"df-eeea5fc2-7853-456d-a712-dca372e152d8\" class=\"colab-df-container\">\n",
              "    <div>\n",
              "<style scoped>\n",
              "    .dataframe tbody tr th:only-of-type {\n",
              "        vertical-align: middle;\n",
              "    }\n",
              "\n",
              "    .dataframe tbody tr th {\n",
              "        vertical-align: top;\n",
              "    }\n",
              "\n",
              "    .dataframe thead th {\n",
              "        text-align: right;\n",
              "    }\n",
              "</style>\n",
              "<table border=\"1\" class=\"dataframe\">\n",
              "  <thead>\n",
              "    <tr style=\"text-align: right;\">\n",
              "      <th></th>\n",
              "      <th>attention_num</th>\n",
              "      <th>learning_rate</th>\n",
              "      <th>batch_size</th>\n",
              "      <th>dropout</th>\n",
              "      <th>eval_sharpe_ratio</th>\n",
              "    </tr>\n",
              "  </thead>\n",
              "  <tbody>\n",
              "    <tr>\n",
              "      <th>0</th>\n",
              "      <td>34</td>\n",
              "      <td>0.010</td>\n",
              "      <td>128</td>\n",
              "      <td>0.05</td>\n",
              "      <td>0.171807</td>\n",
              "    </tr>\n",
              "    <tr>\n",
              "      <th>0</th>\n",
              "      <td>17</td>\n",
              "      <td>0.001</td>\n",
              "      <td>8</td>\n",
              "      <td>0.05</td>\n",
              "      <td>0.171113</td>\n",
              "    </tr>\n",
              "    <tr>\n",
              "      <th>0</th>\n",
              "      <td>34</td>\n",
              "      <td>0.010</td>\n",
              "      <td>128</td>\n",
              "      <td>0.10</td>\n",
              "      <td>0.170273</td>\n",
              "    </tr>\n",
              "    <tr>\n",
              "      <th>0</th>\n",
              "      <td>34</td>\n",
              "      <td>0.001</td>\n",
              "      <td>256</td>\n",
              "      <td>0.10</td>\n",
              "      <td>0.164550</td>\n",
              "    </tr>\n",
              "    <tr>\n",
              "      <th>0</th>\n",
              "      <td>34</td>\n",
              "      <td>0.001</td>\n",
              "      <td>256</td>\n",
              "      <td>0.05</td>\n",
              "      <td>0.164076</td>\n",
              "    </tr>\n",
              "  </tbody>\n",
              "</table>\n",
              "</div>\n",
              "    <div class=\"colab-df-buttons\">\n",
              "\n",
              "  <div class=\"colab-df-container\">\n",
              "    <button class=\"colab-df-convert\" onclick=\"convertToInteractive('df-eeea5fc2-7853-456d-a712-dca372e152d8')\"\n",
              "            title=\"Convert this dataframe to an interactive table.\"\n",
              "            style=\"display:none;\">\n",
              "\n",
              "  <svg xmlns=\"http://www.w3.org/2000/svg\" height=\"24px\" viewBox=\"0 -960 960 960\">\n",
              "    <path d=\"M120-120v-720h720v720H120Zm60-500h600v-160H180v160Zm220 220h160v-160H400v160Zm0 220h160v-160H400v160ZM180-400h160v-160H180v160Zm440 0h160v-160H620v160ZM180-180h160v-160H180v160Zm440 0h160v-160H620v160Z\"/>\n",
              "  </svg>\n",
              "    </button>\n",
              "\n",
              "  <style>\n",
              "    .colab-df-container {\n",
              "      display:flex;\n",
              "      gap: 12px;\n",
              "    }\n",
              "\n",
              "    .colab-df-convert {\n",
              "      background-color: #E8F0FE;\n",
              "      border: none;\n",
              "      border-radius: 50%;\n",
              "      cursor: pointer;\n",
              "      display: none;\n",
              "      fill: #1967D2;\n",
              "      height: 32px;\n",
              "      padding: 0 0 0 0;\n",
              "      width: 32px;\n",
              "    }\n",
              "\n",
              "    .colab-df-convert:hover {\n",
              "      background-color: #E2EBFA;\n",
              "      box-shadow: 0px 1px 2px rgba(60, 64, 67, 0.3), 0px 1px 3px 1px rgba(60, 64, 67, 0.15);\n",
              "      fill: #174EA6;\n",
              "    }\n",
              "\n",
              "    .colab-df-buttons div {\n",
              "      margin-bottom: 4px;\n",
              "    }\n",
              "\n",
              "    [theme=dark] .colab-df-convert {\n",
              "      background-color: #3B4455;\n",
              "      fill: #D2E3FC;\n",
              "    }\n",
              "\n",
              "    [theme=dark] .colab-df-convert:hover {\n",
              "      background-color: #434B5C;\n",
              "      box-shadow: 0px 1px 3px 1px rgba(0, 0, 0, 0.15);\n",
              "      filter: drop-shadow(0px 1px 2px rgba(0, 0, 0, 0.3));\n",
              "      fill: #FFFFFF;\n",
              "    }\n",
              "  </style>\n",
              "\n",
              "    <script>\n",
              "      const buttonEl =\n",
              "        document.querySelector('#df-eeea5fc2-7853-456d-a712-dca372e152d8 button.colab-df-convert');\n",
              "      buttonEl.style.display =\n",
              "        google.colab.kernel.accessAllowed ? 'block' : 'none';\n",
              "\n",
              "      async function convertToInteractive(key) {\n",
              "        const element = document.querySelector('#df-eeea5fc2-7853-456d-a712-dca372e152d8');\n",
              "        const dataTable =\n",
              "          await google.colab.kernel.invokeFunction('convertToInteractive',\n",
              "                                                    [key], {});\n",
              "        if (!dataTable) return;\n",
              "\n",
              "        const docLinkHtml = 'Like what you see? Visit the ' +\n",
              "          '<a target=\"_blank\" href=https://colab.research.google.com/notebooks/data_table.ipynb>data table notebook</a>'\n",
              "          + ' to learn more about interactive tables.';\n",
              "        element.innerHTML = '';\n",
              "        dataTable['output_type'] = 'display_data';\n",
              "        await google.colab.output.renderOutput(dataTable, element);\n",
              "        const docLink = document.createElement('div');\n",
              "        docLink.innerHTML = docLinkHtml;\n",
              "        element.appendChild(docLink);\n",
              "      }\n",
              "    </script>\n",
              "  </div>\n",
              "\n",
              "\n",
              "<div id=\"df-538c8bf7-0f2a-4d1d-9cab-17585b6cbf74\">\n",
              "  <button class=\"colab-df-quickchart\" onclick=\"quickchart('df-538c8bf7-0f2a-4d1d-9cab-17585b6cbf74')\"\n",
              "            title=\"Suggest charts\"\n",
              "            style=\"display:none;\">\n",
              "\n",
              "<svg xmlns=\"http://www.w3.org/2000/svg\" height=\"24px\"viewBox=\"0 0 24 24\"\n",
              "     width=\"24px\">\n",
              "    <g>\n",
              "        <path d=\"M19 3H5c-1.1 0-2 .9-2 2v14c0 1.1.9 2 2 2h14c1.1 0 2-.9 2-2V5c0-1.1-.9-2-2-2zM9 17H7v-7h2v7zm4 0h-2V7h2v10zm4 0h-2v-4h2v4z\"/>\n",
              "    </g>\n",
              "</svg>\n",
              "  </button>\n",
              "\n",
              "<style>\n",
              "  .colab-df-quickchart {\n",
              "      --bg-color: #E8F0FE;\n",
              "      --fill-color: #1967D2;\n",
              "      --hover-bg-color: #E2EBFA;\n",
              "      --hover-fill-color: #174EA6;\n",
              "      --disabled-fill-color: #AAA;\n",
              "      --disabled-bg-color: #DDD;\n",
              "  }\n",
              "\n",
              "  [theme=dark] .colab-df-quickchart {\n",
              "      --bg-color: #3B4455;\n",
              "      --fill-color: #D2E3FC;\n",
              "      --hover-bg-color: #434B5C;\n",
              "      --hover-fill-color: #FFFFFF;\n",
              "      --disabled-bg-color: #3B4455;\n",
              "      --disabled-fill-color: #666;\n",
              "  }\n",
              "\n",
              "  .colab-df-quickchart {\n",
              "    background-color: var(--bg-color);\n",
              "    border: none;\n",
              "    border-radius: 50%;\n",
              "    cursor: pointer;\n",
              "    display: none;\n",
              "    fill: var(--fill-color);\n",
              "    height: 32px;\n",
              "    padding: 0;\n",
              "    width: 32px;\n",
              "  }\n",
              "\n",
              "  .colab-df-quickchart:hover {\n",
              "    background-color: var(--hover-bg-color);\n",
              "    box-shadow: 0 1px 2px rgba(60, 64, 67, 0.3), 0 1px 3px 1px rgba(60, 64, 67, 0.15);\n",
              "    fill: var(--button-hover-fill-color);\n",
              "  }\n",
              "\n",
              "  .colab-df-quickchart-complete:disabled,\n",
              "  .colab-df-quickchart-complete:disabled:hover {\n",
              "    background-color: var(--disabled-bg-color);\n",
              "    fill: var(--disabled-fill-color);\n",
              "    box-shadow: none;\n",
              "  }\n",
              "\n",
              "  .colab-df-spinner {\n",
              "    border: 2px solid var(--fill-color);\n",
              "    border-color: transparent;\n",
              "    border-bottom-color: var(--fill-color);\n",
              "    animation:\n",
              "      spin 1s steps(1) infinite;\n",
              "  }\n",
              "\n",
              "  @keyframes spin {\n",
              "    0% {\n",
              "      border-color: transparent;\n",
              "      border-bottom-color: var(--fill-color);\n",
              "      border-left-color: var(--fill-color);\n",
              "    }\n",
              "    20% {\n",
              "      border-color: transparent;\n",
              "      border-left-color: var(--fill-color);\n",
              "      border-top-color: var(--fill-color);\n",
              "    }\n",
              "    30% {\n",
              "      border-color: transparent;\n",
              "      border-left-color: var(--fill-color);\n",
              "      border-top-color: var(--fill-color);\n",
              "      border-right-color: var(--fill-color);\n",
              "    }\n",
              "    40% {\n",
              "      border-color: transparent;\n",
              "      border-right-color: var(--fill-color);\n",
              "      border-top-color: var(--fill-color);\n",
              "    }\n",
              "    60% {\n",
              "      border-color: transparent;\n",
              "      border-right-color: var(--fill-color);\n",
              "    }\n",
              "    80% {\n",
              "      border-color: transparent;\n",
              "      border-right-color: var(--fill-color);\n",
              "      border-bottom-color: var(--fill-color);\n",
              "    }\n",
              "    90% {\n",
              "      border-color: transparent;\n",
              "      border-bottom-color: var(--fill-color);\n",
              "    }\n",
              "  }\n",
              "</style>\n",
              "\n",
              "  <script>\n",
              "    async function quickchart(key) {\n",
              "      const quickchartButtonEl =\n",
              "        document.querySelector('#' + key + ' button');\n",
              "      quickchartButtonEl.disabled = true;  // To prevent multiple clicks.\n",
              "      quickchartButtonEl.classList.add('colab-df-spinner');\n",
              "      try {\n",
              "        const charts = await google.colab.kernel.invokeFunction(\n",
              "            'suggestCharts', [key], {});\n",
              "      } catch (error) {\n",
              "        console.error('Error during call to suggestCharts:', error);\n",
              "      }\n",
              "      quickchartButtonEl.classList.remove('colab-df-spinner');\n",
              "      quickchartButtonEl.classList.add('colab-df-quickchart-complete');\n",
              "    }\n",
              "    (() => {\n",
              "      let quickchartButtonEl =\n",
              "        document.querySelector('#df-538c8bf7-0f2a-4d1d-9cab-17585b6cbf74 button');\n",
              "      quickchartButtonEl.style.display =\n",
              "        google.colab.kernel.accessAllowed ? 'block' : 'none';\n",
              "    })();\n",
              "  </script>\n",
              "</div>\n",
              "    </div>\n",
              "  </div>\n"
            ],
            "text/plain": [
              "   attention_num  learning_rate  batch_size  dropout  eval_sharpe_ratio\n",
              "0             34          0.010         128     0.05           0.171807\n",
              "0             17          0.001           8     0.05           0.171113\n",
              "0             34          0.010         128     0.10           0.170273\n",
              "0             34          0.001         256     0.10           0.164550\n",
              "0             34          0.001         256     0.05           0.164076"
            ]
          },
          "execution_count": 10,
          "metadata": {},
          "output_type": "execute_result"
        }
      ],
      "source": [
        "model_performance.sort_values('eval_sharpe_ratio', ascending = False).head()"
      ]
    },
    {
      "cell_type": "code",
      "execution_count": null,
      "metadata": {
        "id": "F9P2ORaVSP3n"
      },
      "outputs": [],
      "source": [
        "tf.keras.backend.clear_session()"
      ]
    },
    {
      "cell_type": "code",
      "execution_count": null,
      "metadata": {
        "id": "e9dDDQdRsLrr"
      },
      "outputs": [],
      "source": [
        "Dropout = 0.05\n",
        "LearningRate = 0.01\n",
        "Epochs = 100\n",
        "BatchSize = 8\n",
        "num_heads = 34\n",
        "\n",
        "trainx = tf.convert_to_tensor(trainx_[:int(trainx_.shape[0] / BatchSize) * BatchSize, :, :], np.float32)\n",
        "trainy = tf.convert_to_tensor(trainy_[:trainx.shape[0], :], np.float32)\n",
        "\n",
        "model = Transformer_Portfolio(trainx.shape[1], trainx.shape[2], outputShape = trainy.shape[1],  headsAttention = num_heads, dropout= Dropout, learningRate = LearningRate)\n",
        "model.vanilla_load_weights('current_best.h5')\n",
        "model.allocation_vanilla_train(trainx, trainy, Epochs = Epochs, BatchSize = BatchSize)"
      ]
    },
    {
      "cell_type": "code",
      "execution_count": null,
      "metadata": {
        "colab": {
          "base_uri": "https://localhost:8080/"
        },
        "id": "uCYzfAFd9qZ5",
        "outputId": "109409bf-8da4-4a39-b061-27ec8817c4a6"
      },
      "outputs": [
        {
          "name": "stdout",
          "output_type": "stream",
          "text": [
            "12/12 [==============================] - 0s 7ms/step\n"
          ]
        }
      ],
      "source": [
        "eval_price = data.iloc[:xtrain.shape[0], :].iloc[-valx.shape[0]+10:, :]\n",
        "eval_weights = model.allocation_vanilla_test(valx[10:, :])\n",
        "eval_mean = (eval_price * eval_weights).sum(axis = 1).pct_change().dropna().mean()\n",
        "eval_std = (eval_price * eval_weights).sum(axis = 1).pct_change().dropna().std()\n",
        "eval_sharpe = eval_mean / eval_std"
      ]
    },
    {
      "cell_type": "code",
      "execution_count": null,
      "metadata": {
        "colab": {
          "base_uri": "https://localhost:8080/"
        },
        "id": "PDPAilU_90fs",
        "outputId": "fa4f8c71-3973-4713-c7b6-a86a69eaea56"
      },
      "outputs": [
        {
          "data": {
            "text/plain": [
              "(0.001474335292035802, 0.010130075103673317, 0.14554041080121766)"
            ]
          },
          "execution_count": 14,
          "metadata": {},
          "output_type": "execute_result"
        }
      ],
      "source": [
        "eval_mean, eval_std, eval_sharpe"
      ]
    },
    {
      "cell_type": "markdown",
      "metadata": {},
      "source": [
        "### Test on Test Set"
      ]
    },
    {
      "cell_type": "code",
      "execution_count": null,
      "metadata": {
        "colab": {
          "base_uri": "https://localhost:8080/"
        },
        "id": "Sp0m21zKY29f",
        "outputId": "b7edbc88-ed29-4c7d-f527-915f1f9cecb7"
      },
      "outputs": [
        {
          "name": "stdout",
          "output_type": "stream",
          "text": [
            "16/16 [==============================] - 0s 7ms/step\n"
          ]
        }
      ],
      "source": [
        "test_weights = model.allocation_vanilla_test(xtest)"
      ]
    },
    {
      "cell_type": "code",
      "execution_count": null,
      "metadata": {
        "colab": {
          "base_uri": "https://localhost:8080/"
        },
        "id": "0BVKwwOsaScs",
        "outputId": "35d5004b-63fe-4580-a50a-fb30eae12925"
      },
      "outputs": [
        {
          "data": {
            "text/plain": [
              "0.0005324320767760741"
            ]
          },
          "execution_count": 16,
          "metadata": {},
          "output_type": "execute_result"
        }
      ],
      "source": [
        "test_mean = ((data.loc[test_index, :].pct_change().dropna() * test_weights[:-1, :].round(3)).sum(axis = 1) - 0.01 * (test_weights[1:, :] - test_weights[:-1, :]).sum(axis = 1)).mean()\n",
        "test_mean"
      ]
    },
    {
      "cell_type": "code",
      "execution_count": null,
      "metadata": {
        "colab": {
          "base_uri": "https://localhost:8080/"
        },
        "id": "LG5quVbWaaQ6",
        "outputId": "5d64c7cb-86f2-4007-e13e-7527a5c1f4f1"
      },
      "outputs": [
        {
          "data": {
            "text/plain": [
              "0.008062692436702422"
            ]
          },
          "execution_count": 17,
          "metadata": {},
          "output_type": "execute_result"
        }
      ],
      "source": [
        "test_std = ((data.loc[test_index, :].pct_change().dropna() * test_weights[:-1, :].round(3)).sum(axis = 1) - 0.01 * (test_weights[1:, :] - test_weights[:-1, :]).sum(axis = 1)).std()\n",
        "test_std"
      ]
    },
    {
      "cell_type": "code",
      "execution_count": null,
      "metadata": {
        "id": "FDjqXZfhasHB"
      },
      "outputs": [],
      "source": [
        "test_sharpe = test_mean / test_std"
      ]
    },
    {
      "cell_type": "code",
      "execution_count": null,
      "metadata": {
        "colab": {
          "base_uri": "https://localhost:8080/"
        },
        "id": "sxRRpdFcauW2",
        "outputId": "e124f8d6-6eb5-40c4-9394-5c5eed4225b3"
      },
      "outputs": [
        {
          "data": {
            "text/plain": [
              "0.06603651087475124"
            ]
          },
          "execution_count": 19,
          "metadata": {},
          "output_type": "execute_result"
        }
      ],
      "source": [
        "test_sharpe"
      ]
    },
    {
      "cell_type": "code",
      "execution_count": null,
      "metadata": {
        "id": "BdkBWXXnavPs"
      },
      "outputs": [],
      "source": [
        "eq_w_mean = (data.loc[test_index, :].iloc[1:, :] * np.ones(test_weights.shape)[:-1, :] * 10000 / 17).sum(axis = 1).pct_change().dropna().mean()\n",
        "eq_w_std = (data.loc[test_index, :].iloc[1:, :] * np.ones(test_weights.shape)[:-1, :] * 10000 / 17).sum(axis = 1).pct_change().dropna().std()"
      ]
    },
    {
      "cell_type": "code",
      "execution_count": null,
      "metadata": {
        "colab": {
          "base_uri": "https://localhost:8080/"
        },
        "id": "bYDJKTpFa9pP",
        "outputId": "9908012b-1f6f-4f93-c5f8-b3bab5008ddb"
      },
      "outputs": [
        {
          "data": {
            "text/plain": [
              "0.09016788645565059"
            ]
          },
          "execution_count": 21,
          "metadata": {},
          "output_type": "execute_result"
        }
      ],
      "source": [
        "eq_w_mean / eq_w_std"
      ]
    },
    {
      "cell_type": "code",
      "execution_count": null,
      "metadata": {
        "colab": {
          "base_uri": "https://localhost:8080/"
        },
        "id": "N5oASrfla--O",
        "outputId": "206c58b0-1c64-43c4-e860-63948d0d4f45"
      },
      "outputs": [
        {
          "data": {
            "text/plain": [
              "(0.0005324320767760741, 0.0007130023896805516)"
            ]
          },
          "execution_count": 22,
          "metadata": {},
          "output_type": "execute_result"
        }
      ],
      "source": [
        "test_mean, eq_w_mean"
      ]
    },
    {
      "cell_type": "code",
      "execution_count": null,
      "metadata": {
        "colab": {
          "base_uri": "https://localhost:8080/"
        },
        "id": "fAOlTgE9b13N",
        "outputId": "b34692f1-aed1-4bd7-88ed-b476d629128c"
      },
      "outputs": [
        {
          "data": {
            "text/plain": [
              "(0.008062692436702422, 0.007907498087262415)"
            ]
          },
          "execution_count": 23,
          "metadata": {},
          "output_type": "execute_result"
        }
      ],
      "source": [
        "test_std, eq_w_std"
      ]
    },
    {
      "cell_type": "code",
      "execution_count": null,
      "metadata": {
        "colab": {
          "base_uri": "https://localhost:8080/"
        },
        "id": "BPzfe41GcCTa",
        "outputId": "a803c7cd-bb23-4dc2-e4b1-99e9f199d2a7"
      },
      "outputs": [
        {
          "data": {
            "image/png": "[encoded data removed]",
            "text/plain": [
              "<Figure size 640x480 with 1 Axes>"
            ]
          },
          "metadata": {},
          "output_type": "display_data"
        }
      ],
      "source": [
        "import matplotlib.pyplot as plt\n",
        "((data.loc[test_index, :].pct_change().dropna() * test_weights[:-1, :]).sum(axis = 1).cumsum()  * 100).plot(color = 'green')\n",
        "((data.loc[test_index, :].pct_change().dropna() * np.ones(test_weights[:-1, :].shape) * 1 / 17).sum(axis = 1).cumsum() * 100).plot(color = 'blue',)\n",
        "plt.legend(['Transformer Portfolio', 'EQ_Weight Method'])\n",
        "plt.xlabel('Predicted_Date')\n",
        "plt.ylabel('Cumulative Returns %')\n",
        "plt.show()"
      ]
    },
    {
      "cell_type": "code",
      "execution_count": null,
      "metadata": {
        "id": "jjjWo005_JO3"
      },
      "outputs": [],
      "source": [
        "model.vanilla_save_weights('vanilla_model_trained_weights.h5')"
      ]
    },
    {
      "cell_type": "code",
      "execution_count": null,
      "metadata": {
        "id": "7GM64_Nj5Oy1"
      },
      "outputs": [],
      "source": []
    }
  ],
  "metadata": {
    "colab": {
      "provenance": []
    },
    "kernelspec": {
      "display_name": "Python 3",
      "name": "python3"
    },
    "language_info": {
      "name": "python"
    }
  },
  "nbformat": 4,
  "nbformat_minor": 0
}
