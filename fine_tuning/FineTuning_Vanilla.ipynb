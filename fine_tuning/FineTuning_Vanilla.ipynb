{
  "nbformat": 4,
  "nbformat_minor": 0,
  "metadata": {
    "colab": {
      "provenance": []
    },
    "kernelspec": {
      "name": "python3",
      "display_name": "Python 3"
    },
    "language_info": {
      "name": "python"
    }
  },
  "cells": [
    {
      "cell_type": "code",
      "execution_count": 2,
      "metadata": {
        "colab": {
          "base_uri": "https://localhost:8080/"
        },
        "id": "2hCwdTS3duOc",
        "outputId": "e8da2058-3a4b-4509-8cb2-fed602a3c783"
      },
      "outputs": [
        {
          "output_type": "stream",
          "name": "stdout",
          "text": [
            "Cloning into 'Hybrid_Transformer_for_Portfolio_Allocation'...\n",
            "remote: Enumerating objects: 117, done.\u001b[K\n",
            "remote: Counting objects: 100% (117/117), done.\u001b[K\n",
            "remote: Compressing objects: 100% (111/111), done.\u001b[K\n",
            "remote: Total 117 (delta 49), reused 0 (delta 0), pack-reused 0\u001b[K\n",
            "Receiving objects: 100% (117/117), 20.09 MiB | 16.50 MiB/s, done.\n",
            "Resolving deltas: 100% (49/49), done.\n",
            "  Preparing metadata (setup.py) ... \u001b[?25l\u001b[?25hdone\n",
            "\u001b[2K     \u001b[90m━━━━━━━━━━━━━━━━━━━━━━━━━━━━━━━━━━━━━━━━\u001b[0m \u001b[32m983.4/983.4 kB\u001b[0m \u001b[31m11.6 MB/s\u001b[0m eta \u001b[36m0:00:00\u001b[0m\n",
            "\u001b[?25h  Building wheel for ta (setup.py) ... \u001b[?25l\u001b[?25hdone\n"
          ]
        }
      ],
      "source": [
        "!git clone https://github.com/sai-phyo-hein/Hybrid_Transformer_for_Portfolio_Allocation.git\n",
        "!pip install -q -r /content/Hybrid_Transformer_for_Portfolio_Allocation/requirements.txt"
      ]
    },
    {
      "cell_type": "code",
      "source": [
        "from runtime_test.eq_data_loader import get_eq_data\n",
        "from runtime_test.data_prep_vanilla import vanilla_transformer_database\n",
        "from runtime_test.benchmark_transformer_model import Transformer_Portfolio\n",
        "\n",
        "import pandas as pd\n",
        "import numpy as np\n",
        "import tensorflow as tf\n",
        "import json"
      ],
      "metadata": {
        "id": "dD3CKWgkelU1"
      },
      "execution_count": null,
      "outputs": []
    },
    {
      "cell_type": "code",
      "source": [
        "data_config = json.load(open('/content/runtime_test/data_config.json', 'r'))"
      ],
      "metadata": {
        "id": "suPyJJGNe0Bx"
      },
      "execution_count": null,
      "outputs": []
    },
    {
      "cell_type": "code",
      "source": [
        "data = get_eq_data(\n",
        "    '/content/runtime_test/nifty_50_metadata.csv',\n",
        "    start = data_config['data_start_date'],\n",
        "    end = data_config['data_end_date'],\n",
        "    corr_thresh = data_config['correlation_thresh'],\n",
        "    market_cap_filter = data_config['market_cap_filter']\n",
        ")"
      ],
      "metadata": {
        "colab": {
          "base_uri": "https://localhost:8080/"
        },
        "id": "rfP2KKp2eus1",
        "outputId": "e36dac04-6538-4ced-9313-aa83b3c907fe"
      },
      "execution_count": null,
      "outputs": [
        {
          "output_type": "stream",
          "name": "stderr",
          "text": [
            "[*********************100%%**********************]  50 of 50 completed\n"
          ]
        }
      ]
    },
    {
      "cell_type": "code",
      "source": [
        "xtrain, xtest, ytrain, ytest, train_index, test_index = vanilla_transformer_database(data = data, timestep = 16, lag = 5, lagSD = 5, test_size= 0.2, purge_size = 30)\n",
        "print(xtrain.shape, xtest.shape, ytrain.shape, ytest.shape)"
      ],
      "metadata": {
        "colab": {
          "base_uri": "https://localhost:8080/"
        },
        "id": "qnLUy60Cev_Q",
        "outputId": "fa7f72ab-f866-4505-909d-4217843f38cd"
      },
      "execution_count": null,
      "outputs": [
        {
          "output_type": "stream",
          "name": "stdout",
          "text": [
            "(1974, 16, 34) (501, 16, 34) (1974, 17) (501, 17)\n"
          ]
        }
      ]
    },
    {
      "cell_type": "code",
      "source": [
        "tf.keras.backend.clear_session()"
      ],
      "metadata": {
        "id": "klJz-Aa9W4VX"
      },
      "execution_count": null,
      "outputs": []
    },
    {
      "cell_type": "code",
      "source": [
        "from sklearn.model_selection import train_test_split\n",
        "attention_numbers = [17, 34]\n",
        "learning_rates = [0.01, 0.001, 0.0001]\n",
        "batch_sizes = [4, 8, 16]\n",
        "dropouts = [0.05, 0.1]\n",
        "\n",
        "trainx, valx, trainy, valy = train_test_split(xtrain.numpy(), ytrain.numpy(), test_size = 0.2, shuffle = False)\n",
        "\n",
        "model_performance = pd.DataFrame()\n",
        "\n",
        "for an in attention_numbers:\n",
        "    for lr in learning_rates:\n",
        "        for bs in batch_sizes:\n",
        "            for dp in dropouts:\n",
        "                trainx = tf.convert_to_tensor(trainx[:int(trainx.shape[0] / bs) * bs, :, :], np.float32)\n",
        "                trainy = tf.convert_to_tensor(trainy[:trainx.shape[0], :], np.float32)\n",
        "                val_price = tf.convert_to_tensor(data.loc[train_index, :].iloc[:trainx.shape[0], :].pct_change().dropna().values, np.float32)\n",
        "\n",
        "                tf.keras.utils.set_random_seed(42)\n",
        "                tf.config.experimental.enable_op_determinism()\n",
        "\n",
        "                model = Transformer_Portfolio(trainx.shape[1], trainx.shape[2], outputShape = trainy.shape[1],  headsAttention = an, dropout= dp, learningRate = lr, priceData = val_price, lb= 0, ub = 0.3)\n",
        "                model.allocation_vanilla_train(trainx, trainy, Epochs = 10, BatchSize = bs)\n",
        "\n",
        "                eval_price = data.iloc[-valx.shape[0]:, :]\n",
        "                eval_weights = model.allocation_vanilla_test(valx)\n",
        "                eval_mean = (eval_price * eval_weights).sum(axis = 1).pct_change().dropna().mean()\n",
        "                eval_std = (eval_price * eval_weights).sum(axis = 1).pct_change().dropna().std()\n",
        "                eval_sharpe = eval_mean / eval_std\n",
        "\n",
        "                tf.keras.backend.clear_session()\n",
        "\n",
        "                temp_performance = pd.DataFrame()\n",
        "                temp_performance['attention_num'] = [an]\n",
        "                temp_performance['learning_rate'] = [lr]\n",
        "                temp_performance['batch_size'] = [bs]\n",
        "                temp_performance['dropout'] = [dp]\n",
        "                temp_performance['eval_sharpe_ratio'] = [eval_sharpe]\n",
        "\n",
        "                model_performance = pd.concat([model_performance, temp_performance])"
      ],
      "metadata": {
        "colab": {
          "base_uri": "https://localhost:8080/"
        },
        "id": "T0D1lzZTOhTn",
        "outputId": "8aba08f4-0e9b-43f4-8407-168b9433791c"
      },
      "execution_count": null,
      "outputs": [
        {
          "output_type": "stream",
          "name": "stdout",
          "text": [
            "50/50 [==============================] - 1s 5ms/step\n",
            "13/13 [==============================] - 0s 5ms/step\n",
            "50/50 [==============================] - 1s 5ms/step\n",
            "13/13 [==============================] - 0s 6ms/step\n",
            "50/50 [==============================] - 1s 6ms/step\n",
            "13/13 [==============================] - 0s 6ms/step\n",
            "50/50 [==============================] - 1s 5ms/step\n",
            "13/13 [==============================] - 0s 6ms/step\n",
            "49/49 [==============================] - 0s 5ms/step\n",
            "13/13 [==============================] - 0s 6ms/step\n",
            "49/49 [==============================] - 0s 5ms/step\n",
            "13/13 [==============================] - 0s 7ms/step\n",
            "49/49 [==============================] - 0s 5ms/step\n",
            "13/13 [==============================] - 0s 6ms/step\n",
            "49/49 [==============================] - 0s 5ms/step\n",
            "13/13 [==============================] - 0s 6ms/step\n",
            "49/49 [==============================] - 0s 5ms/step\n",
            "13/13 [==============================] - 0s 5ms/step\n",
            "49/49 [==============================] - 1s 5ms/step\n",
            "13/13 [==============================] - 0s 6ms/step\n",
            "49/49 [==============================] - 0s 5ms/step\n",
            "13/13 [==============================] - 0s 5ms/step\n",
            "49/49 [==============================] - 0s 5ms/step\n",
            "13/13 [==============================] - 0s 8ms/step\n",
            "49/49 [==============================] - 0s 5ms/step\n",
            "13/13 [==============================] - 0s 6ms/step\n",
            "49/49 [==============================] - 1s 9ms/step\n",
            "13/13 [==============================] - 0s 6ms/step\n",
            "49/49 [==============================] - 0s 5ms/step\n",
            "13/13 [==============================] - 0s 5ms/step\n",
            "49/49 [==============================] - 0s 5ms/step\n",
            "13/13 [==============================] - 0s 7ms/step\n",
            "49/49 [==============================] - 0s 5ms/step\n",
            "13/13 [==============================] - 0s 6ms/step\n",
            "49/49 [==============================] - 0s 5ms/step\n",
            "13/13 [==============================] - 0s 5ms/step\n",
            "49/49 [==============================] - 0s 6ms/step\n",
            "13/13 [==============================] - 0s 6ms/step\n",
            "49/49 [==============================] - 0s 6ms/step\n",
            "13/13 [==============================] - 0s 6ms/step\n",
            "49/49 [==============================] - 1s 6ms/step\n",
            "13/13 [==============================] - 0s 6ms/step\n",
            "49/49 [==============================] - 1s 6ms/step\n",
            "13/13 [==============================] - 0s 6ms/step\n",
            "49/49 [==============================] - 0s 5ms/step\n",
            "13/13 [==============================] - 0s 9ms/step\n",
            "49/49 [==============================] - 1s 5ms/step\n",
            "13/13 [==============================] - 0s 6ms/step\n",
            "49/49 [==============================] - 0s 5ms/step\n",
            "13/13 [==============================] - 0s 6ms/step\n",
            "49/49 [==============================] - 0s 5ms/step\n",
            "13/13 [==============================] - 0s 7ms/step\n",
            "49/49 [==============================] - 0s 5ms/step\n",
            "13/13 [==============================] - 0s 6ms/step\n",
            "49/49 [==============================] - 1s 6ms/step\n",
            "13/13 [==============================] - 0s 6ms/step\n",
            "49/49 [==============================] - 0s 5ms/step\n",
            "13/13 [==============================] - 0s 6ms/step\n",
            "49/49 [==============================] - 0s 6ms/step\n",
            "13/13 [==============================] - 0s 6ms/step\n",
            "49/49 [==============================] - 1s 6ms/step\n",
            "13/13 [==============================] - 0s 6ms/step\n",
            "49/49 [==============================] - 0s 5ms/step\n",
            "13/13 [==============================] - 0s 6ms/step\n",
            "49/49 [==============================] - 1s 6ms/step\n",
            "13/13 [==============================] - 0s 6ms/step\n",
            "49/49 [==============================] - 0s 5ms/step\n",
            "13/13 [==============================] - 0s 6ms/step\n",
            "49/49 [==============================] - 0s 5ms/step\n",
            "13/13 [==============================] - 0s 6ms/step\n",
            "49/49 [==============================] - 1s 9ms/step\n",
            "13/13 [==============================] - 1s 9ms/step\n"
          ]
        }
      ]
    },
    {
      "cell_type": "code",
      "source": [
        "model_performance.sort_values('eval_sharpe_ratio', ascending = False).head(1)"
      ],
      "metadata": {
        "colab": {
          "base_uri": "https://localhost:8080/",
          "height": 80
        },
        "id": "qxTSFCLQV8Oe",
        "outputId": "e2bbeb45-de83-44a8-cba9-91840a30c5e4"
      },
      "execution_count": null,
      "outputs": [
        {
          "output_type": "execute_result",
          "data": {
            "text/plain": [
              "   attention_num  learning_rate  batch_size  dropout  eval_sharpe_ratio\n",
              "0             34         0.0001           4     0.05           0.110725"
            ],
            "text/html": [
              "\n",
              "  <div id=\"df-dd3a02fa-e01f-405b-903e-89869675a895\" class=\"colab-df-container\">\n",
              "    <div>\n",
              "<style scoped>\n",
              "    .dataframe tbody tr th:only-of-type {\n",
              "        vertical-align: middle;\n",
              "    }\n",
              "\n",
              "    .dataframe tbody tr th {\n",
              "        vertical-align: top;\n",
              "    }\n",
              "\n",
              "    .dataframe thead th {\n",
              "        text-align: right;\n",
              "    }\n",
              "</style>\n",
              "<table border=\"1\" class=\"dataframe\">\n",
              "  <thead>\n",
              "    <tr style=\"text-align: right;\">\n",
              "      <th></th>\n",
              "      <th>attention_num</th>\n",
              "      <th>learning_rate</th>\n",
              "      <th>batch_size</th>\n",
              "      <th>dropout</th>\n",
              "      <th>eval_sharpe_ratio</th>\n",
              "    </tr>\n",
              "  </thead>\n",
              "  <tbody>\n",
              "    <tr>\n",
              "      <th>0</th>\n",
              "      <td>34</td>\n",
              "      <td>0.0001</td>\n",
              "      <td>4</td>\n",
              "      <td>0.05</td>\n",
              "      <td>0.110725</td>\n",
              "    </tr>\n",
              "  </tbody>\n",
              "</table>\n",
              "</div>\n",
              "    <div class=\"colab-df-buttons\">\n",
              "\n",
              "  <div class=\"colab-df-container\">\n",
              "    <button class=\"colab-df-convert\" onclick=\"convertToInteractive('df-dd3a02fa-e01f-405b-903e-89869675a895')\"\n",
              "            title=\"Convert this dataframe to an interactive table.\"\n",
              "            style=\"display:none;\">\n",
              "\n",
              "  <svg xmlns=\"http://www.w3.org/2000/svg\" height=\"24px\" viewBox=\"0 -960 960 960\">\n",
              "    <path d=\"M120-120v-720h720v720H120Zm60-500h600v-160H180v160Zm220 220h160v-160H400v160Zm0 220h160v-160H400v160ZM180-400h160v-160H180v160Zm440 0h160v-160H620v160ZM180-180h160v-160H180v160Zm440 0h160v-160H620v160Z\"/>\n",
              "  </svg>\n",
              "    </button>\n",
              "\n",
              "  <style>\n",
              "    .colab-df-container {\n",
              "      display:flex;\n",
              "      gap: 12px;\n",
              "    }\n",
              "\n",
              "    .colab-df-convert {\n",
              "      background-color: #E8F0FE;\n",
              "      border: none;\n",
              "      border-radius: 50%;\n",
              "      cursor: pointer;\n",
              "      display: none;\n",
              "      fill: #1967D2;\n",
              "      height: 32px;\n",
              "      padding: 0 0 0 0;\n",
              "      width: 32px;\n",
              "    }\n",
              "\n",
              "    .colab-df-convert:hover {\n",
              "      background-color: #E2EBFA;\n",
              "      box-shadow: 0px 1px 2px rgba(60, 64, 67, 0.3), 0px 1px 3px 1px rgba(60, 64, 67, 0.15);\n",
              "      fill: #174EA6;\n",
              "    }\n",
              "\n",
              "    .colab-df-buttons div {\n",
              "      margin-bottom: 4px;\n",
              "    }\n",
              "\n",
              "    [theme=dark] .colab-df-convert {\n",
              "      background-color: #3B4455;\n",
              "      fill: #D2E3FC;\n",
              "    }\n",
              "\n",
              "    [theme=dark] .colab-df-convert:hover {\n",
              "      background-color: #434B5C;\n",
              "      box-shadow: 0px 1px 3px 1px rgba(0, 0, 0, 0.15);\n",
              "      filter: drop-shadow(0px 1px 2px rgba(0, 0, 0, 0.3));\n",
              "      fill: #FFFFFF;\n",
              "    }\n",
              "  </style>\n",
              "\n",
              "    <script>\n",
              "      const buttonEl =\n",
              "        document.querySelector('#df-dd3a02fa-e01f-405b-903e-89869675a895 button.colab-df-convert');\n",
              "      buttonEl.style.display =\n",
              "        google.colab.kernel.accessAllowed ? 'block' : 'none';\n",
              "\n",
              "      async function convertToInteractive(key) {\n",
              "        const element = document.querySelector('#df-dd3a02fa-e01f-405b-903e-89869675a895');\n",
              "        const dataTable =\n",
              "          await google.colab.kernel.invokeFunction('convertToInteractive',\n",
              "                                                    [key], {});\n",
              "        if (!dataTable) return;\n",
              "\n",
              "        const docLinkHtml = 'Like what you see? Visit the ' +\n",
              "          '<a target=\"_blank\" href=https://colab.research.google.com/notebooks/data_table.ipynb>data table notebook</a>'\n",
              "          + ' to learn more about interactive tables.';\n",
              "        element.innerHTML = '';\n",
              "        dataTable['output_type'] = 'display_data';\n",
              "        await google.colab.output.renderOutput(dataTable, element);\n",
              "        const docLink = document.createElement('div');\n",
              "        docLink.innerHTML = docLinkHtml;\n",
              "        element.appendChild(docLink);\n",
              "      }\n",
              "    </script>\n",
              "  </div>\n",
              "\n",
              "    </div>\n",
              "  </div>\n"
            ],
            "application/vnd.google.colaboratory.intrinsic+json": {
              "type": "dataframe",
              "summary": "{\n  \"name\": \"model_performance\",\n  \"rows\": 1,\n  \"fields\": [\n    {\n      \"column\": \"attention_num\",\n      \"properties\": {\n        \"dtype\": \"number\",\n        \"std\": null,\n        \"min\": 34,\n        \"max\": 34,\n        \"num_unique_values\": 1,\n        \"samples\": [\n          34\n        ],\n        \"semantic_type\": \"\",\n        \"description\": \"\"\n      }\n    },\n    {\n      \"column\": \"learning_rate\",\n      \"properties\": {\n        \"dtype\": \"number\",\n        \"std\": null,\n        \"min\": 0.0001,\n        \"max\": 0.0001,\n        \"num_unique_values\": 1,\n        \"samples\": [\n          0.0001\n        ],\n        \"semantic_type\": \"\",\n        \"description\": \"\"\n      }\n    },\n    {\n      \"column\": \"batch_size\",\n      \"properties\": {\n        \"dtype\": \"number\",\n        \"std\": null,\n        \"min\": 4,\n        \"max\": 4,\n        \"num_unique_values\": 1,\n        \"samples\": [\n          4\n        ],\n        \"semantic_type\": \"\",\n        \"description\": \"\"\n      }\n    },\n    {\n      \"column\": \"dropout\",\n      \"properties\": {\n        \"dtype\": \"number\",\n        \"std\": null,\n        \"min\": 0.05,\n        \"max\": 0.05,\n        \"num_unique_values\": 1,\n        \"samples\": [\n          0.05\n        ],\n        \"semantic_type\": \"\",\n        \"description\": \"\"\n      }\n    },\n    {\n      \"column\": \"eval_sharpe_ratio\",\n      \"properties\": {\n        \"dtype\": \"number\",\n        \"std\": null,\n        \"min\": 0.11072496161581188,\n        \"max\": 0.11072496161581188,\n        \"num_unique_values\": 1,\n        \"samples\": [\n          0.11072496161581188\n        ],\n        \"semantic_type\": \"\",\n        \"description\": \"\"\n      }\n    }\n  ]\n}"
            }
          },
          "metadata": {},
          "execution_count": 8
        }
      ]
    },
    {
      "cell_type": "code",
      "source": [
        "Dropout = 0.05\n",
        "LearningRate = 0.0001\n",
        "Epochs = 100\n",
        "Alpha = 0.005\n",
        "DF = 4\n",
        "BatchSize = 4\n",
        "lb = 0\n",
        "ub = 0.3\n",
        "num_heads = 34\n",
        "\n",
        "xtrain = xtrain[:int(xtrain.shape[0] / BatchSize) * BatchSize, :, :]\n",
        "ytrain = ytrain[:xtrain.shape[0], :]\n",
        "priceData = tf.convert_to_tensor(data.loc[train_index, :].iloc[:xtrain.shape[0], :].pct_change().dropna().values, np.float32)\n",
        "\n",
        "tf.keras.utils.set_random_seed(42)\n",
        "tf.config.experimental.enable_op_determinism()\n",
        "\n",
        "\n",
        "model = Transformer_Portfolio(xtrain.shape[1], xtrain.shape[2], outputShape = ytrain.shape[1],  headsAttention = num_heads, dropout= Dropout, learningRate = LearningRate, priceData = priceData, lb= lb, ub = ub)\n",
        "model.allocation_vanilla_train(xtrain, ytrain, Epochs = Epochs, BatchSize = BatchSize)"
      ],
      "metadata": {
        "colab": {
          "base_uri": "https://localhost:8080/"
        },
        "id": "e9dDDQdRsLrr",
        "outputId": "f1b5bfc2-f98a-4ea9-93a1-f72347143ec0"
      },
      "execution_count": null,
      "outputs": [
        {
          "output_type": "stream",
          "name": "stdout",
          "text": [
            "62/62 [==============================] - 1s 6ms/step\n"
          ]
        },
        {
          "output_type": "execute_result",
          "data": {
            "text/plain": [
              "array([[0.01356793, 0.07915414, 0.07192739, ..., 0.05126237, 0.03555015,\n",
              "        0.04451314],\n",
              "       [0.01344548, 0.07848254, 0.07155821, ..., 0.05106718, 0.03627687,\n",
              "        0.04482508],\n",
              "       [0.01385554, 0.07844355, 0.07128771, ..., 0.05113319, 0.0377014 ,\n",
              "        0.04582751],\n",
              "       ...,\n",
              "       [0.01517821, 0.0986972 , 0.05407651, ..., 0.05457378, 0.04168645,\n",
              "        0.06588978],\n",
              "       [0.0167291 , 0.09848461, 0.05318722, ..., 0.05691699, 0.0437957 ,\n",
              "        0.06762035],\n",
              "       [0.01718193, 0.098093  , 0.05352068, ..., 0.05736383, 0.04446027,\n",
              "        0.0678056 ]], dtype=float32)"
            ]
          },
          "metadata": {},
          "execution_count": 9
        }
      ]
    },
    {
      "cell_type": "code",
      "source": [
        "test_weights = model.allocation_vanilla_test(xtest)"
      ],
      "metadata": {
        "colab": {
          "base_uri": "https://localhost:8080/"
        },
        "id": "Sp0m21zKY29f",
        "outputId": "817777c1-90c8-4ad7-e311-3e8b10c3ca8b"
      },
      "execution_count": null,
      "outputs": [
        {
          "output_type": "stream",
          "name": "stdout",
          "text": [
            "16/16 [==============================] - 0s 6ms/step\n"
          ]
        }
      ]
    },
    {
      "cell_type": "code",
      "source": [
        "test_weights"
      ],
      "metadata": {
        "colab": {
          "base_uri": "https://localhost:8080/"
        },
        "id": "dK9XyPM1aRO-",
        "outputId": "56bbe2cf-2548-4e60-efaf-2dc150241783"
      },
      "execution_count": null,
      "outputs": [
        {
          "output_type": "execute_result",
          "data": {
            "text/plain": [
              "array([[0.01831268, 0.09154017, 0.04583437, ..., 0.05572814, 0.04589954,\n",
              "        0.07274443],\n",
              "       [0.01797401, 0.09205171, 0.04590464, ..., 0.05613503, 0.04570204,\n",
              "        0.07340226],\n",
              "       [0.01788136, 0.09212529, 0.04511577, ..., 0.05686793, 0.04546448,\n",
              "        0.07419632],\n",
              "       ...,\n",
              "       [0.01780434, 0.06693806, 0.07418103, ..., 0.04249479, 0.04174709,\n",
              "        0.05083207],\n",
              "       [0.01747701, 0.0665163 , 0.07457607, ..., 0.04185105, 0.04143108,\n",
              "        0.05018351],\n",
              "       [0.01726752, 0.06662753, 0.07453188, ..., 0.04128254, 0.04138241,\n",
              "        0.05002581]], dtype=float32)"
            ]
          },
          "metadata": {},
          "execution_count": 11
        }
      ]
    },
    {
      "cell_type": "code",
      "source": [
        "test_mean = ((data.loc[test_index, :].pct_change().dropna() * test_weights[:-1, :].round(3)).sum(axis = 1) - 0.01 * (test_weights[1:, :] - test_weights[:-1, :]).sum(axis = 1)).mean()\n",
        "test_mean"
      ],
      "metadata": {
        "id": "0BVKwwOsaScs",
        "colab": {
          "base_uri": "https://localhost:8080/"
        },
        "outputId": "cff7f84f-ade7-4f8a-bad9-96347232c4c8"
      },
      "execution_count": null,
      "outputs": [
        {
          "output_type": "execute_result",
          "data": {
            "text/plain": [
              "0.0010379343536614243"
            ]
          },
          "metadata": {},
          "execution_count": 12
        }
      ]
    },
    {
      "cell_type": "code",
      "source": [
        "test_std = ((data.loc[test_index, :].pct_change().dropna() * test_weights[:-1, :].round(3)).sum(axis = 1) - 0.01 * (test_weights[1:, :] - test_weights[:-1, :]).sum(axis = 1)).std()\n",
        "test_std"
      ],
      "metadata": {
        "id": "LG5quVbWaaQ6",
        "colab": {
          "base_uri": "https://localhost:8080/"
        },
        "outputId": "b5ef579e-24ec-4451-9dc5-94ffc3e0ac12"
      },
      "execution_count": null,
      "outputs": [
        {
          "output_type": "execute_result",
          "data": {
            "text/plain": [
              "0.007067814812641186"
            ]
          },
          "metadata": {},
          "execution_count": 13
        }
      ]
    },
    {
      "cell_type": "code",
      "source": [
        "test_sharpe = test_mean / test_std"
      ],
      "metadata": {
        "id": "FDjqXZfhasHB"
      },
      "execution_count": null,
      "outputs": []
    },
    {
      "cell_type": "code",
      "source": [
        "test_sharpe"
      ],
      "metadata": {
        "colab": {
          "base_uri": "https://localhost:8080/"
        },
        "id": "sxRRpdFcauW2",
        "outputId": "f4d67bea-c781-4a2e-a95e-59d352871c3f"
      },
      "execution_count": null,
      "outputs": [
        {
          "output_type": "execute_result",
          "data": {
            "text/plain": [
              "0.14685364305315698"
            ]
          },
          "metadata": {},
          "execution_count": 15
        }
      ]
    },
    {
      "cell_type": "code",
      "source": [
        "test_index"
      ],
      "metadata": {
        "colab": {
          "base_uri": "https://localhost:8080/"
        },
        "id": "XxoMw1vWu7_A",
        "outputId": "b97252f0-8fac-4bdd-dfde-7cd54d54682c"
      },
      "execution_count": null,
      "outputs": [
        {
          "output_type": "execute_result",
          "data": {
            "text/plain": [
              "DatetimeIndex(['2022-03-21', '2022-03-22', '2022-03-23', '2022-03-24',\n",
              "               '2022-03-25', '2022-03-28', '2022-03-29', '2022-03-30',\n",
              "               '2022-03-31', '2022-04-01',\n",
              "               ...\n",
              "               '2024-03-14', '2024-03-15', '2024-03-18', '2024-03-19',\n",
              "               '2024-03-20', '2024-03-21', '2024-03-22', '2024-03-26',\n",
              "               '2024-03-27', '2024-03-28'],\n",
              "              dtype='datetime64[ns]', name='Date', length=501, freq=None)"
            ]
          },
          "metadata": {},
          "execution_count": 16
        }
      ]
    },
    {
      "cell_type": "code",
      "source": [
        "eq_w_mean = (data.loc[test_index, :].iloc[1:, :] * np.ones(test_weights.shape)[:-1, :] * 10000 / 17).sum(axis = 1).pct_change().dropna().mean()\n",
        "eq_w_std = (data.loc[test_index, :].iloc[1:, :] * np.ones(test_weights.shape)[:-1, :] * 10000 / 17).sum(axis = 1).pct_change().dropna().std()"
      ],
      "metadata": {
        "id": "BdkBWXXnavPs"
      },
      "execution_count": null,
      "outputs": []
    },
    {
      "cell_type": "code",
      "source": [
        "eq_w_mean / eq_w_std"
      ],
      "metadata": {
        "colab": {
          "base_uri": "https://localhost:8080/"
        },
        "id": "bYDJKTpFa9pP",
        "outputId": "c4d62e9b-69a7-4847-ab15-fe8747786af8"
      },
      "execution_count": null,
      "outputs": [
        {
          "output_type": "execute_result",
          "data": {
            "text/plain": [
              "0.08872280662760315"
            ]
          },
          "metadata": {},
          "execution_count": 18
        }
      ]
    },
    {
      "cell_type": "code",
      "source": [
        "test_mean, eq_w_mean"
      ],
      "metadata": {
        "colab": {
          "base_uri": "https://localhost:8080/"
        },
        "id": "N5oASrfla--O",
        "outputId": "6c5549bb-5a09-4e8b-f6b6-e7ea4d2a8960"
      },
      "execution_count": null,
      "outputs": [
        {
          "output_type": "execute_result",
          "data": {
            "text/plain": [
              "(0.0010379343536614243, 0.0007012571676762527)"
            ]
          },
          "metadata": {},
          "execution_count": 19
        }
      ]
    },
    {
      "cell_type": "code",
      "source": [
        "test_std, eq_w_std"
      ],
      "metadata": {
        "colab": {
          "base_uri": "https://localhost:8080/"
        },
        "id": "fAOlTgE9b13N",
        "outputId": "b6f98ec7-96f1-47a9-d8ad-d5359d36df37"
      },
      "execution_count": null,
      "outputs": [
        {
          "output_type": "execute_result",
          "data": {
            "text/plain": [
              "(0.007067814812641186, 0.007903911004750382)"
            ]
          },
          "metadata": {},
          "execution_count": 20
        }
      ]
    },
    {
      "cell_type": "code",
      "source": [
        "0.0008 * 100 * 10000"
      ],
      "metadata": {
        "colab": {
          "base_uri": "https://localhost:8080/"
        },
        "id": "DroP82tkb3ua",
        "outputId": "73f308f7-0df0-4a74-bd45-301e99fced69"
      },
      "execution_count": null,
      "outputs": [
        {
          "output_type": "execute_result",
          "data": {
            "text/plain": [
              "800.0"
            ]
          },
          "metadata": {},
          "execution_count": 21
        }
      ]
    },
    {
      "cell_type": "markdown",
      "source": [],
      "metadata": {
        "id": "_fZaGYCPLR4A"
      }
    },
    {
      "cell_type": "code",
      "source": [
        "(data.loc[test_index, :].pct_change().dropna() * test_weights[1:, :]).sum(axis = 1) + 0.01 * (test_weights[1:, :] - test_weights[:-1, :]).sum(axis = 1)"
      ],
      "metadata": {
        "colab": {
          "base_uri": "https://localhost:8080/"
        },
        "id": "sYJvV-2ALMYd",
        "outputId": "95157fa2-3734-40a2-bf7e-d219aa510b7a"
      },
      "execution_count": null,
      "outputs": [
        {
          "output_type": "execute_result",
          "data": {
            "text/plain": [
              "Date\n",
              "2022-03-22    0.002924\n",
              "2022-03-23   -0.006261\n",
              "2022-03-24    0.001422\n",
              "2022-03-25   -0.007070\n",
              "2022-03-28    0.006369\n",
              "                ...   \n",
              "2024-03-21    0.009102\n",
              "2024-03-22    0.014034\n",
              "2024-03-26   -0.005372\n",
              "2024-03-27    0.004608\n",
              "2024-03-28    0.011451\n",
              "Length: 500, dtype: float64"
            ]
          },
          "metadata": {},
          "execution_count": 29
        }
      ]
    },
    {
      "cell_type": "code",
      "source": [
        "import matplotlib.pyplot as plt\n",
        "((data.loc[test_index, :].pct_change().dropna() * test_weights[1:, :]).sum(axis = 1) + 0.01 * (test_weights[1:, :] - test_weights[:-1, :]).sum(axis = 1)).cumsum().plot(color = 'green')\n",
        "(data.loc[test_index, :].pct_change().dropna() * np.ones(test_weights[1:, :].shape) * 1 / 17).sum(axis = 1).cumsum().plot(color = 'blue',)\n",
        "plt.legend(['TP_model', 'equal_weight'])\n",
        "plt.show()"
      ],
      "metadata": {
        "colab": {
          "base_uri": "https://localhost:8080/",
          "height": 433
        },
        "id": "BPzfe41GcCTa",
        "outputId": "b4be504a-b69d-4967-bfaa-a51f625aba9f"
      },
      "execution_count": null,
      "outputs": [
        {
          "output_type": "display_data",
          "data": {
            "text/plain": [
              "<Figure size 640x480 with 1 Axes>"
            ],
            "image/png": "[encoded data removed]"
          },
          "metadata": {}
        }
      ]
    },
    {
      "cell_type": "code",
      "source": [],
      "metadata": {
        "id": "BT-6PGOzcSMS"
      },
      "execution_count": null,
      "outputs": []
    }
  ]
}