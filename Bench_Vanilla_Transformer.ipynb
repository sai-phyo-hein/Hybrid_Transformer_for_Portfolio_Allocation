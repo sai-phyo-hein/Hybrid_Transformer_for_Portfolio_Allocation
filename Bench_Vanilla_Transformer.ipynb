{
  "nbformat": 4,
  "nbformat_minor": 0,
  "metadata": {
    "colab": {
      "provenance": [],
      "mount_file_id": "1JyDis0YIVCK8AH-A28OHg1H-nWw-nthW",
      "authorship_tag": "ABX9TyMewCTO26hMvwxMf8Z6e8VO",
      "include_colab_link": true
    },
    "kernelspec": {
      "name": "python3",
      "display_name": "Python 3"
    },
    "language_info": {
      "name": "python"
    }
  },
  "cells": [
    {
      "cell_type": "markdown",
      "metadata": {
        "id": "view-in-github",
        "colab_type": "text"
      },
      "source": [
        "<a href=\"https://colab.research.google.com/github/sai-phyo-hein/Hybrid_Transformer_for_Portfolio_Allocation/blob/main/Bench_Vanilla_Transformer.ipynb\" target=\"_parent\"><img src=\"https://colab.research.google.com/assets/colab-badge.svg\" alt=\"Open In Colab\"/></a>"
      ]
    },
    {
      "cell_type": "code",
      "execution_count": 1,
      "metadata": {
        "id": "RMoE0u0YPL25"
      },
      "outputs": [],
      "source": [
        "import duckdb as ddb\n",
        "import pandas as pd\n",
        "import datetime\n",
        "\n",
        "import numpy as np\n",
        "import math\n",
        "\n",
        "from sklearn.preprocessing import StandardScaler\n",
        "import tensorflow as tf"
      ]
    },
    {
      "cell_type": "code",
      "source": [
        "date_series = ['2014-01-01']\n",
        "while datetime.date.fromisoformat(date_series[-1]) < datetime.date.fromisoformat('2023-03-28'):\n",
        "    date_series.append(\n",
        "        (datetime.date.fromisoformat(date_series[-1]) + datetime.timedelta(days = 1)).strftime('%Y-%m-%d')\n",
        "    )"
      ],
      "metadata": {
        "id": "Vsxy1Harh_t8"
      },
      "execution_count": 2,
      "outputs": []
    },
    {
      "cell_type": "code",
      "source": [
        "selected_eq = [\n",
        "    'AXISBANK', 'BHARTIARTL', 'HDFCBANK', 'ICICIBANK', 'INFY', 'ITC', 'LT',\n",
        "    'RELIANCE', 'SBIN', 'TATAMOTORS', 'TATASTEEL', 'TCS'\n",
        "]\n",
        "con = ddb.connect('/content/drive/MyDrive/MScFE Capstone Project /MScFE_Capstone_Project_Group_Work/DataSource/nifty_50_dataset.db')\n",
        "data = pd.DataFrame()\n",
        "data['timestamp'] = date_series\n",
        "for i, ticker in enumerate(selected_eq):\n",
        "    temp = con.sql(f'select CH_TIMESTAMP as timestamp, CH_CLOSING_PRICE as {ticker} from {ticker}').df().drop_duplicates('timestamp')\n",
        "    data = pd.merge(data, temp, how = 'outer', on = 'timestamp')\n",
        "    print(ticker, data.shape)\n",
        "con.close()"
      ],
      "metadata": {
        "colab": {
          "base_uri": "https://localhost:8080/"
        },
        "id": "5MdZCgY8cWVP",
        "outputId": "4d76670f-1319-4b47-c0d3-0641570ec59e"
      },
      "execution_count": 3,
      "outputs": [
        {
          "output_type": "stream",
          "name": "stdout",
          "text": [
            "AXISBANK (3622, 2)\n",
            "BHARTIARTL (3622, 3)\n",
            "HDFCBANK (3622, 4)\n",
            "ICICIBANK (3622, 5)\n",
            "INFY (3622, 6)\n",
            "ITC (3622, 7)\n",
            "LT (3622, 8)\n",
            "RELIANCE (3622, 9)\n",
            "SBIN (3622, 10)\n",
            "TATAMOTORS (3622, 11)\n",
            "TATASTEEL (3622, 12)\n",
            "TCS (3622, 13)\n"
          ]
        }
      ]
    },
    {
      "cell_type": "code",
      "source": [
        "data['timestamp'] = pd.to_datetime(data.timestamp, format = '%Y-%m-%d')\n",
        "data.set_index('timestamp', inplace = True)\n",
        "data.dropna(how = 'all', inplace = True)\n",
        "data.isnull().sum()"
      ],
      "metadata": {
        "colab": {
          "base_uri": "https://localhost:8080/"
        },
        "id": "3m2iicSzkKIO",
        "outputId": "71ae0880-c68d-4c0e-bfc4-0b9d59195828"
      },
      "execution_count": 4,
      "outputs": [
        {
          "output_type": "execute_result",
          "data": {
            "text/plain": [
              "AXISBANK      0\n",
              "BHARTIARTL    0\n",
              "HDFCBANK      0\n",
              "ICICIBANK     0\n",
              "INFY          0\n",
              "ITC           0\n",
              "LT            0\n",
              "RELIANCE      0\n",
              "SBIN          0\n",
              "TATAMOTORS    0\n",
              "TATASTEEL     0\n",
              "TCS           0\n",
              "dtype: int64"
            ]
          },
          "metadata": {},
          "execution_count": 4
        }
      ]
    },
    {
      "cell_type": "code",
      "source": [
        "data = data.astype(float)"
      ],
      "metadata": {
        "id": "rxi7utJrkgTX"
      },
      "execution_count": 5,
      "outputs": []
    },
    {
      "cell_type": "code",
      "source": [
        "data.head()"
      ],
      "metadata": {
        "colab": {
          "base_uri": "https://localhost:8080/",
          "height": 237
        },
        "id": "BgiEwXoQkhzp",
        "outputId": "71a84737-bc50-4dac-c863-5267ff12fdb4"
      },
      "execution_count": 6,
      "outputs": [
        {
          "output_type": "execute_result",
          "data": {
            "text/plain": [
              "            AXISBANK  BHARTIARTL  HDFCBANK  ICICIBANK     INFY     ITC  \\\n",
              "timestamp                                                                \n",
              "2014-01-01   1292.20      337.75    665.15     1097.7  3468.00  322.40   \n",
              "2014-01-02   1272.30      328.70    657.00     1075.6  3480.55  314.95   \n",
              "2014-01-03   1260.90      329.35    663.10     1066.8  3565.15  314.75   \n",
              "2014-01-06   1256.30      329.35    661.70     1040.8  3517.90  315.65   \n",
              "2014-01-07   1234.25      331.70    664.40     1050.0  3457.15  316.70   \n",
              "\n",
              "                 LT  RELIANCE     SBIN  TATAMOTORS  TATASTEEL      TCS  \n",
              "timestamp                                                               \n",
              "2014-01-01  1068.55    888.80  1765.05      374.95      425.9  2153.30  \n",
              "2014-01-02  1036.05    875.00  1742.60      372.35      419.2  2167.00  \n",
              "2014-01-03  1012.05    864.25  1719.65      362.70      412.5  2222.20  \n",
              "2014-01-06  1010.50    854.95  1688.15      366.95      408.3  2239.60  \n",
              "2014-01-07  1019.50    842.10  1661.40      365.10      394.7  2206.15  "
            ],
            "text/html": [
              "\n",
              "  <div id=\"df-5b17149c-0df6-4857-a728-764ee45f3168\" class=\"colab-df-container\">\n",
              "    <div>\n",
              "<style scoped>\n",
              "    .dataframe tbody tr th:only-of-type {\n",
              "        vertical-align: middle;\n",
              "    }\n",
              "\n",
              "    .dataframe tbody tr th {\n",
              "        vertical-align: top;\n",
              "    }\n",
              "\n",
              "    .dataframe thead th {\n",
              "        text-align: right;\n",
              "    }\n",
              "</style>\n",
              "<table border=\"1\" class=\"dataframe\">\n",
              "  <thead>\n",
              "    <tr style=\"text-align: right;\">\n",
              "      <th></th>\n",
              "      <th>AXISBANK</th>\n",
              "      <th>BHARTIARTL</th>\n",
              "      <th>HDFCBANK</th>\n",
              "      <th>ICICIBANK</th>\n",
              "      <th>INFY</th>\n",
              "      <th>ITC</th>\n",
              "      <th>LT</th>\n",
              "      <th>RELIANCE</th>\n",
              "      <th>SBIN</th>\n",
              "      <th>TATAMOTORS</th>\n",
              "      <th>TATASTEEL</th>\n",
              "      <th>TCS</th>\n",
              "    </tr>\n",
              "    <tr>\n",
              "      <th>timestamp</th>\n",
              "      <th></th>\n",
              "      <th></th>\n",
              "      <th></th>\n",
              "      <th></th>\n",
              "      <th></th>\n",
              "      <th></th>\n",
              "      <th></th>\n",
              "      <th></th>\n",
              "      <th></th>\n",
              "      <th></th>\n",
              "      <th></th>\n",
              "      <th></th>\n",
              "    </tr>\n",
              "  </thead>\n",
              "  <tbody>\n",
              "    <tr>\n",
              "      <th>2014-01-01</th>\n",
              "      <td>1292.20</td>\n",
              "      <td>337.75</td>\n",
              "      <td>665.15</td>\n",
              "      <td>1097.7</td>\n",
              "      <td>3468.00</td>\n",
              "      <td>322.40</td>\n",
              "      <td>1068.55</td>\n",
              "      <td>888.80</td>\n",
              "      <td>1765.05</td>\n",
              "      <td>374.95</td>\n",
              "      <td>425.9</td>\n",
              "      <td>2153.30</td>\n",
              "    </tr>\n",
              "    <tr>\n",
              "      <th>2014-01-02</th>\n",
              "      <td>1272.30</td>\n",
              "      <td>328.70</td>\n",
              "      <td>657.00</td>\n",
              "      <td>1075.6</td>\n",
              "      <td>3480.55</td>\n",
              "      <td>314.95</td>\n",
              "      <td>1036.05</td>\n",
              "      <td>875.00</td>\n",
              "      <td>1742.60</td>\n",
              "      <td>372.35</td>\n",
              "      <td>419.2</td>\n",
              "      <td>2167.00</td>\n",
              "    </tr>\n",
              "    <tr>\n",
              "      <th>2014-01-03</th>\n",
              "      <td>1260.90</td>\n",
              "      <td>329.35</td>\n",
              "      <td>663.10</td>\n",
              "      <td>1066.8</td>\n",
              "      <td>3565.15</td>\n",
              "      <td>314.75</td>\n",
              "      <td>1012.05</td>\n",
              "      <td>864.25</td>\n",
              "      <td>1719.65</td>\n",
              "      <td>362.70</td>\n",
              "      <td>412.5</td>\n",
              "      <td>2222.20</td>\n",
              "    </tr>\n",
              "    <tr>\n",
              "      <th>2014-01-06</th>\n",
              "      <td>1256.30</td>\n",
              "      <td>329.35</td>\n",
              "      <td>661.70</td>\n",
              "      <td>1040.8</td>\n",
              "      <td>3517.90</td>\n",
              "      <td>315.65</td>\n",
              "      <td>1010.50</td>\n",
              "      <td>854.95</td>\n",
              "      <td>1688.15</td>\n",
              "      <td>366.95</td>\n",
              "      <td>408.3</td>\n",
              "      <td>2239.60</td>\n",
              "    </tr>\n",
              "    <tr>\n",
              "      <th>2014-01-07</th>\n",
              "      <td>1234.25</td>\n",
              "      <td>331.70</td>\n",
              "      <td>664.40</td>\n",
              "      <td>1050.0</td>\n",
              "      <td>3457.15</td>\n",
              "      <td>316.70</td>\n",
              "      <td>1019.50</td>\n",
              "      <td>842.10</td>\n",
              "      <td>1661.40</td>\n",
              "      <td>365.10</td>\n",
              "      <td>394.7</td>\n",
              "      <td>2206.15</td>\n",
              "    </tr>\n",
              "  </tbody>\n",
              "</table>\n",
              "</div>\n",
              "    <div class=\"colab-df-buttons\">\n",
              "\n",
              "  <div class=\"colab-df-container\">\n",
              "    <button class=\"colab-df-convert\" onclick=\"convertToInteractive('df-5b17149c-0df6-4857-a728-764ee45f3168')\"\n",
              "            title=\"Convert this dataframe to an interactive table.\"\n",
              "            style=\"display:none;\">\n",
              "\n",
              "  <svg xmlns=\"http://www.w3.org/2000/svg\" height=\"24px\" viewBox=\"0 -960 960 960\">\n",
              "    <path d=\"M120-120v-720h720v720H120Zm60-500h600v-160H180v160Zm220 220h160v-160H400v160Zm0 220h160v-160H400v160ZM180-400h160v-160H180v160Zm440 0h160v-160H620v160ZM180-180h160v-160H180v160Zm440 0h160v-160H620v160Z\"/>\n",
              "  </svg>\n",
              "    </button>\n",
              "\n",
              "  <style>\n",
              "    .colab-df-container {\n",
              "      display:flex;\n",
              "      gap: 12px;\n",
              "    }\n",
              "\n",
              "    .colab-df-convert {\n",
              "      background-color: #E8F0FE;\n",
              "      border: none;\n",
              "      border-radius: 50%;\n",
              "      cursor: pointer;\n",
              "      display: none;\n",
              "      fill: #1967D2;\n",
              "      height: 32px;\n",
              "      padding: 0 0 0 0;\n",
              "      width: 32px;\n",
              "    }\n",
              "\n",
              "    .colab-df-convert:hover {\n",
              "      background-color: #E2EBFA;\n",
              "      box-shadow: 0px 1px 2px rgba(60, 64, 67, 0.3), 0px 1px 3px 1px rgba(60, 64, 67, 0.15);\n",
              "      fill: #174EA6;\n",
              "    }\n",
              "\n",
              "    .colab-df-buttons div {\n",
              "      margin-bottom: 4px;\n",
              "    }\n",
              "\n",
              "    [theme=dark] .colab-df-convert {\n",
              "      background-color: #3B4455;\n",
              "      fill: #D2E3FC;\n",
              "    }\n",
              "\n",
              "    [theme=dark] .colab-df-convert:hover {\n",
              "      background-color: #434B5C;\n",
              "      box-shadow: 0px 1px 3px 1px rgba(0, 0, 0, 0.15);\n",
              "      filter: drop-shadow(0px 1px 2px rgba(0, 0, 0, 0.3));\n",
              "      fill: #FFFFFF;\n",
              "    }\n",
              "  </style>\n",
              "\n",
              "    <script>\n",
              "      const buttonEl =\n",
              "        document.querySelector('#df-5b17149c-0df6-4857-a728-764ee45f3168 button.colab-df-convert');\n",
              "      buttonEl.style.display =\n",
              "        google.colab.kernel.accessAllowed ? 'block' : 'none';\n",
              "\n",
              "      async function convertToInteractive(key) {\n",
              "        const element = document.querySelector('#df-5b17149c-0df6-4857-a728-764ee45f3168');\n",
              "        const dataTable =\n",
              "          await google.colab.kernel.invokeFunction('convertToInteractive',\n",
              "                                                    [key], {});\n",
              "        if (!dataTable) return;\n",
              "\n",
              "        const docLinkHtml = 'Like what you see? Visit the ' +\n",
              "          '<a target=\"_blank\" href=https://colab.research.google.com/notebooks/data_table.ipynb>data table notebook</a>'\n",
              "          + ' to learn more about interactive tables.';\n",
              "        element.innerHTML = '';\n",
              "        dataTable['output_type'] = 'display_data';\n",
              "        await google.colab.output.renderOutput(dataTable, element);\n",
              "        const docLink = document.createElement('div');\n",
              "        docLink.innerHTML = docLinkHtml;\n",
              "        element.appendChild(docLink);\n",
              "      }\n",
              "    </script>\n",
              "  </div>\n",
              "\n",
              "\n",
              "<div id=\"df-64676ad7-ab3e-43d6-8d84-65d7179089c3\">\n",
              "  <button class=\"colab-df-quickchart\" onclick=\"quickchart('df-64676ad7-ab3e-43d6-8d84-65d7179089c3')\"\n",
              "            title=\"Suggest charts\"\n",
              "            style=\"display:none;\">\n",
              "\n",
              "<svg xmlns=\"http://www.w3.org/2000/svg\" height=\"24px\"viewBox=\"0 0 24 24\"\n",
              "     width=\"24px\">\n",
              "    <g>\n",
              "        <path d=\"M19 3H5c-1.1 0-2 .9-2 2v14c0 1.1.9 2 2 2h14c1.1 0 2-.9 2-2V5c0-1.1-.9-2-2-2zM9 17H7v-7h2v7zm4 0h-2V7h2v10zm4 0h-2v-4h2v4z\"/>\n",
              "    </g>\n",
              "</svg>\n",
              "  </button>\n",
              "\n",
              "<style>\n",
              "  .colab-df-quickchart {\n",
              "      --bg-color: #E8F0FE;\n",
              "      --fill-color: #1967D2;\n",
              "      --hover-bg-color: #E2EBFA;\n",
              "      --hover-fill-color: #174EA6;\n",
              "      --disabled-fill-color: #AAA;\n",
              "      --disabled-bg-color: #DDD;\n",
              "  }\n",
              "\n",
              "  [theme=dark] .colab-df-quickchart {\n",
              "      --bg-color: #3B4455;\n",
              "      --fill-color: #D2E3FC;\n",
              "      --hover-bg-color: #434B5C;\n",
              "      --hover-fill-color: #FFFFFF;\n",
              "      --disabled-bg-color: #3B4455;\n",
              "      --disabled-fill-color: #666;\n",
              "  }\n",
              "\n",
              "  .colab-df-quickchart {\n",
              "    background-color: var(--bg-color);\n",
              "    border: none;\n",
              "    border-radius: 50%;\n",
              "    cursor: pointer;\n",
              "    display: none;\n",
              "    fill: var(--fill-color);\n",
              "    height: 32px;\n",
              "    padding: 0;\n",
              "    width: 32px;\n",
              "  }\n",
              "\n",
              "  .colab-df-quickchart:hover {\n",
              "    background-color: var(--hover-bg-color);\n",
              "    box-shadow: 0 1px 2px rgba(60, 64, 67, 0.3), 0 1px 3px 1px rgba(60, 64, 67, 0.15);\n",
              "    fill: var(--button-hover-fill-color);\n",
              "  }\n",
              "\n",
              "  .colab-df-quickchart-complete:disabled,\n",
              "  .colab-df-quickchart-complete:disabled:hover {\n",
              "    background-color: var(--disabled-bg-color);\n",
              "    fill: var(--disabled-fill-color);\n",
              "    box-shadow: none;\n",
              "  }\n",
              "\n",
              "  .colab-df-spinner {\n",
              "    border: 2px solid var(--fill-color);\n",
              "    border-color: transparent;\n",
              "    border-bottom-color: var(--fill-color);\n",
              "    animation:\n",
              "      spin 1s steps(1) infinite;\n",
              "  }\n",
              "\n",
              "  @keyframes spin {\n",
              "    0% {\n",
              "      border-color: transparent;\n",
              "      border-bottom-color: var(--fill-color);\n",
              "      border-left-color: var(--fill-color);\n",
              "    }\n",
              "    20% {\n",
              "      border-color: transparent;\n",
              "      border-left-color: var(--fill-color);\n",
              "      border-top-color: var(--fill-color);\n",
              "    }\n",
              "    30% {\n",
              "      border-color: transparent;\n",
              "      border-left-color: var(--fill-color);\n",
              "      border-top-color: var(--fill-color);\n",
              "      border-right-color: var(--fill-color);\n",
              "    }\n",
              "    40% {\n",
              "      border-color: transparent;\n",
              "      border-right-color: var(--fill-color);\n",
              "      border-top-color: var(--fill-color);\n",
              "    }\n",
              "    60% {\n",
              "      border-color: transparent;\n",
              "      border-right-color: var(--fill-color);\n",
              "    }\n",
              "    80% {\n",
              "      border-color: transparent;\n",
              "      border-right-color: var(--fill-color);\n",
              "      border-bottom-color: var(--fill-color);\n",
              "    }\n",
              "    90% {\n",
              "      border-color: transparent;\n",
              "      border-bottom-color: var(--fill-color);\n",
              "    }\n",
              "  }\n",
              "</style>\n",
              "\n",
              "  <script>\n",
              "    async function quickchart(key) {\n",
              "      const quickchartButtonEl =\n",
              "        document.querySelector('#' + key + ' button');\n",
              "      quickchartButtonEl.disabled = true;  // To prevent multiple clicks.\n",
              "      quickchartButtonEl.classList.add('colab-df-spinner');\n",
              "      try {\n",
              "        const charts = await google.colab.kernel.invokeFunction(\n",
              "            'suggestCharts', [key], {});\n",
              "      } catch (error) {\n",
              "        console.error('Error during call to suggestCharts:', error);\n",
              "      }\n",
              "      quickchartButtonEl.classList.remove('colab-df-spinner');\n",
              "      quickchartButtonEl.classList.add('colab-df-quickchart-complete');\n",
              "    }\n",
              "    (() => {\n",
              "      let quickchartButtonEl =\n",
              "        document.querySelector('#df-64676ad7-ab3e-43d6-8d84-65d7179089c3 button');\n",
              "      quickchartButtonEl.style.display =\n",
              "        google.colab.kernel.accessAllowed ? 'block' : 'none';\n",
              "    })();\n",
              "  </script>\n",
              "</div>\n",
              "    </div>\n",
              "  </div>\n"
            ],
            "application/vnd.google.colaboratory.intrinsic+json": {
              "type": "dataframe",
              "variable_name": "data",
              "summary": "{\n  \"name\": \"data\",\n  \"rows\": 2532,\n  \"fields\": [\n    {\n      \"column\": \"timestamp\",\n      \"properties\": {\n        \"dtype\": \"date\",\n        \"min\": \"2014-01-01 00:00:00\",\n        \"max\": \"2024-03-28 00:00:00\",\n        \"num_unique_values\": 2532,\n        \"samples\": [\n          \"2024-02-14 00:00:00\",\n          \"2022-05-04 00:00:00\",\n          \"2014-10-17 00:00:00\"\n        ],\n        \"semantic_type\": \"\",\n        \"description\": \"\"\n      }\n    },\n    {\n      \"column\": \"AXISBANK\",\n      \"properties\": {\n        \"dtype\": \"number\",\n        \"std\": 278.14505166258584,\n        \"min\": 303.15,\n        \"max\": 2023.35,\n        \"num_unique_values\": 2287,\n        \"samples\": [\n          727.45,\n          541.65,\n          513.9\n        ],\n        \"semantic_type\": \"\",\n        \"description\": \"\"\n      }\n    },\n    {\n      \"column\": \"BHARTIARTL\",\n      \"properties\": {\n        \"dtype\": \"number\",\n        \"std\": 206.91109928326475,\n        \"min\": 282.75,\n        \"max\": 1236.1,\n        \"num_unique_values\": 2136,\n        \"samples\": [\n          574.4,\n          349.75,\n          320.35\n        ],\n        \"semantic_type\": \"\",\n        \"description\": \"\"\n      }\n    },\n    {\n      \"column\": \"HDFCBANK\",\n      \"properties\": {\n        \"dtype\": \"number\",\n        \"std\": 411.3689790101052,\n        \"min\": 626.5,\n        \"max\": 2495.0,\n        \"num_unique_values\": 2395,\n        \"samples\": [\n          1064.35,\n          896.65,\n          915.8\n        ],\n        \"semantic_type\": \"\",\n        \"description\": \"\"\n      }\n    },\n    {\n      \"column\": \"ICICIBANK\",\n      \"properties\": {\n        \"dtype\": \"number\",\n        \"std\": 351.356715896727,\n        \"min\": 183.0,\n        \"max\": 1794.1,\n        \"num_unique_values\": 2276,\n        \"samples\": [\n          1010.7,\n          536.45,\n          305.7\n        ],\n        \"semantic_type\": \"\",\n        \"description\": \"\"\n      }\n    },\n    {\n      \"column\": \"INFY\",\n      \"properties\": {\n        \"dtype\": \"number\",\n        \"std\": 757.4659231513399,\n        \"min\": 526.45,\n        \"max\": 4365.9,\n        \"num_unique_values\": 2411,\n        \"samples\": [\n          1515.3,\n          1594.0,\n          1427.95\n        ],\n        \"semantic_type\": \"\",\n        \"description\": \"\"\n      }\n    },\n    {\n      \"column\": \"ITC\",\n      \"properties\": {\n        \"dtype\": \"number\",\n        \"std\": 71.19004766781349,\n        \"min\": 147.25,\n        \"max\": 492.15,\n        \"num_unique_values\": 1949,\n        \"samples\": [\n          300.55,\n          218.5,\n          276.05\n        ],\n        \"semantic_type\": \"\",\n        \"description\": \"\"\n      }\n    },\n    {\n      \"column\": \"LT\",\n      \"properties\": {\n        \"dtype\": \"number\",\n        \"std\": 535.500291522879,\n        \"min\": 707.9,\n        \"max\": 3763.9,\n        \"num_unique_values\": 2406,\n        \"samples\": [\n          3424.25,\n          941.25,\n          1380.8\n        ],\n        \"semantic_type\": \"\",\n        \"description\": \"\"\n      }\n    },\n    {\n      \"column\": \"RELIANCE\",\n      \"properties\": {\n        \"dtype\": \"number\",\n        \"std\": 656.6516062894866,\n        \"min\": 780.9,\n        \"max\": 3014.8,\n        \"num_unique_values\": 2402,\n        \"samples\": [\n          1077.4,\n          1090.05,\n          2156.2\n        ],\n        \"semantic_type\": \"\",\n        \"description\": \"\"\n      }\n    },\n    {\n      \"column\": \"SBIN\",\n      \"properties\": {\n        \"dtype\": \"number\",\n        \"std\": 554.1030232582177,\n        \"min\": 150.85,\n        \"max\": 2945.75,\n        \"num_unique_values\": 2160,\n        \"samples\": [\n          585.65,\n          259.1,\n          598.15\n        ],\n        \"semantic_type\": \"\",\n        \"description\": \"\"\n      }\n    },\n    {\n      \"column\": \"TATAMOTORS\",\n      \"properties\": {\n        \"dtype\": \"number\",\n        \"std\": 167.65187985616856,\n        \"min\": 65.3,\n        \"max\": 1039.3,\n        \"num_unique_values\": 2215,\n        \"samples\": [\n          105.05,\n          86.1,\n          457.9\n        ],\n        \"semantic_type\": \"\",\n        \"description\": \"\"\n      }\n    },\n    {\n      \"column\": \"TATASTEEL\",\n      \"properties\": {\n        \"dtype\": \"number\",\n        \"std\": 318.70856407507415,\n        \"min\": 95.2,\n        \"max\": 1519.4,\n        \"num_unique_values\": 2265,\n        \"samples\": [\n          1324.15,\n          364.65,\n          304.6\n        ],\n        \"semantic_type\": \"\",\n        \"description\": \"\"\n      }\n    },\n    {\n      \"column\": \"TCS\",\n      \"properties\": {\n        \"dtype\": \"number\",\n        \"std\": 576.3687418892803,\n        \"min\": 1636.35,\n        \"max\": 4219.25,\n        \"num_unique_values\": 2418,\n        \"samples\": [\n          2547.6,\n          2457.15,\n          2958.45\n        ],\n        \"semantic_type\": \"\",\n        \"description\": \"\"\n      }\n    }\n  ]\n}"
            }
          },
          "metadata": {},
          "execution_count": 6
        }
      ]
    },
    {
      "cell_type": "code",
      "execution_count": 6,
      "metadata": {
        "id": "jUTJBODrtYMm"
      },
      "outputs": [],
      "source": []
    },
    {
      "cell_type": "markdown",
      "source": [
        "### Downloading Data"
      ],
      "metadata": {
        "id": "VeFn7vuqpOKX"
      }
    },
    {
      "cell_type": "code",
      "source": [
        "date_series = ['2014-01-01']\n",
        "while datetime.date.fromisoformat(date_series[-1]) < datetime.date.fromisoformat('2023-03-28'):\n",
        "    date_series.append(\n",
        "        (datetime.date.fromisoformat(date_series[-1]) + datetime.timedelta(days = 1)).strftime('%Y-%m-%d')\n",
        "    )"
      ],
      "metadata": {
        "id": "TRLo_OwjtYMp"
      },
      "execution_count": 7,
      "outputs": []
    },
    {
      "cell_type": "code",
      "source": [
        "selected_eq = [\n",
        "    'AXISBANK', 'BHARTIARTL', 'HDFCBANK', 'ICICIBANK', 'INFY', 'ITC', 'LT',\n",
        "    'RELIANCE', 'SBIN', 'TATAMOTORS', 'TATASTEEL', 'TCS'\n",
        "]\n",
        "con = ddb.connect('/content/drive/MyDrive/MScFE Capstone Project /MScFE_Capstone_Project_Group_Work/DataSource/nifty_50_dataset.db')\n",
        "data = pd.DataFrame()\n",
        "data['timestamp'] = date_series\n",
        "for i, ticker in enumerate(selected_eq):\n",
        "    temp = con.sql(f'select CH_TIMESTAMP as timestamp, CH_CLOSING_PRICE as {ticker} from {ticker}').df().drop_duplicates('timestamp')\n",
        "    data = pd.merge(data, temp, how = 'outer', on = 'timestamp')\n",
        "    print(ticker, data.shape)\n",
        "con.close()"
      ],
      "metadata": {
        "colab": {
          "base_uri": "https://localhost:8080/"
        },
        "outputId": "431a19c4-2f36-40f7-cce9-7b3a3091a37e",
        "id": "ORh5_5grtYMq"
      },
      "execution_count": 8,
      "outputs": [
        {
          "output_type": "stream",
          "name": "stdout",
          "text": [
            "AXISBANK (3622, 2)\n",
            "BHARTIARTL (3622, 3)\n",
            "HDFCBANK (3622, 4)\n",
            "ICICIBANK (3622, 5)\n",
            "INFY (3622, 6)\n",
            "ITC (3622, 7)\n",
            "LT (3622, 8)\n",
            "RELIANCE (3622, 9)\n",
            "SBIN (3622, 10)\n",
            "TATAMOTORS (3622, 11)\n",
            "TATASTEEL (3622, 12)\n",
            "TCS (3622, 13)\n"
          ]
        }
      ]
    },
    {
      "cell_type": "code",
      "source": [
        "data['timestamp'] = pd.to_datetime(data.timestamp, format = '%Y-%m-%d')\n",
        "data.set_index('timestamp', inplace = True)\n",
        "data.dropna(how = 'all', inplace = True)\n",
        "data.isnull().sum()"
      ],
      "metadata": {
        "colab": {
          "base_uri": "https://localhost:8080/"
        },
        "outputId": "56b5f455-bc43-4c8c-90a1-39c3795bf110",
        "id": "cjA1n2lJtYMr"
      },
      "execution_count": 9,
      "outputs": [
        {
          "output_type": "execute_result",
          "data": {
            "text/plain": [
              "AXISBANK      0\n",
              "BHARTIARTL    0\n",
              "HDFCBANK      0\n",
              "ICICIBANK     0\n",
              "INFY          0\n",
              "ITC           0\n",
              "LT            0\n",
              "RELIANCE      0\n",
              "SBIN          0\n",
              "TATAMOTORS    0\n",
              "TATASTEEL     0\n",
              "TCS           0\n",
              "dtype: int64"
            ]
          },
          "metadata": {},
          "execution_count": 9
        }
      ]
    },
    {
      "cell_type": "code",
      "source": [
        "data = data.astype(float)"
      ],
      "metadata": {
        "id": "gOTep6_utYMs"
      },
      "execution_count": 10,
      "outputs": []
    },
    {
      "cell_type": "code",
      "source": [
        "data.head()"
      ],
      "metadata": {
        "colab": {
          "base_uri": "https://localhost:8080/",
          "height": 237
        },
        "outputId": "a052a1c7-955c-463e-8886-25004b874148",
        "id": "2JrSdPcZtYMs"
      },
      "execution_count": 11,
      "outputs": [
        {
          "output_type": "execute_result",
          "data": {
            "text/plain": [
              "            AXISBANK  BHARTIARTL  HDFCBANK  ICICIBANK     INFY     ITC  \\\n",
              "timestamp                                                                \n",
              "2014-01-01   1292.20      337.75    665.15     1097.7  3468.00  322.40   \n",
              "2014-01-02   1272.30      328.70    657.00     1075.6  3480.55  314.95   \n",
              "2014-01-03   1260.90      329.35    663.10     1066.8  3565.15  314.75   \n",
              "2014-01-06   1256.30      329.35    661.70     1040.8  3517.90  315.65   \n",
              "2014-01-07   1234.25      331.70    664.40     1050.0  3457.15  316.70   \n",
              "\n",
              "                 LT  RELIANCE     SBIN  TATAMOTORS  TATASTEEL      TCS  \n",
              "timestamp                                                               \n",
              "2014-01-01  1068.55    888.80  1765.05      374.95      425.9  2153.30  \n",
              "2014-01-02  1036.05    875.00  1742.60      372.35      419.2  2167.00  \n",
              "2014-01-03  1012.05    864.25  1719.65      362.70      412.5  2222.20  \n",
              "2014-01-06  1010.50    854.95  1688.15      366.95      408.3  2239.60  \n",
              "2014-01-07  1019.50    842.10  1661.40      365.10      394.7  2206.15  "
            ],
            "text/html": [
              "\n",
              "  <div id=\"df-92253483-e20c-42d9-8c0f-464c5d081823\" class=\"colab-df-container\">\n",
              "    <div>\n",
              "<style scoped>\n",
              "    .dataframe tbody tr th:only-of-type {\n",
              "        vertical-align: middle;\n",
              "    }\n",
              "\n",
              "    .dataframe tbody tr th {\n",
              "        vertical-align: top;\n",
              "    }\n",
              "\n",
              "    .dataframe thead th {\n",
              "        text-align: right;\n",
              "    }\n",
              "</style>\n",
              "<table border=\"1\" class=\"dataframe\">\n",
              "  <thead>\n",
              "    <tr style=\"text-align: right;\">\n",
              "      <th></th>\n",
              "      <th>AXISBANK</th>\n",
              "      <th>BHARTIARTL</th>\n",
              "      <th>HDFCBANK</th>\n",
              "      <th>ICICIBANK</th>\n",
              "      <th>INFY</th>\n",
              "      <th>ITC</th>\n",
              "      <th>LT</th>\n",
              "      <th>RELIANCE</th>\n",
              "      <th>SBIN</th>\n",
              "      <th>TATAMOTORS</th>\n",
              "      <th>TATASTEEL</th>\n",
              "      <th>TCS</th>\n",
              "    </tr>\n",
              "    <tr>\n",
              "      <th>timestamp</th>\n",
              "      <th></th>\n",
              "      <th></th>\n",
              "      <th></th>\n",
              "      <th></th>\n",
              "      <th></th>\n",
              "      <th></th>\n",
              "      <th></th>\n",
              "      <th></th>\n",
              "      <th></th>\n",
              "      <th></th>\n",
              "      <th></th>\n",
              "      <th></th>\n",
              "    </tr>\n",
              "  </thead>\n",
              "  <tbody>\n",
              "    <tr>\n",
              "      <th>2014-01-01</th>\n",
              "      <td>1292.20</td>\n",
              "      <td>337.75</td>\n",
              "      <td>665.15</td>\n",
              "      <td>1097.7</td>\n",
              "      <td>3468.00</td>\n",
              "      <td>322.40</td>\n",
              "      <td>1068.55</td>\n",
              "      <td>888.80</td>\n",
              "      <td>1765.05</td>\n",
              "      <td>374.95</td>\n",
              "      <td>425.9</td>\n",
              "      <td>2153.30</td>\n",
              "    </tr>\n",
              "    <tr>\n",
              "      <th>2014-01-02</th>\n",
              "      <td>1272.30</td>\n",
              "      <td>328.70</td>\n",
              "      <td>657.00</td>\n",
              "      <td>1075.6</td>\n",
              "      <td>3480.55</td>\n",
              "      <td>314.95</td>\n",
              "      <td>1036.05</td>\n",
              "      <td>875.00</td>\n",
              "      <td>1742.60</td>\n",
              "      <td>372.35</td>\n",
              "      <td>419.2</td>\n",
              "      <td>2167.00</td>\n",
              "    </tr>\n",
              "    <tr>\n",
              "      <th>2014-01-03</th>\n",
              "      <td>1260.90</td>\n",
              "      <td>329.35</td>\n",
              "      <td>663.10</td>\n",
              "      <td>1066.8</td>\n",
              "      <td>3565.15</td>\n",
              "      <td>314.75</td>\n",
              "      <td>1012.05</td>\n",
              "      <td>864.25</td>\n",
              "      <td>1719.65</td>\n",
              "      <td>362.70</td>\n",
              "      <td>412.5</td>\n",
              "      <td>2222.20</td>\n",
              "    </tr>\n",
              "    <tr>\n",
              "      <th>2014-01-06</th>\n",
              "      <td>1256.30</td>\n",
              "      <td>329.35</td>\n",
              "      <td>661.70</td>\n",
              "      <td>1040.8</td>\n",
              "      <td>3517.90</td>\n",
              "      <td>315.65</td>\n",
              "      <td>1010.50</td>\n",
              "      <td>854.95</td>\n",
              "      <td>1688.15</td>\n",
              "      <td>366.95</td>\n",
              "      <td>408.3</td>\n",
              "      <td>2239.60</td>\n",
              "    </tr>\n",
              "    <tr>\n",
              "      <th>2014-01-07</th>\n",
              "      <td>1234.25</td>\n",
              "      <td>331.70</td>\n",
              "      <td>664.40</td>\n",
              "      <td>1050.0</td>\n",
              "      <td>3457.15</td>\n",
              "      <td>316.70</td>\n",
              "      <td>1019.50</td>\n",
              "      <td>842.10</td>\n",
              "      <td>1661.40</td>\n",
              "      <td>365.10</td>\n",
              "      <td>394.7</td>\n",
              "      <td>2206.15</td>\n",
              "    </tr>\n",
              "  </tbody>\n",
              "</table>\n",
              "</div>\n",
              "    <div class=\"colab-df-buttons\">\n",
              "\n",
              "  <div class=\"colab-df-container\">\n",
              "    <button class=\"colab-df-convert\" onclick=\"convertToInteractive('df-92253483-e20c-42d9-8c0f-464c5d081823')\"\n",
              "            title=\"Convert this dataframe to an interactive table.\"\n",
              "            style=\"display:none;\">\n",
              "\n",
              "  <svg xmlns=\"http://www.w3.org/2000/svg\" height=\"24px\" viewBox=\"0 -960 960 960\">\n",
              "    <path d=\"M120-120v-720h720v720H120Zm60-500h600v-160H180v160Zm220 220h160v-160H400v160Zm0 220h160v-160H400v160ZM180-400h160v-160H180v160Zm440 0h160v-160H620v160ZM180-180h160v-160H180v160Zm440 0h160v-160H620v160Z\"/>\n",
              "  </svg>\n",
              "    </button>\n",
              "\n",
              "  <style>\n",
              "    .colab-df-container {\n",
              "      display:flex;\n",
              "      gap: 12px;\n",
              "    }\n",
              "\n",
              "    .colab-df-convert {\n",
              "      background-color: #E8F0FE;\n",
              "      border: none;\n",
              "      border-radius: 50%;\n",
              "      cursor: pointer;\n",
              "      display: none;\n",
              "      fill: #1967D2;\n",
              "      height: 32px;\n",
              "      padding: 0 0 0 0;\n",
              "      width: 32px;\n",
              "    }\n",
              "\n",
              "    .colab-df-convert:hover {\n",
              "      background-color: #E2EBFA;\n",
              "      box-shadow: 0px 1px 2px rgba(60, 64, 67, 0.3), 0px 1px 3px 1px rgba(60, 64, 67, 0.15);\n",
              "      fill: #174EA6;\n",
              "    }\n",
              "\n",
              "    .colab-df-buttons div {\n",
              "      margin-bottom: 4px;\n",
              "    }\n",
              "\n",
              "    [theme=dark] .colab-df-convert {\n",
              "      background-color: #3B4455;\n",
              "      fill: #D2E3FC;\n",
              "    }\n",
              "\n",
              "    [theme=dark] .colab-df-convert:hover {\n",
              "      background-color: #434B5C;\n",
              "      box-shadow: 0px 1px 3px 1px rgba(0, 0, 0, 0.15);\n",
              "      filter: drop-shadow(0px 1px 2px rgba(0, 0, 0, 0.3));\n",
              "      fill: #FFFFFF;\n",
              "    }\n",
              "  </style>\n",
              "\n",
              "    <script>\n",
              "      const buttonEl =\n",
              "        document.querySelector('#df-92253483-e20c-42d9-8c0f-464c5d081823 button.colab-df-convert');\n",
              "      buttonEl.style.display =\n",
              "        google.colab.kernel.accessAllowed ? 'block' : 'none';\n",
              "\n",
              "      async function convertToInteractive(key) {\n",
              "        const element = document.querySelector('#df-92253483-e20c-42d9-8c0f-464c5d081823');\n",
              "        const dataTable =\n",
              "          await google.colab.kernel.invokeFunction('convertToInteractive',\n",
              "                                                    [key], {});\n",
              "        if (!dataTable) return;\n",
              "\n",
              "        const docLinkHtml = 'Like what you see? Visit the ' +\n",
              "          '<a target=\"_blank\" href=https://colab.research.google.com/notebooks/data_table.ipynb>data table notebook</a>'\n",
              "          + ' to learn more about interactive tables.';\n",
              "        element.innerHTML = '';\n",
              "        dataTable['output_type'] = 'display_data';\n",
              "        await google.colab.output.renderOutput(dataTable, element);\n",
              "        const docLink = document.createElement('div');\n",
              "        docLink.innerHTML = docLinkHtml;\n",
              "        element.appendChild(docLink);\n",
              "      }\n",
              "    </script>\n",
              "  </div>\n",
              "\n",
              "\n",
              "<div id=\"df-2f6f8320-7f8e-4a1a-85ed-e30e792f72b8\">\n",
              "  <button class=\"colab-df-quickchart\" onclick=\"quickchart('df-2f6f8320-7f8e-4a1a-85ed-e30e792f72b8')\"\n",
              "            title=\"Suggest charts\"\n",
              "            style=\"display:none;\">\n",
              "\n",
              "<svg xmlns=\"http://www.w3.org/2000/svg\" height=\"24px\"viewBox=\"0 0 24 24\"\n",
              "     width=\"24px\">\n",
              "    <g>\n",
              "        <path d=\"M19 3H5c-1.1 0-2 .9-2 2v14c0 1.1.9 2 2 2h14c1.1 0 2-.9 2-2V5c0-1.1-.9-2-2-2zM9 17H7v-7h2v7zm4 0h-2V7h2v10zm4 0h-2v-4h2v4z\"/>\n",
              "    </g>\n",
              "</svg>\n",
              "  </button>\n",
              "\n",
              "<style>\n",
              "  .colab-df-quickchart {\n",
              "      --bg-color: #E8F0FE;\n",
              "      --fill-color: #1967D2;\n",
              "      --hover-bg-color: #E2EBFA;\n",
              "      --hover-fill-color: #174EA6;\n",
              "      --disabled-fill-color: #AAA;\n",
              "      --disabled-bg-color: #DDD;\n",
              "  }\n",
              "\n",
              "  [theme=dark] .colab-df-quickchart {\n",
              "      --bg-color: #3B4455;\n",
              "      --fill-color: #D2E3FC;\n",
              "      --hover-bg-color: #434B5C;\n",
              "      --hover-fill-color: #FFFFFF;\n",
              "      --disabled-bg-color: #3B4455;\n",
              "      --disabled-fill-color: #666;\n",
              "  }\n",
              "\n",
              "  .colab-df-quickchart {\n",
              "    background-color: var(--bg-color);\n",
              "    border: none;\n",
              "    border-radius: 50%;\n",
              "    cursor: pointer;\n",
              "    display: none;\n",
              "    fill: var(--fill-color);\n",
              "    height: 32px;\n",
              "    padding: 0;\n",
              "    width: 32px;\n",
              "  }\n",
              "\n",
              "  .colab-df-quickchart:hover {\n",
              "    background-color: var(--hover-bg-color);\n",
              "    box-shadow: 0 1px 2px rgba(60, 64, 67, 0.3), 0 1px 3px 1px rgba(60, 64, 67, 0.15);\n",
              "    fill: var(--button-hover-fill-color);\n",
              "  }\n",
              "\n",
              "  .colab-df-quickchart-complete:disabled,\n",
              "  .colab-df-quickchart-complete:disabled:hover {\n",
              "    background-color: var(--disabled-bg-color);\n",
              "    fill: var(--disabled-fill-color);\n",
              "    box-shadow: none;\n",
              "  }\n",
              "\n",
              "  .colab-df-spinner {\n",
              "    border: 2px solid var(--fill-color);\n",
              "    border-color: transparent;\n",
              "    border-bottom-color: var(--fill-color);\n",
              "    animation:\n",
              "      spin 1s steps(1) infinite;\n",
              "  }\n",
              "\n",
              "  @keyframes spin {\n",
              "    0% {\n",
              "      border-color: transparent;\n",
              "      border-bottom-color: var(--fill-color);\n",
              "      border-left-color: var(--fill-color);\n",
              "    }\n",
              "    20% {\n",
              "      border-color: transparent;\n",
              "      border-left-color: var(--fill-color);\n",
              "      border-top-color: var(--fill-color);\n",
              "    }\n",
              "    30% {\n",
              "      border-color: transparent;\n",
              "      border-left-color: var(--fill-color);\n",
              "      border-top-color: var(--fill-color);\n",
              "      border-right-color: var(--fill-color);\n",
              "    }\n",
              "    40% {\n",
              "      border-color: transparent;\n",
              "      border-right-color: var(--fill-color);\n",
              "      border-top-color: var(--fill-color);\n",
              "    }\n",
              "    60% {\n",
              "      border-color: transparent;\n",
              "      border-right-color: var(--fill-color);\n",
              "    }\n",
              "    80% {\n",
              "      border-color: transparent;\n",
              "      border-right-color: var(--fill-color);\n",
              "      border-bottom-color: var(--fill-color);\n",
              "    }\n",
              "    90% {\n",
              "      border-color: transparent;\n",
              "      border-bottom-color: var(--fill-color);\n",
              "    }\n",
              "  }\n",
              "</style>\n",
              "\n",
              "  <script>\n",
              "    async function quickchart(key) {\n",
              "      const quickchartButtonEl =\n",
              "        document.querySelector('#' + key + ' button');\n",
              "      quickchartButtonEl.disabled = true;  // To prevent multiple clicks.\n",
              "      quickchartButtonEl.classList.add('colab-df-spinner');\n",
              "      try {\n",
              "        const charts = await google.colab.kernel.invokeFunction(\n",
              "            'suggestCharts', [key], {});\n",
              "      } catch (error) {\n",
              "        console.error('Error during call to suggestCharts:', error);\n",
              "      }\n",
              "      quickchartButtonEl.classList.remove('colab-df-spinner');\n",
              "      quickchartButtonEl.classList.add('colab-df-quickchart-complete');\n",
              "    }\n",
              "    (() => {\n",
              "      let quickchartButtonEl =\n",
              "        document.querySelector('#df-2f6f8320-7f8e-4a1a-85ed-e30e792f72b8 button');\n",
              "      quickchartButtonEl.style.display =\n",
              "        google.colab.kernel.accessAllowed ? 'block' : 'none';\n",
              "    })();\n",
              "  </script>\n",
              "</div>\n",
              "    </div>\n",
              "  </div>\n"
            ],
            "application/vnd.google.colaboratory.intrinsic+json": {
              "type": "dataframe",
              "variable_name": "data",
              "summary": "{\n  \"name\": \"data\",\n  \"rows\": 2532,\n  \"fields\": [\n    {\n      \"column\": \"timestamp\",\n      \"properties\": {\n        \"dtype\": \"date\",\n        \"min\": \"2014-01-01 00:00:00\",\n        \"max\": \"2024-03-28 00:00:00\",\n        \"num_unique_values\": 2532,\n        \"samples\": [\n          \"2024-02-14 00:00:00\",\n          \"2022-05-04 00:00:00\",\n          \"2014-10-17 00:00:00\"\n        ],\n        \"semantic_type\": \"\",\n        \"description\": \"\"\n      }\n    },\n    {\n      \"column\": \"AXISBANK\",\n      \"properties\": {\n        \"dtype\": \"number\",\n        \"std\": 278.14505166258584,\n        \"min\": 303.15,\n        \"max\": 2023.35,\n        \"num_unique_values\": 2287,\n        \"samples\": [\n          727.45,\n          541.65,\n          513.9\n        ],\n        \"semantic_type\": \"\",\n        \"description\": \"\"\n      }\n    },\n    {\n      \"column\": \"BHARTIARTL\",\n      \"properties\": {\n        \"dtype\": \"number\",\n        \"std\": 206.91109928326475,\n        \"min\": 282.75,\n        \"max\": 1236.1,\n        \"num_unique_values\": 2136,\n        \"samples\": [\n          574.4,\n          349.75,\n          320.35\n        ],\n        \"semantic_type\": \"\",\n        \"description\": \"\"\n      }\n    },\n    {\n      \"column\": \"HDFCBANK\",\n      \"properties\": {\n        \"dtype\": \"number\",\n        \"std\": 411.3689790101052,\n        \"min\": 626.5,\n        \"max\": 2495.0,\n        \"num_unique_values\": 2395,\n        \"samples\": [\n          1064.35,\n          896.65,\n          915.8\n        ],\n        \"semantic_type\": \"\",\n        \"description\": \"\"\n      }\n    },\n    {\n      \"column\": \"ICICIBANK\",\n      \"properties\": {\n        \"dtype\": \"number\",\n        \"std\": 351.356715896727,\n        \"min\": 183.0,\n        \"max\": 1794.1,\n        \"num_unique_values\": 2276,\n        \"samples\": [\n          1010.7,\n          536.45,\n          305.7\n        ],\n        \"semantic_type\": \"\",\n        \"description\": \"\"\n      }\n    },\n    {\n      \"column\": \"INFY\",\n      \"properties\": {\n        \"dtype\": \"number\",\n        \"std\": 757.4659231513399,\n        \"min\": 526.45,\n        \"max\": 4365.9,\n        \"num_unique_values\": 2411,\n        \"samples\": [\n          1515.3,\n          1594.0,\n          1427.95\n        ],\n        \"semantic_type\": \"\",\n        \"description\": \"\"\n      }\n    },\n    {\n      \"column\": \"ITC\",\n      \"properties\": {\n        \"dtype\": \"number\",\n        \"std\": 71.19004766781349,\n        \"min\": 147.25,\n        \"max\": 492.15,\n        \"num_unique_values\": 1949,\n        \"samples\": [\n          300.55,\n          218.5,\n          276.05\n        ],\n        \"semantic_type\": \"\",\n        \"description\": \"\"\n      }\n    },\n    {\n      \"column\": \"LT\",\n      \"properties\": {\n        \"dtype\": \"number\",\n        \"std\": 535.500291522879,\n        \"min\": 707.9,\n        \"max\": 3763.9,\n        \"num_unique_values\": 2406,\n        \"samples\": [\n          3424.25,\n          941.25,\n          1380.8\n        ],\n        \"semantic_type\": \"\",\n        \"description\": \"\"\n      }\n    },\n    {\n      \"column\": \"RELIANCE\",\n      \"properties\": {\n        \"dtype\": \"number\",\n        \"std\": 656.6516062894866,\n        \"min\": 780.9,\n        \"max\": 3014.8,\n        \"num_unique_values\": 2402,\n        \"samples\": [\n          1077.4,\n          1090.05,\n          2156.2\n        ],\n        \"semantic_type\": \"\",\n        \"description\": \"\"\n      }\n    },\n    {\n      \"column\": \"SBIN\",\n      \"properties\": {\n        \"dtype\": \"number\",\n        \"std\": 554.1030232582177,\n        \"min\": 150.85,\n        \"max\": 2945.75,\n        \"num_unique_values\": 2160,\n        \"samples\": [\n          585.65,\n          259.1,\n          598.15\n        ],\n        \"semantic_type\": \"\",\n        \"description\": \"\"\n      }\n    },\n    {\n      \"column\": \"TATAMOTORS\",\n      \"properties\": {\n        \"dtype\": \"number\",\n        \"std\": 167.65187985616856,\n        \"min\": 65.3,\n        \"max\": 1039.3,\n        \"num_unique_values\": 2215,\n        \"samples\": [\n          105.05,\n          86.1,\n          457.9\n        ],\n        \"semantic_type\": \"\",\n        \"description\": \"\"\n      }\n    },\n    {\n      \"column\": \"TATASTEEL\",\n      \"properties\": {\n        \"dtype\": \"number\",\n        \"std\": 318.70856407507415,\n        \"min\": 95.2,\n        \"max\": 1519.4,\n        \"num_unique_values\": 2265,\n        \"samples\": [\n          1324.15,\n          364.65,\n          304.6\n        ],\n        \"semantic_type\": \"\",\n        \"description\": \"\"\n      }\n    },\n    {\n      \"column\": \"TCS\",\n      \"properties\": {\n        \"dtype\": \"number\",\n        \"std\": 576.3687418892803,\n        \"min\": 1636.35,\n        \"max\": 4219.25,\n        \"num_unique_values\": 2418,\n        \"samples\": [\n          2547.6,\n          2457.15,\n          2958.45\n        ],\n        \"semantic_type\": \"\",\n        \"description\": \"\"\n      }\n    }\n  ]\n}"
            }
          },
          "metadata": {},
          "execution_count": 11
        }
      ]
    },
    {
      "cell_type": "code",
      "source": [
        "data.columns"
      ],
      "metadata": {
        "colab": {
          "base_uri": "https://localhost:8080/"
        },
        "id": "D73kouFl5ShY",
        "outputId": "58111f96-1b7a-4a87-8536-2b1c10fdb742"
      },
      "execution_count": 12,
      "outputs": [
        {
          "output_type": "execute_result",
          "data": {
            "text/plain": [
              "Index(['AXISBANK', 'BHARTIARTL', 'HDFCBANK', 'ICICIBANK', 'INFY', 'ITC', 'LT',\n",
              "       'RELIANCE', 'SBIN', 'TATAMOTORS', 'TATASTEEL', 'TCS'],\n",
              "      dtype='object')"
            ]
          },
          "metadata": {},
          "execution_count": 12
        }
      ]
    },
    {
      "cell_type": "markdown",
      "source": [
        "### Data Preparation for Model"
      ],
      "metadata": {
        "id": "cPLu2Pi0s-Kc"
      }
    },
    {
      "cell_type": "code",
      "source": [
        "#Return calculation\n",
        "def ReturnCalculation (Database,lag):\n",
        "    dimension=Database.shape[0];dif=lag;Out=np.zeros([dimension-dif])\n",
        "    for i in range(dimension-dif):\n",
        "        Out[i]=(np.log(Database[i+dif])-np.log(Database[i]))\n",
        "    return np.append(np.repeat(np.nan, dif),Out)\n",
        "\n",
        "#STD Calculation\n",
        "def SDCalculation (DailyReturns, LagSD):\n",
        "    dimension=DailyReturns.shape[0]; dif=LagSD; Out=np.zeros([dimension-dif])\n",
        "    for i in range (dimension-dif):\n",
        "        Out[i]=np.std(DailyReturns[i:i+LagSD],ddof=1)\n",
        "    return np.append(np.repeat(np.nan, dif),Out)"
      ],
      "metadata": {
        "id": "c8NA1ypEvPVc"
      },
      "execution_count": 13,
      "outputs": []
    },
    {
      "cell_type": "code",
      "source": [
        "return_data = pd.DataFrame(index = data.index)\n",
        "for col in data.columns:\n",
        "    return_data[col + '_lag_return']  = ReturnCalculation(data[col], 5)\n",
        "    return_data[col + '_lag_sd'] = SDCalculation(data[col], 5)\n",
        "    return_data[col + '_true_return'] = ReturnCalculation(data[col], 1)\n",
        "return_data.dropna(inplace  =True)"
      ],
      "metadata": {
        "id": "iprZLbvHyIKu"
      },
      "execution_count": 14,
      "outputs": []
    },
    {
      "cell_type": "code",
      "source": [
        "xdata = return_data[[col for col in return_data.columns if 'true' not in col]]\n",
        "ydata = return_data[[col for col in return_data.columns if 'true' in col]]\n",
        "xdata.shape, ydata.shape"
      ],
      "metadata": {
        "colab": {
          "base_uri": "https://localhost:8080/"
        },
        "id": "nCfMzuZU9DKB",
        "outputId": "50600a61-653d-4fe9-8891-b56d5c0300e3"
      },
      "execution_count": 15,
      "outputs": [
        {
          "output_type": "execute_result",
          "data": {
            "text/plain": [
              "((2527, 24), (2527, 12))"
            ]
          },
          "metadata": {},
          "execution_count": 15
        }
      ]
    },
    {
      "cell_type": "code",
      "source": [
        "scaler = StandardScaler().fit(xdata)\n",
        "scaled_xdata = scaler.transform(xdata)\n",
        "scaled_xdata"
      ],
      "metadata": {
        "colab": {
          "base_uri": "https://localhost:8080/"
        },
        "id": "tkJqtvD89PSU",
        "outputId": "00fb5552-30e2-492d-f02f-6ac944381825"
      },
      "execution_count": 16,
      "outputs": [
        {
          "output_type": "execute_result",
          "data": {
            "text/plain": [
              "array([[-0.72205919,  0.25809263, -0.37485714, ...,  0.04524391,\n",
              "         0.73936225, -0.00368889],\n",
              "       [-0.80081029,  0.34340558,  0.02298925, ...,  0.03123295,\n",
              "         0.6938356 , -0.17133434],\n",
              "       [-0.89979993,  0.5759377 ,  0.04219102, ..., -0.05100363,\n",
              "         0.52863644, -0.48332398],\n",
              "       ...,\n",
              "       [ 0.27306036, -0.18892427, -0.29785716, ..., -0.55232703,\n",
              "        -0.8355729 ,  0.2377543 ],\n",
              "       [ 0.24239934, -0.14658374, -0.00209913, ..., -0.54457596,\n",
              "        -0.91308532,  0.47889926],\n",
              "       [ 0.00649204, -0.26166517, -0.08655103, ..., -0.5421701 ,\n",
              "        -0.19824492,  0.0313815 ]])"
            ]
          },
          "metadata": {},
          "execution_count": 16
        }
      ]
    },
    {
      "cell_type": "code",
      "source": [
        "def position_encoding_init(n_position, d_pos_vec):\n",
        "    position_enc = np.array([\n",
        "        [math.pi*(pos/(n_position-1)) for i in range(d_pos_vec)]\n",
        "        if pos != 0 else np.zeros(d_pos_vec) for pos in range(n_position)])\n",
        "    return np.cos(position_enc)\n",
        "\n",
        "def transformer_database(timestep, xdata, ydata):\n",
        "    features = xdata.shape[1]\n",
        "    sample = xdata.shape[0] - timestep + 1\n",
        "    output = ydata.shape[1]\n",
        "    XDataTrainScaledRNN = np.zeros([sample, timestep, features])\n",
        "    pos_encoding=position_encoding_init(timestep, xdata.shape[1])\n",
        "    YDataTrainRNN = ydata.iloc[timestep - 1:, :].values\n",
        "    for i in range(sample):\n",
        "        XDataTrainScaledRNN[i, :, :] = xdata[i:(timestep + i)] + pos_encoding\n",
        "    return tf.convert_to_tensor(XDataTrainScaledRNN, np.float32), tf.convert_to_tensor(YDataTrainRNN, np.float32)"
      ],
      "metadata": {
        "id": "3XhjDWuY9xY5"
      },
      "execution_count": 17,
      "outputs": []
    },
    {
      "cell_type": "code",
      "source": [
        "timestep = 16"
      ],
      "metadata": {
        "id": "iK9U1Ia2zIaQ"
      },
      "execution_count": 18,
      "outputs": []
    },
    {
      "cell_type": "code",
      "source": [
        "xtrainRNN, ytrainRNN = transformer_database(timestep, scaled_xdata, ydata)"
      ],
      "metadata": {
        "id": "2-pdTT5l_AjF"
      },
      "execution_count": 19,
      "outputs": []
    },
    {
      "cell_type": "code",
      "source": [
        "xtrainRNN[0, :, :][0]"
      ],
      "metadata": {
        "colab": {
          "base_uri": "https://localhost:8080/"
        },
        "id": "t1h3blwDH05N",
        "outputId": "35b94fcc-fdca-4eca-861d-09451c508ce5"
      },
      "execution_count": 20,
      "outputs": [
        {
          "output_type": "execute_result",
          "data": {
            "text/plain": [
              "<tf.Tensor: shape=(24,), dtype=float32, numpy=\n",
              "array([ 0.2779408 ,  1.2580926 ,  0.6251429 ,  0.60820764,  0.94107896,\n",
              "        0.43127656,  0.5280039 ,  1.4206057 ,  0.85715216,  1.4006661 ,\n",
              "        0.5581461 ,  0.80579853, -0.38371873,  0.97127616,  0.09559315,\n",
              "        0.76615757,  0.460198  ,  1.5710223 ,  0.8268885 ,  0.77711815,\n",
              "        0.2907853 ,  1.0452439 ,  1.7393622 ,  0.9963111 ], dtype=float32)>"
            ]
          },
          "metadata": {},
          "execution_count": 20
        }
      ]
    },
    {
      "cell_type": "markdown",
      "source": [
        "### Model Architecture"
      ],
      "metadata": {
        "id": "oAIBZP6NpR4X"
      }
    },
    {
      "cell_type": "markdown",
      "source": [
        "The architecture of the model is structured as follows by inspiring the work of  Eduardo Ramos-Pérez, Pablo J. Alonso-González and José Javier Núñez-Velázquez."
      ],
      "metadata": {
        "id": "xO9Sgi5NpYl_"
      }
    },
    {
      "cell_type": "code",
      "source": [
        "###MultiHeadSelfAttention\n",
        "class MultiHeadSelfAttention(tf.keras.layers.Layer):\n",
        "    def __init__(self, embed_dim, num_heads = 8):\n",
        "        super(MultiHeadSelfAttention, self).__init__()\n",
        "        self.embed_dim = embed_dim\n",
        "        self.num_heads = num_heads\n",
        "        if embed_dim % num_heads != 0:\n",
        "            raise ValueError(\n",
        "                f\"embedding dimensions = {embed_dim} should be divisible by number of heads = {num_heads}\"\n",
        "            )\n",
        "        self.projection_dim = embed_dim // num_heads\n",
        "        self.query_dense = tf.keras.layers.Dense(embed_dim)\n",
        "        self.key_dense = tf.keras.layers.Dense(embed_dim)\n",
        "        self.value_dense = tf.keras.layers.Dense(embed_dim)\n",
        "        self.combine_heads = tf.keras.layers.Dense(embed_dim)\n",
        "    def attention(self, query, key, value):\n",
        "        score = tf.matmul(query, key, transpose_b = True)\n",
        "        dim_key = tf.cast(tf.shape(key)[-1], tf.float32)\n",
        "        scaled_score = score / tf.math.sqrt(dim_key)\n",
        "        weights = tf.nn.softmax(scaled_score, axis = -1)\n",
        "        output = tf.matmul(weights, value)\n",
        "        return output, weights\n",
        "    def separate_heads(self, x, batch_size):\n",
        "        x = tf.reshape(x, (batch_size, -1, self.num_heads, self.projection_dim))\n",
        "        return tf.transpose(x, perm = [0, 2, 1, 3])\n",
        "    def call(self, inputs):\n",
        "        batch_size = tf.shape(inputs)[0]\n",
        "        query = self.query_dense(inputs)  # (batch_size, seq_len, embed_dim)\n",
        "        key = self.key_dense(inputs)  # (batch_size, seq_len, embed_dim)\n",
        "        value = self.value_dense(inputs)  # (batch_size, seq_len, embed_dim)\n",
        "        query = self.separate_heads(query, batch_size)  # (batch_size, num_heads, seq_len, projection_dim)\n",
        "        key = self.separate_heads(key, batch_size)  # (batch_size, num_heads, seq_len, projection_dim)\n",
        "        value = self.separate_heads(value, batch_size)  # (batch_size, num_heads, seq_len, projection_dim)\n",
        "        attention, weights = self.attention(query, key, value)\n",
        "        attention = tf.transpose(attention, perm=[0, 2, 1, 3])  # (batch_size, seq_len, num_heads, projection_dim)\n",
        "        concat_attention = tf.reshape(attention, (batch_size, -1, self.embed_dim))  # (batch_size, seq_len, embed_dim)\n",
        "        output = self.combine_heads(concat_attention)  # (batch_size, seq_len, embed_dim)\n",
        "        return output\n"
      ],
      "metadata": {
        "id": "v9Z4V6igswAo"
      },
      "execution_count": 21,
      "outputs": []
    },
    {
      "cell_type": "markdown",
      "source": [
        "In the HybridTransformer_Block, the input is firstly processed with the LSTM layer in replace of positional encoding in Vanilla Transformer. The sharpe loss function is implemented as an objective function for the model. Before the output is optimized to update the layer parameters, the output is processed for weight constraint where the sum of all weights in a portfolio must be equal to 1. The output is then clipped so that the users can enhance the distribution of weight without puting all investment in a single asset whenever that asset has higher average return and higher risk."
      ],
      "metadata": {
        "id": "rhbPj8JipngT"
      }
    },
    {
      "cell_type": "code",
      "source": [
        "###Transformer Keras Block\n",
        "class TransformerBlock(tf.keras.layers.Layer):\n",
        "    def __init__(self, embed_dim, num_heads, ff_dim, rate = 0.1):\n",
        "        super(TransformerBlock, self).__init__()\n",
        "        self.att = MultiHeadSelfAttention(embed_dim, num_heads)\n",
        "        self.ffn = tf.keras.Sequential([tf.keras.layers.Dense(ff_dim, activation = \"relu\"), tf.keras.layers.Dense(embed_dim),])\n",
        "        self.layernorm1 = tf.keras.layers.LayerNormalization(epsilon = 1e-6)\n",
        "        self.layernorm2 = tf.keras.layers.LayerNormalization(epsilon = 1e-6)\n",
        "        self.dropout1 = tf.keras.layers.Dropout(rate)\n",
        "        self.dropout2 = tf.keras.layers.Dropout(rate)\n",
        "    def call(self, inputs, training):\n",
        "        attn_output = self.att(inputs)\n",
        "        attn_output = self.dropout1(attn_output, training = training)\n",
        "        out1 = self.layernorm1(inputs + attn_output)\n",
        "        ffn_output = self.ffn(out1)\n",
        "        ffn_output = self.dropout2(ffn_output, training = training)\n",
        "        return self.layernorm2(out1 + ffn_output)\n",
        "\n",
        "\n",
        "class HybridTransformer_Portfolio(tf.keras.layers.Layer):\n",
        "    def __init__(self, shape1, shape2, outputShape, headsAttention, dropout, learningRate, priceData, ub, lb):\n",
        "        self.shape1 = shape1\n",
        "        self.shape2 = shape2\n",
        "        self.outputShape = outputShape\n",
        "        self.headsAttention = headsAttention\n",
        "        self.dropout = dropout\n",
        "        self.learningRate = learningRate\n",
        "        self.priceData = priceData\n",
        "        self.model = None\n",
        "        self.ub = ub\n",
        "        self.lb = lb\n",
        "\n",
        "    def rebalance(self, weight, lb, ub):\n",
        "        old = weight\n",
        "        weight_clamped = tf.clip_by_value(old, lb, ub)\n",
        "        while True:\n",
        "            leftover = (old - weight_clamped).sum().item()\n",
        "            nominees = weight_clamped[tf.where(weight_clamped != ub)[0]]\n",
        "            gift = leftover * (nominees / nominees.sum())\n",
        "            weight_clamped[tf.where(weight_clamped != ub)[0]] += gift\n",
        "            old = weight_clamped\n",
        "            if len(tf.where(weight_clamped > ub)[0]) ==0:\n",
        "                break\n",
        "            else:\n",
        "                weight_clamped = tf.clip_by_value(old, lb, ub)\n",
        "\n",
        "\n",
        "    def Transformer_Model(self):\n",
        "        #Model Structure is defined\n",
        "        Input = tf.keras.Input(shape = (self.shape1, self.shape2), name = 'Input')\n",
        "        #LSTM is applied on top of the transformer\n",
        "        #Pos_Encoding is Used for Vanilla Transformer\n",
        "        #X = tf.keras.layers.LSTM(units = 16, dropout = Dropout, return_sequences = True)(Input)\n",
        "        #Transformer architecture is implemented\n",
        "        transformer_block_1 = TransformerBlock(embed_dim = 24, num_heads=self.headsAttention, ff_dim = 8, rate = self.dropout, )\n",
        "        X = transformer_block_1(Input)\n",
        "\n",
        "        #Dense layers are used\n",
        "        X = tf.keras.layers.GlobalAveragePooling1D()(X)\n",
        "        X = tf.keras.layers.Dense(8, activation=tf.nn.sigmoid)(X)\n",
        "        X = tf.keras.layers.Dropout(Dropout)(X)\n",
        "        Output = tf.keras.layers.Dense(self.outputShape, activation=tf.nn.softmax, name=\"Output\")(X)\n",
        "\n",
        "        # scaling for the constraints sum = 1\n",
        "        Output = tf.math.divide(Output, tf.reduce_sum(Output, axis = 1, keepdims=True))\n",
        "\n",
        "        # clip the output for addressing weight bounds\n",
        "        Output = tf.clip_by_value(Output, clip_value_min = self.lb, clip_value_max = self.ub)\n",
        "\n",
        "        model = tf.keras.Model(inputs=Input, outputs=Output)\n",
        "        #Optimizer is defined\n",
        "        Opt = tf.keras.optimizers.Adam(learning_rate=LearningRate, beta_1=0.9, beta_2=0.999, epsilon=1e-07, amsgrad=False,name='Adam')\n",
        "\n",
        "        #Configuring Custom Loss Funciton with Mean Sharpe Ratio\n",
        "        def sharpe_loss(_, y_pred):\n",
        "            data = tf.divide(self.priceData, self.priceData[0])\n",
        "            y_pred = tf.unstack(y_pred)\n",
        "            sharpes = tf.zeros((1,1))\n",
        "            for y in y_pred:\n",
        "                portfolio_values = tf.reduce_sum(tf.multiply(data, y), axis=1, )\n",
        "                portfolio_returns = (portfolio_values[1:] - portfolio_values[:-1]) / portfolio_values[:-1]  # % change formula\n",
        "                sharpe = tf.keras.backend.mean(portfolio_returns) / tf.keras.backend.std(portfolio_returns)\n",
        "                sharpes = tf.concat((sharpes, tf.reshape(sharpe, (1, -1))), axis = 0)\n",
        "            return -tf.keras.backend.mean(sharpes[0][1:])\n",
        "\n",
        "        #Model is compiled\n",
        "        model.compile(optimizer=Opt, loss= sharpe_loss)\n",
        "        return model\n",
        "\n",
        "    def allocation(self, xtrainRNN, ytrainRNN, Epochs, BatchSize):\n",
        "        if self.model == None:\n",
        "            self.model = self.Transformer_Model()\n",
        "            self.model.fit(xtrainRNN, ytrainRNN, epochs = Epochs, verbose = 0, batch_size = BatchSize)\n",
        "            return self.model.predict(xtrainRNN)"
      ],
      "metadata": {
        "id": "k4z2v65ktO5q"
      },
      "execution_count": 31,
      "outputs": []
    },
    {
      "cell_type": "code",
      "source": [
        "Dropout = 0.05\n",
        "LearningRate = 0.01\n",
        "Epochs = 1000\n",
        "Alpha = 0.005\n",
        "DF = 4\n",
        "BatchSize = 16\n",
        "lb = 0\n",
        "ub = 0.3\n",
        "priceData = tf.convert_to_tensor(data.loc[xdata.iloc[timestep - 1 : timestep, :].index[0]:, :].values, np.float32)\n",
        "model = HybridTransformer_Portfolio(xtrainRNN.shape[1], xtrainRNN.shape[2], outputShape = ytrainRNN.shape[1],  headsAttention = 4, dropout= Dropout, learningRate = LearningRate, priceData = priceData, lb= 0.01, ub = 0.2)\n",
        "weights = model.allocation(xtrainRNN, ytrainRNN, Epochs = Epochs, BatchSize = BatchSize)"
      ],
      "metadata": {
        "id": "kuAEmJ-UJ2pC",
        "colab": {
          "base_uri": "https://localhost:8080/"
        },
        "outputId": "0d27ad85-4a1c-4cd0-baed-2976ac127c2f"
      },
      "execution_count": 32,
      "outputs": [
        {
          "output_type": "stream",
          "name": "stdout",
          "text": [
            "79/79 [==============================] - 0s 2ms/step\n"
          ]
        }
      ]
    },
    {
      "cell_type": "code",
      "source": [
        "weights"
      ],
      "metadata": {
        "colab": {
          "base_uri": "https://localhost:8080/"
        },
        "id": "T7ugpKWYKVXO",
        "outputId": "a95760c1-904f-443d-d379-8ca58ed989a5"
      },
      "execution_count": 33,
      "outputs": [
        {
          "output_type": "execute_result",
          "data": {
            "text/plain": [
              "array([[0.1104794 , 0.06375045, 0.05615333, ..., 0.04395669, 0.16761413,\n",
              "        0.10953581],\n",
              "       [0.11185599, 0.06469423, 0.05767881, ..., 0.04397224, 0.16857462,\n",
              "        0.10573842],\n",
              "       [0.11462917, 0.06472468, 0.05854079, ..., 0.04397188, 0.16888022,\n",
              "        0.10350251],\n",
              "       ...,\n",
              "       [0.09169663, 0.07897653, 0.06791159, ..., 0.03507238, 0.15948759,\n",
              "        0.09791385],\n",
              "       [0.08989351, 0.08440382, 0.06741456, ..., 0.03484925, 0.16105258,\n",
              "        0.09176052],\n",
              "       [0.09026007, 0.08503878, 0.06579529, ..., 0.03492308, 0.16303582,\n",
              "        0.09062966]], dtype=float32)"
            ]
          },
          "metadata": {},
          "execution_count": 33
        }
      ]
    },
    {
      "cell_type": "code",
      "source": [
        "weights[-1] * 100"
      ],
      "metadata": {
        "colab": {
          "base_uri": "https://localhost:8080/"
        },
        "id": "ImdV_GUiS5O2",
        "outputId": "b4adff1a-12f1-4565-aba1-52c4171a491f"
      },
      "execution_count": 35,
      "outputs": [
        {
          "output_type": "execute_result",
          "data": {
            "text/plain": [
              "array([ 9.026008 ,  8.503878 ,  6.579529 ,  7.169561 , 12.221941 ,\n",
              "        5.5880775,  8.230191 ,  7.4002924,  6.42166  ,  3.4923081,\n",
              "       16.303583 ,  9.062966 ], dtype=float32)"
            ]
          },
          "metadata": {},
          "execution_count": 35
        }
      ]
    },
    {
      "cell_type": "markdown",
      "source": [
        "After running the training and then repredict the xtrain data (which will be replaced on backtesting and comparison step), the model suggests the weight allocation as in above for the optimum sharpe ratio in each step."
      ],
      "metadata": {
        "id": "xevrjnrygugV"
      }
    },
    {
      "cell_type": "code",
      "source": [
        "weights.shape"
      ],
      "metadata": {
        "colab": {
          "base_uri": "https://localhost:8080/"
        },
        "id": "WrcrU-A5grIu",
        "outputId": "d390c3eb-833e-489f-89dd-8bd1c44468d5"
      },
      "execution_count": 36,
      "outputs": [
        {
          "output_type": "execute_result",
          "data": {
            "text/plain": [
              "(2512, 12)"
            ]
          },
          "metadata": {},
          "execution_count": 36
        }
      ]
    },
    {
      "cell_type": "code",
      "source": [
        "ytrainRNN.shape"
      ],
      "metadata": {
        "colab": {
          "base_uri": "https://localhost:8080/"
        },
        "id": "XzGvkEj8cKBy",
        "outputId": "ca288ab9-b3ce-47ec-a827-95b750e0f571"
      },
      "execution_count": 37,
      "outputs": [
        {
          "output_type": "execute_result",
          "data": {
            "text/plain": [
              "TensorShape([2512, 12])"
            ]
          },
          "metadata": {},
          "execution_count": 37
        }
      ]
    },
    {
      "cell_type": "code",
      "source": [],
      "metadata": {
        "id": "YXe807oDhKv4"
      },
      "execution_count": null,
      "outputs": []
    }
  ]
}